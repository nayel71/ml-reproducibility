{
  "nbformat": 4,
  "nbformat_minor": 0,
  "metadata": {
    "colab": {
      "provenance": [],
      "collapsed_sections": [
        "obt8CmA60ahv",
        "yzMgV354zOxO",
        "NJYk63mjzeN_"
      ]
    },
    "kernelspec": {
      "name": "python3",
      "display_name": "Python 3"
    },
    "language_info": {
      "name": "python"
    },
    "widgets": {
      "application/vnd.jupyter.widget-state+json": {
        "16c39073c17c4c9bae7e10c11f99e610": {
          "model_module": "@jupyter-widgets/controls",
          "model_name": "HBoxModel",
          "model_module_version": "1.5.0",
          "state": {
            "_dom_classes": [],
            "_model_module": "@jupyter-widgets/controls",
            "_model_module_version": "1.5.0",
            "_model_name": "HBoxModel",
            "_view_count": null,
            "_view_module": "@jupyter-widgets/controls",
            "_view_module_version": "1.5.0",
            "_view_name": "HBoxView",
            "box_style": "",
            "children": [
              "IPY_MODEL_6677f07983f5429f88cd0cd333fa0eea",
              "IPY_MODEL_c9774aef882f4ca1be249b31d0eef331",
              "IPY_MODEL_411552928f784d4a814c5ec9c520b6e4"
            ],
            "layout": "IPY_MODEL_ffbb7075929244dcb1eed34636c9e8c7"
          }
        },
        "6677f07983f5429f88cd0cd333fa0eea": {
          "model_module": "@jupyter-widgets/controls",
          "model_name": "HTMLModel",
          "model_module_version": "1.5.0",
          "state": {
            "_dom_classes": [],
            "_model_module": "@jupyter-widgets/controls",
            "_model_module_version": "1.5.0",
            "_model_name": "HTMLModel",
            "_view_count": null,
            "_view_module": "@jupyter-widgets/controls",
            "_view_module_version": "1.5.0",
            "_view_name": "HTMLView",
            "description": "",
            "description_tooltip": null,
            "layout": "IPY_MODEL_7868e4fff3f1428a8e0aefdcec6b2259",
            "placeholder": "​",
            "style": "IPY_MODEL_a0988b1997ad4e46b21118b921ac1d47",
            "value": "100%"
          }
        },
        "c9774aef882f4ca1be249b31d0eef331": {
          "model_module": "@jupyter-widgets/controls",
          "model_name": "FloatProgressModel",
          "model_module_version": "1.5.0",
          "state": {
            "_dom_classes": [],
            "_model_module": "@jupyter-widgets/controls",
            "_model_module_version": "1.5.0",
            "_model_name": "FloatProgressModel",
            "_view_count": null,
            "_view_module": "@jupyter-widgets/controls",
            "_view_module_version": "1.5.0",
            "_view_name": "ProgressView",
            "bar_style": "success",
            "description": "",
            "description_tooltip": null,
            "layout": "IPY_MODEL_0d0012732af8484aa4248ca5c7ba528d",
            "max": 9912422,
            "min": 0,
            "orientation": "horizontal",
            "style": "IPY_MODEL_b87e485ebcd1487f9945cfacc636d609",
            "value": 9912422
          }
        },
        "411552928f784d4a814c5ec9c520b6e4": {
          "model_module": "@jupyter-widgets/controls",
          "model_name": "HTMLModel",
          "model_module_version": "1.5.0",
          "state": {
            "_dom_classes": [],
            "_model_module": "@jupyter-widgets/controls",
            "_model_module_version": "1.5.0",
            "_model_name": "HTMLModel",
            "_view_count": null,
            "_view_module": "@jupyter-widgets/controls",
            "_view_module_version": "1.5.0",
            "_view_name": "HTMLView",
            "description": "",
            "description_tooltip": null,
            "layout": "IPY_MODEL_4acbefa7eebc4ffaa1ddc1e8a47cc03e",
            "placeholder": "​",
            "style": "IPY_MODEL_2eb1630b433a4383abbae7f2816c2508",
            "value": " 9912422/9912422 [00:00&lt;00:00, 6852076.65it/s]"
          }
        },
        "ffbb7075929244dcb1eed34636c9e8c7": {
          "model_module": "@jupyter-widgets/base",
          "model_name": "LayoutModel",
          "model_module_version": "1.2.0",
          "state": {
            "_model_module": "@jupyter-widgets/base",
            "_model_module_version": "1.2.0",
            "_model_name": "LayoutModel",
            "_view_count": null,
            "_view_module": "@jupyter-widgets/base",
            "_view_module_version": "1.2.0",
            "_view_name": "LayoutView",
            "align_content": null,
            "align_items": null,
            "align_self": null,
            "border": null,
            "bottom": null,
            "display": null,
            "flex": null,
            "flex_flow": null,
            "grid_area": null,
            "grid_auto_columns": null,
            "grid_auto_flow": null,
            "grid_auto_rows": null,
            "grid_column": null,
            "grid_gap": null,
            "grid_row": null,
            "grid_template_areas": null,
            "grid_template_columns": null,
            "grid_template_rows": null,
            "height": null,
            "justify_content": null,
            "justify_items": null,
            "left": null,
            "margin": null,
            "max_height": null,
            "max_width": null,
            "min_height": null,
            "min_width": null,
            "object_fit": null,
            "object_position": null,
            "order": null,
            "overflow": null,
            "overflow_x": null,
            "overflow_y": null,
            "padding": null,
            "right": null,
            "top": null,
            "visibility": null,
            "width": null
          }
        },
        "7868e4fff3f1428a8e0aefdcec6b2259": {
          "model_module": "@jupyter-widgets/base",
          "model_name": "LayoutModel",
          "model_module_version": "1.2.0",
          "state": {
            "_model_module": "@jupyter-widgets/base",
            "_model_module_version": "1.2.0",
            "_model_name": "LayoutModel",
            "_view_count": null,
            "_view_module": "@jupyter-widgets/base",
            "_view_module_version": "1.2.0",
            "_view_name": "LayoutView",
            "align_content": null,
            "align_items": null,
            "align_self": null,
            "border": null,
            "bottom": null,
            "display": null,
            "flex": null,
            "flex_flow": null,
            "grid_area": null,
            "grid_auto_columns": null,
            "grid_auto_flow": null,
            "grid_auto_rows": null,
            "grid_column": null,
            "grid_gap": null,
            "grid_row": null,
            "grid_template_areas": null,
            "grid_template_columns": null,
            "grid_template_rows": null,
            "height": null,
            "justify_content": null,
            "justify_items": null,
            "left": null,
            "margin": null,
            "max_height": null,
            "max_width": null,
            "min_height": null,
            "min_width": null,
            "object_fit": null,
            "object_position": null,
            "order": null,
            "overflow": null,
            "overflow_x": null,
            "overflow_y": null,
            "padding": null,
            "right": null,
            "top": null,
            "visibility": null,
            "width": null
          }
        },
        "a0988b1997ad4e46b21118b921ac1d47": {
          "model_module": "@jupyter-widgets/controls",
          "model_name": "DescriptionStyleModel",
          "model_module_version": "1.5.0",
          "state": {
            "_model_module": "@jupyter-widgets/controls",
            "_model_module_version": "1.5.0",
            "_model_name": "DescriptionStyleModel",
            "_view_count": null,
            "_view_module": "@jupyter-widgets/base",
            "_view_module_version": "1.2.0",
            "_view_name": "StyleView",
            "description_width": ""
          }
        },
        "0d0012732af8484aa4248ca5c7ba528d": {
          "model_module": "@jupyter-widgets/base",
          "model_name": "LayoutModel",
          "model_module_version": "1.2.0",
          "state": {
            "_model_module": "@jupyter-widgets/base",
            "_model_module_version": "1.2.0",
            "_model_name": "LayoutModel",
            "_view_count": null,
            "_view_module": "@jupyter-widgets/base",
            "_view_module_version": "1.2.0",
            "_view_name": "LayoutView",
            "align_content": null,
            "align_items": null,
            "align_self": null,
            "border": null,
            "bottom": null,
            "display": null,
            "flex": null,
            "flex_flow": null,
            "grid_area": null,
            "grid_auto_columns": null,
            "grid_auto_flow": null,
            "grid_auto_rows": null,
            "grid_column": null,
            "grid_gap": null,
            "grid_row": null,
            "grid_template_areas": null,
            "grid_template_columns": null,
            "grid_template_rows": null,
            "height": null,
            "justify_content": null,
            "justify_items": null,
            "left": null,
            "margin": null,
            "max_height": null,
            "max_width": null,
            "min_height": null,
            "min_width": null,
            "object_fit": null,
            "object_position": null,
            "order": null,
            "overflow": null,
            "overflow_x": null,
            "overflow_y": null,
            "padding": null,
            "right": null,
            "top": null,
            "visibility": null,
            "width": null
          }
        },
        "b87e485ebcd1487f9945cfacc636d609": {
          "model_module": "@jupyter-widgets/controls",
          "model_name": "ProgressStyleModel",
          "model_module_version": "1.5.0",
          "state": {
            "_model_module": "@jupyter-widgets/controls",
            "_model_module_version": "1.5.0",
            "_model_name": "ProgressStyleModel",
            "_view_count": null,
            "_view_module": "@jupyter-widgets/base",
            "_view_module_version": "1.2.0",
            "_view_name": "StyleView",
            "bar_color": null,
            "description_width": ""
          }
        },
        "4acbefa7eebc4ffaa1ddc1e8a47cc03e": {
          "model_module": "@jupyter-widgets/base",
          "model_name": "LayoutModel",
          "model_module_version": "1.2.0",
          "state": {
            "_model_module": "@jupyter-widgets/base",
            "_model_module_version": "1.2.0",
            "_model_name": "LayoutModel",
            "_view_count": null,
            "_view_module": "@jupyter-widgets/base",
            "_view_module_version": "1.2.0",
            "_view_name": "LayoutView",
            "align_content": null,
            "align_items": null,
            "align_self": null,
            "border": null,
            "bottom": null,
            "display": null,
            "flex": null,
            "flex_flow": null,
            "grid_area": null,
            "grid_auto_columns": null,
            "grid_auto_flow": null,
            "grid_auto_rows": null,
            "grid_column": null,
            "grid_gap": null,
            "grid_row": null,
            "grid_template_areas": null,
            "grid_template_columns": null,
            "grid_template_rows": null,
            "height": null,
            "justify_content": null,
            "justify_items": null,
            "left": null,
            "margin": null,
            "max_height": null,
            "max_width": null,
            "min_height": null,
            "min_width": null,
            "object_fit": null,
            "object_position": null,
            "order": null,
            "overflow": null,
            "overflow_x": null,
            "overflow_y": null,
            "padding": null,
            "right": null,
            "top": null,
            "visibility": null,
            "width": null
          }
        },
        "2eb1630b433a4383abbae7f2816c2508": {
          "model_module": "@jupyter-widgets/controls",
          "model_name": "DescriptionStyleModel",
          "model_module_version": "1.5.0",
          "state": {
            "_model_module": "@jupyter-widgets/controls",
            "_model_module_version": "1.5.0",
            "_model_name": "DescriptionStyleModel",
            "_view_count": null,
            "_view_module": "@jupyter-widgets/base",
            "_view_module_version": "1.2.0",
            "_view_name": "StyleView",
            "description_width": ""
          }
        },
        "2d9c0526ff1745ab910483a74cd0235a": {
          "model_module": "@jupyter-widgets/controls",
          "model_name": "HBoxModel",
          "model_module_version": "1.5.0",
          "state": {
            "_dom_classes": [],
            "_model_module": "@jupyter-widgets/controls",
            "_model_module_version": "1.5.0",
            "_model_name": "HBoxModel",
            "_view_count": null,
            "_view_module": "@jupyter-widgets/controls",
            "_view_module_version": "1.5.0",
            "_view_name": "HBoxView",
            "box_style": "",
            "children": [
              "IPY_MODEL_001e64c48dd14957a50989cd1ce84ef5",
              "IPY_MODEL_6691a80fa8c141f3a58ccd4648aa7ec9",
              "IPY_MODEL_5cbc5cac0819469da00a8a26aece4fcd"
            ],
            "layout": "IPY_MODEL_87a94113b4054d68a58436de89f33991"
          }
        },
        "001e64c48dd14957a50989cd1ce84ef5": {
          "model_module": "@jupyter-widgets/controls",
          "model_name": "HTMLModel",
          "model_module_version": "1.5.0",
          "state": {
            "_dom_classes": [],
            "_model_module": "@jupyter-widgets/controls",
            "_model_module_version": "1.5.0",
            "_model_name": "HTMLModel",
            "_view_count": null,
            "_view_module": "@jupyter-widgets/controls",
            "_view_module_version": "1.5.0",
            "_view_name": "HTMLView",
            "description": "",
            "description_tooltip": null,
            "layout": "IPY_MODEL_4317d1233aaa41028cc4a1d8ed9c0e03",
            "placeholder": "​",
            "style": "IPY_MODEL_6c70ac867b3a492b8ffcbaafef216722",
            "value": "100%"
          }
        },
        "6691a80fa8c141f3a58ccd4648aa7ec9": {
          "model_module": "@jupyter-widgets/controls",
          "model_name": "FloatProgressModel",
          "model_module_version": "1.5.0",
          "state": {
            "_dom_classes": [],
            "_model_module": "@jupyter-widgets/controls",
            "_model_module_version": "1.5.0",
            "_model_name": "FloatProgressModel",
            "_view_count": null,
            "_view_module": "@jupyter-widgets/controls",
            "_view_module_version": "1.5.0",
            "_view_name": "ProgressView",
            "bar_style": "success",
            "description": "",
            "description_tooltip": null,
            "layout": "IPY_MODEL_d49122d59d614717a94e1f707932d727",
            "max": 28881,
            "min": 0,
            "orientation": "horizontal",
            "style": "IPY_MODEL_00bb7c7c48484106891f87f68bf21fee",
            "value": 28881
          }
        },
        "5cbc5cac0819469da00a8a26aece4fcd": {
          "model_module": "@jupyter-widgets/controls",
          "model_name": "HTMLModel",
          "model_module_version": "1.5.0",
          "state": {
            "_dom_classes": [],
            "_model_module": "@jupyter-widgets/controls",
            "_model_module_version": "1.5.0",
            "_model_name": "HTMLModel",
            "_view_count": null,
            "_view_module": "@jupyter-widgets/controls",
            "_view_module_version": "1.5.0",
            "_view_name": "HTMLView",
            "description": "",
            "description_tooltip": null,
            "layout": "IPY_MODEL_cc4ab80a2f9549ddbb0d3a64aa3a628a",
            "placeholder": "​",
            "style": "IPY_MODEL_bf2fe35fb0fb42478db8ee61a20b81c6",
            "value": " 28881/28881 [00:00&lt;00:00, 707221.30it/s]"
          }
        },
        "87a94113b4054d68a58436de89f33991": {
          "model_module": "@jupyter-widgets/base",
          "model_name": "LayoutModel",
          "model_module_version": "1.2.0",
          "state": {
            "_model_module": "@jupyter-widgets/base",
            "_model_module_version": "1.2.0",
            "_model_name": "LayoutModel",
            "_view_count": null,
            "_view_module": "@jupyter-widgets/base",
            "_view_module_version": "1.2.0",
            "_view_name": "LayoutView",
            "align_content": null,
            "align_items": null,
            "align_self": null,
            "border": null,
            "bottom": null,
            "display": null,
            "flex": null,
            "flex_flow": null,
            "grid_area": null,
            "grid_auto_columns": null,
            "grid_auto_flow": null,
            "grid_auto_rows": null,
            "grid_column": null,
            "grid_gap": null,
            "grid_row": null,
            "grid_template_areas": null,
            "grid_template_columns": null,
            "grid_template_rows": null,
            "height": null,
            "justify_content": null,
            "justify_items": null,
            "left": null,
            "margin": null,
            "max_height": null,
            "max_width": null,
            "min_height": null,
            "min_width": null,
            "object_fit": null,
            "object_position": null,
            "order": null,
            "overflow": null,
            "overflow_x": null,
            "overflow_y": null,
            "padding": null,
            "right": null,
            "top": null,
            "visibility": null,
            "width": null
          }
        },
        "4317d1233aaa41028cc4a1d8ed9c0e03": {
          "model_module": "@jupyter-widgets/base",
          "model_name": "LayoutModel",
          "model_module_version": "1.2.0",
          "state": {
            "_model_module": "@jupyter-widgets/base",
            "_model_module_version": "1.2.0",
            "_model_name": "LayoutModel",
            "_view_count": null,
            "_view_module": "@jupyter-widgets/base",
            "_view_module_version": "1.2.0",
            "_view_name": "LayoutView",
            "align_content": null,
            "align_items": null,
            "align_self": null,
            "border": null,
            "bottom": null,
            "display": null,
            "flex": null,
            "flex_flow": null,
            "grid_area": null,
            "grid_auto_columns": null,
            "grid_auto_flow": null,
            "grid_auto_rows": null,
            "grid_column": null,
            "grid_gap": null,
            "grid_row": null,
            "grid_template_areas": null,
            "grid_template_columns": null,
            "grid_template_rows": null,
            "height": null,
            "justify_content": null,
            "justify_items": null,
            "left": null,
            "margin": null,
            "max_height": null,
            "max_width": null,
            "min_height": null,
            "min_width": null,
            "object_fit": null,
            "object_position": null,
            "order": null,
            "overflow": null,
            "overflow_x": null,
            "overflow_y": null,
            "padding": null,
            "right": null,
            "top": null,
            "visibility": null,
            "width": null
          }
        },
        "6c70ac867b3a492b8ffcbaafef216722": {
          "model_module": "@jupyter-widgets/controls",
          "model_name": "DescriptionStyleModel",
          "model_module_version": "1.5.0",
          "state": {
            "_model_module": "@jupyter-widgets/controls",
            "_model_module_version": "1.5.0",
            "_model_name": "DescriptionStyleModel",
            "_view_count": null,
            "_view_module": "@jupyter-widgets/base",
            "_view_module_version": "1.2.0",
            "_view_name": "StyleView",
            "description_width": ""
          }
        },
        "d49122d59d614717a94e1f707932d727": {
          "model_module": "@jupyter-widgets/base",
          "model_name": "LayoutModel",
          "model_module_version": "1.2.0",
          "state": {
            "_model_module": "@jupyter-widgets/base",
            "_model_module_version": "1.2.0",
            "_model_name": "LayoutModel",
            "_view_count": null,
            "_view_module": "@jupyter-widgets/base",
            "_view_module_version": "1.2.0",
            "_view_name": "LayoutView",
            "align_content": null,
            "align_items": null,
            "align_self": null,
            "border": null,
            "bottom": null,
            "display": null,
            "flex": null,
            "flex_flow": null,
            "grid_area": null,
            "grid_auto_columns": null,
            "grid_auto_flow": null,
            "grid_auto_rows": null,
            "grid_column": null,
            "grid_gap": null,
            "grid_row": null,
            "grid_template_areas": null,
            "grid_template_columns": null,
            "grid_template_rows": null,
            "height": null,
            "justify_content": null,
            "justify_items": null,
            "left": null,
            "margin": null,
            "max_height": null,
            "max_width": null,
            "min_height": null,
            "min_width": null,
            "object_fit": null,
            "object_position": null,
            "order": null,
            "overflow": null,
            "overflow_x": null,
            "overflow_y": null,
            "padding": null,
            "right": null,
            "top": null,
            "visibility": null,
            "width": null
          }
        },
        "00bb7c7c48484106891f87f68bf21fee": {
          "model_module": "@jupyter-widgets/controls",
          "model_name": "ProgressStyleModel",
          "model_module_version": "1.5.0",
          "state": {
            "_model_module": "@jupyter-widgets/controls",
            "_model_module_version": "1.5.0",
            "_model_name": "ProgressStyleModel",
            "_view_count": null,
            "_view_module": "@jupyter-widgets/base",
            "_view_module_version": "1.2.0",
            "_view_name": "StyleView",
            "bar_color": null,
            "description_width": ""
          }
        },
        "cc4ab80a2f9549ddbb0d3a64aa3a628a": {
          "model_module": "@jupyter-widgets/base",
          "model_name": "LayoutModel",
          "model_module_version": "1.2.0",
          "state": {
            "_model_module": "@jupyter-widgets/base",
            "_model_module_version": "1.2.0",
            "_model_name": "LayoutModel",
            "_view_count": null,
            "_view_module": "@jupyter-widgets/base",
            "_view_module_version": "1.2.0",
            "_view_name": "LayoutView",
            "align_content": null,
            "align_items": null,
            "align_self": null,
            "border": null,
            "bottom": null,
            "display": null,
            "flex": null,
            "flex_flow": null,
            "grid_area": null,
            "grid_auto_columns": null,
            "grid_auto_flow": null,
            "grid_auto_rows": null,
            "grid_column": null,
            "grid_gap": null,
            "grid_row": null,
            "grid_template_areas": null,
            "grid_template_columns": null,
            "grid_template_rows": null,
            "height": null,
            "justify_content": null,
            "justify_items": null,
            "left": null,
            "margin": null,
            "max_height": null,
            "max_width": null,
            "min_height": null,
            "min_width": null,
            "object_fit": null,
            "object_position": null,
            "order": null,
            "overflow": null,
            "overflow_x": null,
            "overflow_y": null,
            "padding": null,
            "right": null,
            "top": null,
            "visibility": null,
            "width": null
          }
        },
        "bf2fe35fb0fb42478db8ee61a20b81c6": {
          "model_module": "@jupyter-widgets/controls",
          "model_name": "DescriptionStyleModel",
          "model_module_version": "1.5.0",
          "state": {
            "_model_module": "@jupyter-widgets/controls",
            "_model_module_version": "1.5.0",
            "_model_name": "DescriptionStyleModel",
            "_view_count": null,
            "_view_module": "@jupyter-widgets/base",
            "_view_module_version": "1.2.0",
            "_view_name": "StyleView",
            "description_width": ""
          }
        },
        "488513beb67e4709b4129be1b92e4b42": {
          "model_module": "@jupyter-widgets/controls",
          "model_name": "HBoxModel",
          "model_module_version": "1.5.0",
          "state": {
            "_dom_classes": [],
            "_model_module": "@jupyter-widgets/controls",
            "_model_module_version": "1.5.0",
            "_model_name": "HBoxModel",
            "_view_count": null,
            "_view_module": "@jupyter-widgets/controls",
            "_view_module_version": "1.5.0",
            "_view_name": "HBoxView",
            "box_style": "",
            "children": [
              "IPY_MODEL_cd233ddbe62643aeadf1e5911c71af66",
              "IPY_MODEL_c00352f793854822b54356392c553ffc",
              "IPY_MODEL_0636431dd56c47e6b0032fa87ce7ab0b"
            ],
            "layout": "IPY_MODEL_f26bb2264273431085249b5dfa009708"
          }
        },
        "cd233ddbe62643aeadf1e5911c71af66": {
          "model_module": "@jupyter-widgets/controls",
          "model_name": "HTMLModel",
          "model_module_version": "1.5.0",
          "state": {
            "_dom_classes": [],
            "_model_module": "@jupyter-widgets/controls",
            "_model_module_version": "1.5.0",
            "_model_name": "HTMLModel",
            "_view_count": null,
            "_view_module": "@jupyter-widgets/controls",
            "_view_module_version": "1.5.0",
            "_view_name": "HTMLView",
            "description": "",
            "description_tooltip": null,
            "layout": "IPY_MODEL_4a9b5d6f8be242e6806e14c72caba6fc",
            "placeholder": "​",
            "style": "IPY_MODEL_09848ac179ca488ca7a604227b632c43",
            "value": "100%"
          }
        },
        "c00352f793854822b54356392c553ffc": {
          "model_module": "@jupyter-widgets/controls",
          "model_name": "FloatProgressModel",
          "model_module_version": "1.5.0",
          "state": {
            "_dom_classes": [],
            "_model_module": "@jupyter-widgets/controls",
            "_model_module_version": "1.5.0",
            "_model_name": "FloatProgressModel",
            "_view_count": null,
            "_view_module": "@jupyter-widgets/controls",
            "_view_module_version": "1.5.0",
            "_view_name": "ProgressView",
            "bar_style": "success",
            "description": "",
            "description_tooltip": null,
            "layout": "IPY_MODEL_e8cb4547168846159b96ab09a5aed747",
            "max": 1648877,
            "min": 0,
            "orientation": "horizontal",
            "style": "IPY_MODEL_fd6a87193b6141fea4a321bf96cd72b4",
            "value": 1648877
          }
        },
        "0636431dd56c47e6b0032fa87ce7ab0b": {
          "model_module": "@jupyter-widgets/controls",
          "model_name": "HTMLModel",
          "model_module_version": "1.5.0",
          "state": {
            "_dom_classes": [],
            "_model_module": "@jupyter-widgets/controls",
            "_model_module_version": "1.5.0",
            "_model_name": "HTMLModel",
            "_view_count": null,
            "_view_module": "@jupyter-widgets/controls",
            "_view_module_version": "1.5.0",
            "_view_name": "HTMLView",
            "description": "",
            "description_tooltip": null,
            "layout": "IPY_MODEL_4b9459dc3e15488692c94ec1c6840998",
            "placeholder": "​",
            "style": "IPY_MODEL_d24e948591ef4e91867f77f21bddb3aa",
            "value": " 1648877/1648877 [00:00&lt;00:00, 8485094.72it/s]"
          }
        },
        "f26bb2264273431085249b5dfa009708": {
          "model_module": "@jupyter-widgets/base",
          "model_name": "LayoutModel",
          "model_module_version": "1.2.0",
          "state": {
            "_model_module": "@jupyter-widgets/base",
            "_model_module_version": "1.2.0",
            "_model_name": "LayoutModel",
            "_view_count": null,
            "_view_module": "@jupyter-widgets/base",
            "_view_module_version": "1.2.0",
            "_view_name": "LayoutView",
            "align_content": null,
            "align_items": null,
            "align_self": null,
            "border": null,
            "bottom": null,
            "display": null,
            "flex": null,
            "flex_flow": null,
            "grid_area": null,
            "grid_auto_columns": null,
            "grid_auto_flow": null,
            "grid_auto_rows": null,
            "grid_column": null,
            "grid_gap": null,
            "grid_row": null,
            "grid_template_areas": null,
            "grid_template_columns": null,
            "grid_template_rows": null,
            "height": null,
            "justify_content": null,
            "justify_items": null,
            "left": null,
            "margin": null,
            "max_height": null,
            "max_width": null,
            "min_height": null,
            "min_width": null,
            "object_fit": null,
            "object_position": null,
            "order": null,
            "overflow": null,
            "overflow_x": null,
            "overflow_y": null,
            "padding": null,
            "right": null,
            "top": null,
            "visibility": null,
            "width": null
          }
        },
        "4a9b5d6f8be242e6806e14c72caba6fc": {
          "model_module": "@jupyter-widgets/base",
          "model_name": "LayoutModel",
          "model_module_version": "1.2.0",
          "state": {
            "_model_module": "@jupyter-widgets/base",
            "_model_module_version": "1.2.0",
            "_model_name": "LayoutModel",
            "_view_count": null,
            "_view_module": "@jupyter-widgets/base",
            "_view_module_version": "1.2.0",
            "_view_name": "LayoutView",
            "align_content": null,
            "align_items": null,
            "align_self": null,
            "border": null,
            "bottom": null,
            "display": null,
            "flex": null,
            "flex_flow": null,
            "grid_area": null,
            "grid_auto_columns": null,
            "grid_auto_flow": null,
            "grid_auto_rows": null,
            "grid_column": null,
            "grid_gap": null,
            "grid_row": null,
            "grid_template_areas": null,
            "grid_template_columns": null,
            "grid_template_rows": null,
            "height": null,
            "justify_content": null,
            "justify_items": null,
            "left": null,
            "margin": null,
            "max_height": null,
            "max_width": null,
            "min_height": null,
            "min_width": null,
            "object_fit": null,
            "object_position": null,
            "order": null,
            "overflow": null,
            "overflow_x": null,
            "overflow_y": null,
            "padding": null,
            "right": null,
            "top": null,
            "visibility": null,
            "width": null
          }
        },
        "09848ac179ca488ca7a604227b632c43": {
          "model_module": "@jupyter-widgets/controls",
          "model_name": "DescriptionStyleModel",
          "model_module_version": "1.5.0",
          "state": {
            "_model_module": "@jupyter-widgets/controls",
            "_model_module_version": "1.5.0",
            "_model_name": "DescriptionStyleModel",
            "_view_count": null,
            "_view_module": "@jupyter-widgets/base",
            "_view_module_version": "1.2.0",
            "_view_name": "StyleView",
            "description_width": ""
          }
        },
        "e8cb4547168846159b96ab09a5aed747": {
          "model_module": "@jupyter-widgets/base",
          "model_name": "LayoutModel",
          "model_module_version": "1.2.0",
          "state": {
            "_model_module": "@jupyter-widgets/base",
            "_model_module_version": "1.2.0",
            "_model_name": "LayoutModel",
            "_view_count": null,
            "_view_module": "@jupyter-widgets/base",
            "_view_module_version": "1.2.0",
            "_view_name": "LayoutView",
            "align_content": null,
            "align_items": null,
            "align_self": null,
            "border": null,
            "bottom": null,
            "display": null,
            "flex": null,
            "flex_flow": null,
            "grid_area": null,
            "grid_auto_columns": null,
            "grid_auto_flow": null,
            "grid_auto_rows": null,
            "grid_column": null,
            "grid_gap": null,
            "grid_row": null,
            "grid_template_areas": null,
            "grid_template_columns": null,
            "grid_template_rows": null,
            "height": null,
            "justify_content": null,
            "justify_items": null,
            "left": null,
            "margin": null,
            "max_height": null,
            "max_width": null,
            "min_height": null,
            "min_width": null,
            "object_fit": null,
            "object_position": null,
            "order": null,
            "overflow": null,
            "overflow_x": null,
            "overflow_y": null,
            "padding": null,
            "right": null,
            "top": null,
            "visibility": null,
            "width": null
          }
        },
        "fd6a87193b6141fea4a321bf96cd72b4": {
          "model_module": "@jupyter-widgets/controls",
          "model_name": "ProgressStyleModel",
          "model_module_version": "1.5.0",
          "state": {
            "_model_module": "@jupyter-widgets/controls",
            "_model_module_version": "1.5.0",
            "_model_name": "ProgressStyleModel",
            "_view_count": null,
            "_view_module": "@jupyter-widgets/base",
            "_view_module_version": "1.2.0",
            "_view_name": "StyleView",
            "bar_color": null,
            "description_width": ""
          }
        },
        "4b9459dc3e15488692c94ec1c6840998": {
          "model_module": "@jupyter-widgets/base",
          "model_name": "LayoutModel",
          "model_module_version": "1.2.0",
          "state": {
            "_model_module": "@jupyter-widgets/base",
            "_model_module_version": "1.2.0",
            "_model_name": "LayoutModel",
            "_view_count": null,
            "_view_module": "@jupyter-widgets/base",
            "_view_module_version": "1.2.0",
            "_view_name": "LayoutView",
            "align_content": null,
            "align_items": null,
            "align_self": null,
            "border": null,
            "bottom": null,
            "display": null,
            "flex": null,
            "flex_flow": null,
            "grid_area": null,
            "grid_auto_columns": null,
            "grid_auto_flow": null,
            "grid_auto_rows": null,
            "grid_column": null,
            "grid_gap": null,
            "grid_row": null,
            "grid_template_areas": null,
            "grid_template_columns": null,
            "grid_template_rows": null,
            "height": null,
            "justify_content": null,
            "justify_items": null,
            "left": null,
            "margin": null,
            "max_height": null,
            "max_width": null,
            "min_height": null,
            "min_width": null,
            "object_fit": null,
            "object_position": null,
            "order": null,
            "overflow": null,
            "overflow_x": null,
            "overflow_y": null,
            "padding": null,
            "right": null,
            "top": null,
            "visibility": null,
            "width": null
          }
        },
        "d24e948591ef4e91867f77f21bddb3aa": {
          "model_module": "@jupyter-widgets/controls",
          "model_name": "DescriptionStyleModel",
          "model_module_version": "1.5.0",
          "state": {
            "_model_module": "@jupyter-widgets/controls",
            "_model_module_version": "1.5.0",
            "_model_name": "DescriptionStyleModel",
            "_view_count": null,
            "_view_module": "@jupyter-widgets/base",
            "_view_module_version": "1.2.0",
            "_view_name": "StyleView",
            "description_width": ""
          }
        },
        "b163a3f4fa6143418c6a3199632b8a62": {
          "model_module": "@jupyter-widgets/controls",
          "model_name": "HBoxModel",
          "model_module_version": "1.5.0",
          "state": {
            "_dom_classes": [],
            "_model_module": "@jupyter-widgets/controls",
            "_model_module_version": "1.5.0",
            "_model_name": "HBoxModel",
            "_view_count": null,
            "_view_module": "@jupyter-widgets/controls",
            "_view_module_version": "1.5.0",
            "_view_name": "HBoxView",
            "box_style": "",
            "children": [
              "IPY_MODEL_64ec341524334616a745fced5790d523",
              "IPY_MODEL_da1626ceb0c44e4c80d34452c5d41f77",
              "IPY_MODEL_745b1e9321fa4c87838be9ed03dc1a21"
            ],
            "layout": "IPY_MODEL_563a12073bd84931abf72071e08ab18c"
          }
        },
        "64ec341524334616a745fced5790d523": {
          "model_module": "@jupyter-widgets/controls",
          "model_name": "HTMLModel",
          "model_module_version": "1.5.0",
          "state": {
            "_dom_classes": [],
            "_model_module": "@jupyter-widgets/controls",
            "_model_module_version": "1.5.0",
            "_model_name": "HTMLModel",
            "_view_count": null,
            "_view_module": "@jupyter-widgets/controls",
            "_view_module_version": "1.5.0",
            "_view_name": "HTMLView",
            "description": "",
            "description_tooltip": null,
            "layout": "IPY_MODEL_1a5936f382644f19b11b2057ace97d5a",
            "placeholder": "​",
            "style": "IPY_MODEL_03a0a5fbb04a45e7aeb557ec50c47f88",
            "value": "100%"
          }
        },
        "da1626ceb0c44e4c80d34452c5d41f77": {
          "model_module": "@jupyter-widgets/controls",
          "model_name": "FloatProgressModel",
          "model_module_version": "1.5.0",
          "state": {
            "_dom_classes": [],
            "_model_module": "@jupyter-widgets/controls",
            "_model_module_version": "1.5.0",
            "_model_name": "FloatProgressModel",
            "_view_count": null,
            "_view_module": "@jupyter-widgets/controls",
            "_view_module_version": "1.5.0",
            "_view_name": "ProgressView",
            "bar_style": "success",
            "description": "",
            "description_tooltip": null,
            "layout": "IPY_MODEL_46fbedb3f667498aa95295c4a53f78e3",
            "max": 4542,
            "min": 0,
            "orientation": "horizontal",
            "style": "IPY_MODEL_f6928128b9144736a7e66452956be123",
            "value": 4542
          }
        },
        "745b1e9321fa4c87838be9ed03dc1a21": {
          "model_module": "@jupyter-widgets/controls",
          "model_name": "HTMLModel",
          "model_module_version": "1.5.0",
          "state": {
            "_dom_classes": [],
            "_model_module": "@jupyter-widgets/controls",
            "_model_module_version": "1.5.0",
            "_model_name": "HTMLModel",
            "_view_count": null,
            "_view_module": "@jupyter-widgets/controls",
            "_view_module_version": "1.5.0",
            "_view_name": "HTMLView",
            "description": "",
            "description_tooltip": null,
            "layout": "IPY_MODEL_dd7fae55b27e400a8a07b86eceb2b2e8",
            "placeholder": "​",
            "style": "IPY_MODEL_de58203703c042ea829812aaf0d18eab",
            "value": " 4542/4542 [00:00&lt;00:00, 127854.18it/s]"
          }
        },
        "563a12073bd84931abf72071e08ab18c": {
          "model_module": "@jupyter-widgets/base",
          "model_name": "LayoutModel",
          "model_module_version": "1.2.0",
          "state": {
            "_model_module": "@jupyter-widgets/base",
            "_model_module_version": "1.2.0",
            "_model_name": "LayoutModel",
            "_view_count": null,
            "_view_module": "@jupyter-widgets/base",
            "_view_module_version": "1.2.0",
            "_view_name": "LayoutView",
            "align_content": null,
            "align_items": null,
            "align_self": null,
            "border": null,
            "bottom": null,
            "display": null,
            "flex": null,
            "flex_flow": null,
            "grid_area": null,
            "grid_auto_columns": null,
            "grid_auto_flow": null,
            "grid_auto_rows": null,
            "grid_column": null,
            "grid_gap": null,
            "grid_row": null,
            "grid_template_areas": null,
            "grid_template_columns": null,
            "grid_template_rows": null,
            "height": null,
            "justify_content": null,
            "justify_items": null,
            "left": null,
            "margin": null,
            "max_height": null,
            "max_width": null,
            "min_height": null,
            "min_width": null,
            "object_fit": null,
            "object_position": null,
            "order": null,
            "overflow": null,
            "overflow_x": null,
            "overflow_y": null,
            "padding": null,
            "right": null,
            "top": null,
            "visibility": null,
            "width": null
          }
        },
        "1a5936f382644f19b11b2057ace97d5a": {
          "model_module": "@jupyter-widgets/base",
          "model_name": "LayoutModel",
          "model_module_version": "1.2.0",
          "state": {
            "_model_module": "@jupyter-widgets/base",
            "_model_module_version": "1.2.0",
            "_model_name": "LayoutModel",
            "_view_count": null,
            "_view_module": "@jupyter-widgets/base",
            "_view_module_version": "1.2.0",
            "_view_name": "LayoutView",
            "align_content": null,
            "align_items": null,
            "align_self": null,
            "border": null,
            "bottom": null,
            "display": null,
            "flex": null,
            "flex_flow": null,
            "grid_area": null,
            "grid_auto_columns": null,
            "grid_auto_flow": null,
            "grid_auto_rows": null,
            "grid_column": null,
            "grid_gap": null,
            "grid_row": null,
            "grid_template_areas": null,
            "grid_template_columns": null,
            "grid_template_rows": null,
            "height": null,
            "justify_content": null,
            "justify_items": null,
            "left": null,
            "margin": null,
            "max_height": null,
            "max_width": null,
            "min_height": null,
            "min_width": null,
            "object_fit": null,
            "object_position": null,
            "order": null,
            "overflow": null,
            "overflow_x": null,
            "overflow_y": null,
            "padding": null,
            "right": null,
            "top": null,
            "visibility": null,
            "width": null
          }
        },
        "03a0a5fbb04a45e7aeb557ec50c47f88": {
          "model_module": "@jupyter-widgets/controls",
          "model_name": "DescriptionStyleModel",
          "model_module_version": "1.5.0",
          "state": {
            "_model_module": "@jupyter-widgets/controls",
            "_model_module_version": "1.5.0",
            "_model_name": "DescriptionStyleModel",
            "_view_count": null,
            "_view_module": "@jupyter-widgets/base",
            "_view_module_version": "1.2.0",
            "_view_name": "StyleView",
            "description_width": ""
          }
        },
        "46fbedb3f667498aa95295c4a53f78e3": {
          "model_module": "@jupyter-widgets/base",
          "model_name": "LayoutModel",
          "model_module_version": "1.2.0",
          "state": {
            "_model_module": "@jupyter-widgets/base",
            "_model_module_version": "1.2.0",
            "_model_name": "LayoutModel",
            "_view_count": null,
            "_view_module": "@jupyter-widgets/base",
            "_view_module_version": "1.2.0",
            "_view_name": "LayoutView",
            "align_content": null,
            "align_items": null,
            "align_self": null,
            "border": null,
            "bottom": null,
            "display": null,
            "flex": null,
            "flex_flow": null,
            "grid_area": null,
            "grid_auto_columns": null,
            "grid_auto_flow": null,
            "grid_auto_rows": null,
            "grid_column": null,
            "grid_gap": null,
            "grid_row": null,
            "grid_template_areas": null,
            "grid_template_columns": null,
            "grid_template_rows": null,
            "height": null,
            "justify_content": null,
            "justify_items": null,
            "left": null,
            "margin": null,
            "max_height": null,
            "max_width": null,
            "min_height": null,
            "min_width": null,
            "object_fit": null,
            "object_position": null,
            "order": null,
            "overflow": null,
            "overflow_x": null,
            "overflow_y": null,
            "padding": null,
            "right": null,
            "top": null,
            "visibility": null,
            "width": null
          }
        },
        "f6928128b9144736a7e66452956be123": {
          "model_module": "@jupyter-widgets/controls",
          "model_name": "ProgressStyleModel",
          "model_module_version": "1.5.0",
          "state": {
            "_model_module": "@jupyter-widgets/controls",
            "_model_module_version": "1.5.0",
            "_model_name": "ProgressStyleModel",
            "_view_count": null,
            "_view_module": "@jupyter-widgets/base",
            "_view_module_version": "1.2.0",
            "_view_name": "StyleView",
            "bar_color": null,
            "description_width": ""
          }
        },
        "dd7fae55b27e400a8a07b86eceb2b2e8": {
          "model_module": "@jupyter-widgets/base",
          "model_name": "LayoutModel",
          "model_module_version": "1.2.0",
          "state": {
            "_model_module": "@jupyter-widgets/base",
            "_model_module_version": "1.2.0",
            "_model_name": "LayoutModel",
            "_view_count": null,
            "_view_module": "@jupyter-widgets/base",
            "_view_module_version": "1.2.0",
            "_view_name": "LayoutView",
            "align_content": null,
            "align_items": null,
            "align_self": null,
            "border": null,
            "bottom": null,
            "display": null,
            "flex": null,
            "flex_flow": null,
            "grid_area": null,
            "grid_auto_columns": null,
            "grid_auto_flow": null,
            "grid_auto_rows": null,
            "grid_column": null,
            "grid_gap": null,
            "grid_row": null,
            "grid_template_areas": null,
            "grid_template_columns": null,
            "grid_template_rows": null,
            "height": null,
            "justify_content": null,
            "justify_items": null,
            "left": null,
            "margin": null,
            "max_height": null,
            "max_width": null,
            "min_height": null,
            "min_width": null,
            "object_fit": null,
            "object_position": null,
            "order": null,
            "overflow": null,
            "overflow_x": null,
            "overflow_y": null,
            "padding": null,
            "right": null,
            "top": null,
            "visibility": null,
            "width": null
          }
        },
        "de58203703c042ea829812aaf0d18eab": {
          "model_module": "@jupyter-widgets/controls",
          "model_name": "DescriptionStyleModel",
          "model_module_version": "1.5.0",
          "state": {
            "_model_module": "@jupyter-widgets/controls",
            "_model_module_version": "1.5.0",
            "_model_name": "DescriptionStyleModel",
            "_view_count": null,
            "_view_module": "@jupyter-widgets/base",
            "_view_module_version": "1.2.0",
            "_view_name": "StyleView",
            "description_width": ""
          }
        }
      }
    }
  },
  "cells": [
    {
      "cell_type": "markdown",
      "source": [
        "## Dataset_byzantine.py local copy (v 27-5)\n"
      ],
      "metadata": {
        "id": "zuSeRUUCODHr"
      }
    },
    {
      "cell_type": "code",
      "source": [
        "import torch\n",
        "import numpy as np\n",
        "import matplotlib.pyplot as plt\n",
        "from torchvision.datasets import CIFAR10, MNIST\n",
        "from torch.utils.data.dataloader import DataLoader\n",
        "from torchvision import transforms\n",
        "import tensorflow.keras as keras\n",
        "import os\n",
        "import sys\n",
        "import time\n",
        "\n",
        "\n",
        "PATH = \"/content/drive/MyDrive/ColabNotebooks_Nov22/\"\n",
        "# NOTE: Update MODEL according to the model\n",
        "MODEL = \"ResNet-18\"\n",
        "to_string = {MNIST: \"MNIST\", CIFAR10: \"CIFAR-10\"}\n",
        "\n",
        "\n",
        "class Dataset:\n",
        "    def __init__(self, model, data):\n",
        "        \"\"\"\n",
        "        model: pre-trained ResNet model\n",
        "        data: CIFAR10 or MNIST\n",
        "        \"\"\"\n",
        "        self.model = model\n",
        "        self.data = data\n",
        "        self.num_classes = 10\n",
        "\n",
        "        transform = transforms.Compose([\n",
        "            #transforms.Resize(256),\n",
        "            #transforms.RandomCrop(224),\n",
        "            #transforms.RandomHorizontalFlip(),\n",
        "            transforms.ToTensor(),\n",
        "            transforms.Normalize(\n",
        "                (0.4914, 0.4822, 0.4465), (0.2471, 0.2435, 0.2616)\n",
        "                #(0.5, 0.5, 0.5), (0.25, 0.25, 0.25)\n",
        "            )\n",
        "        ]) if self.data is CIFAR10 else transforms.Compose([\n",
        "            transforms.ToTensor()\n",
        "        ])\n",
        "        test_dataset = self.data(\n",
        "            root=\"data/\", train=False, transform=transform, download=True\n",
        "        )\n",
        "        self.test_loader = DataLoader(test_dataset, \n",
        "                                      128, \n",
        "                                      num_workers=0, \n",
        "                                      pin_memory=True)\n",
        "\n",
        "        # manual normalization\n",
        "        # mean = [0.5, 0.5, 0.5]\n",
        "        # std = [0.25, 0.25, 0.25]\n",
        "        if self.data is CIFAR10:\n",
        "            (train_x, train_y), (test_x, test_y) = (keras\n",
        "                                                    .datasets\n",
        "                                                    .cifar10\n",
        "                                                    .load_data())\n",
        "            mean = [0.4914, 0.4822, 0.4465]\n",
        "            std = [0.2471, 0.2435, 0.2616]\n",
        "        else:\n",
        "            (train_x, train_y), (test_x, test_y) = (keras\n",
        "                                                    .datasets\n",
        "                                                    .mnist\n",
        "                                                    .load_data())\n",
        "            mean = 0\n",
        "            std = 1\n",
        "\n",
        "        train_x = train_x / 255.0\n",
        "        test_x = test_x / 255.0\n",
        "        test_x = (test_x - mean) / std\n",
        "        self.test_x = test_x\n",
        "        self.test_y = test_y\n",
        "        print(\"current version: 27-5\")\n",
        "        print(f\"training set size = {train_x.shape[0]}, test set size = {test_x.shape[0]}\")\n",
        "\n",
        "\n",
        "    def accuracy_pytorch(self):\n",
        "        start_time = time.time()\n",
        "        correct = 0\n",
        "        total = 0\n",
        "        # since we're not training, we don't need to calculate the gradients \n",
        "        # for our outputs\n",
        "        with torch.no_grad():\n",
        "            for data in self.test_loader:\n",
        "                images, labels = data\n",
        "                # calculate outputs by running images through the network\n",
        "                outputs = self.model(images)\n",
        "                # the class with the highest energy is what we choose as prediction\n",
        "                _, predicted = torch.max(outputs[0] if isinstance(outputs,\n",
        "                    tuple) else outputs.data, 1)\n",
        "                total += labels.size(0)\n",
        "                correct += (predicted == labels).sum().item()\n",
        "        \n",
        "        print(f\"accuracy_pytorch function completed. \\nTime: {time.time() - start_time:.6f} seconds\")\n",
        "        return correct / total\n",
        "\n",
        "    def accuracy(self):\n",
        "        start_time = time.time()\n",
        "        n = self.test_x.shape[0]\n",
        "        accuracy = self.determine_accuracy(np.arange(n)) / n\n",
        "        print(f\"accuracy function completed. \\nTime: {time.time() - start_time:.6f} seconds\")\n",
        "\n",
        "        return accuracy\n",
        "\n",
        "    # Berrut Encoder\n",
        "    def encoder(self, X, N):\n",
        "        if self.data is CIFAR10:\n",
        "            [K, H, W, C] = np.shape(X)\n",
        "        else:\n",
        "            [K, H, W] = np.shape(X)\n",
        "        alpha = np.zeros(K)\n",
        "        for j in range(K):\n",
        "            alpha[j] = np.cos(((2*j+1)*np.pi) / (2*K))\n",
        "        all_z = np.zeros(N)\n",
        "        for i in range(N):\n",
        "            all_z[i] = np.cos((i*np.pi) / N)\n",
        "        coded_X = (np.zeros([N, H, W, C]) if self.data is CIFAR10 else\n",
        "                np.zeros([N, H, W]))\n",
        "        for n in range(N):\n",
        "            z = all_z[n]\n",
        "            den = 0\n",
        "            for j in range(K):\n",
        "                den = den + np.power(-1, j) / (z - alpha[j])\n",
        "            for i in range(K):\n",
        "                coded_X[n,] = (coded_X[n,] \n",
        "                               + ((np.power(-1, i)/(z-alpha[i]))/den)*X[i,])\n",
        "        return coded_X\n",
        "\n",
        "    # Returns the error locations\n",
        "    def welch_decoder(self, y, K, N, retuned_points_indices):  \n",
        "        e_max = int((N - 2 * K) / 2)\n",
        "        e = e_max\n",
        "        alpha = np.zeros(K)\n",
        "        for j in range(K):\n",
        "            alpha[j] = np.cos(((2 * j + 1) * np.pi) / (2 * K))\n",
        "\n",
        "        all_z = np.zeros(N)\n",
        "        for i in range(N):\n",
        "            all_z[i] = np.cos((i * np.pi) / N)\n",
        "\n",
        "        returned_z=all_z[retuned_points_indices]\n",
        "\n",
        "        A1 = np.vander(returned_z, N=K + e)\n",
        "        A2 = np.vander(returned_z, N=K + e )\n",
        "        A2 = -A2[:, 0:K + e-1]\n",
        "        A2 = A2 * y\n",
        "        A = np.concatenate([A1, A2], axis=1)\n",
        "        A_psudo_inv = np.linalg.pinv(A)\n",
        "        coeffs = np.matmul(A_psudo_inv, y)\n",
        "\n",
        "        a = coeffs[0:K + e, 0]\n",
        "        b = coeffs[K + e:2 * (K + e)-1, 0]\n",
        "        b = np.reshape(b, [len(b), 1])\n",
        "        bb = np.concatenate([b, np.ones([1, 1])])\n",
        "        qlambda_evals = np.zeros([N, 1])\n",
        "\n",
        "        output = np.zeros([N, 1])\n",
        "        for i in range(N):\n",
        "            qlambda_evals[i] = np.polyval(bb, all_z[i])\n",
        "\n",
        "        idx = np.argpartition(np.abs(qlambda_evals.transpose()), e)\n",
        "        output = (np.sort(idx[:, :e]))\n",
        "\n",
        "        return np.sort(idx[:, :e])\n",
        "\n",
        "    # Berrut Decoder\n",
        "    def decoder(self, Y, K, N, indices, sigma):\n",
        "\n",
        "        # when E > 0 \n",
        "        if indices.size != K:\n",
        "            e = int((N - 2*K)/2)\n",
        "            if (N, self.num_classes) != np.shape(Y):\n",
        "                raise Exception(\"Shape of Y not matched\")\n",
        "            error_indices = np.random.permutation(indices)[:e]\n",
        "            # print(\"true error loc: \", np.sort(error_indices))\n",
        "            Y[error_indices, :]=Y[error_indices,:]+np.random.normal(0,sigma,[e,self.num_classes])\n",
        "            adversary_indices_matrix=np.zeros([e, self.num_classes])\n",
        "            for i in range(self.num_classes):\n",
        "                y=Y[indices,i]\n",
        "                y=np.reshape(y,[len(y),1])\n",
        "                adversary_indices_matrix[:,i]=self.welch_decoder(y,K,N,indices)\n",
        "\n",
        "\n",
        "            flattened_adversary_indices= adversary_indices_matrix.flatten()\n",
        "            flattened_adversary_indices=np.reshape(flattened_adversary_indices,[1,len(flattened_adversary_indices)])\n",
        "            bin_count=(np.bincount(flattened_adversary_indices[0,:].astype(np.int64)))\n",
        "            temp=((np.argsort(bin_count)))\n",
        "            error_locations_predicted=temp[-e:]\n",
        "            # print(\"predicted error loc: \", np.sort(error_locations_predicted))\n",
        "            \n",
        "            for i in range(len(error_locations_predicted)):\n",
        "                loc=np.where(indices == error_locations_predicted[i])\n",
        "                indices=np.delete(indices,loc)\n",
        "\n",
        "\n",
        "        F = len(indices)\n",
        "        alpha = np.zeros(K)\n",
        "        for j in range(K):\n",
        "            alpha[j] = np.cos(((2*j+1)*np.pi) / (2*K))\n",
        "\n",
        "        z_bar = np.zeros(N)\n",
        "        for i in range(N):\n",
        "            z_bar[i] = np.cos((i*np.pi) / N)\n",
        "\n",
        "        probs = np.zeros([K, self.num_classes])\n",
        "        for digit in range(self.num_classes):\n",
        "            for i in range(K):\n",
        "                z = alpha[i]\n",
        "                den = 0\n",
        "                for j in range(F):\n",
        "                    den = den + np.power(-1, j) / (z - z_bar[indices[j]])\n",
        "                for l in range(F):\n",
        "                    probs[i, digit] = probs[i, digit] + ((((np.power(-1, l))\n",
        "                        / (z - z_bar[indices[l]])) / den) * Y[indices[l],\n",
        "                            digit])\n",
        "\n",
        "        return probs\n",
        "\n",
        "    def outputs(self, Y):\n",
        "        n = len(Y)\n",
        "        outputs = np.zeros([n, self.num_classes])\n",
        "        for i in range(n):\n",
        "            data = Y[i,]\n",
        "            torch_sample = torch.from_numpy(data).float()\n",
        "            torch_sample = (torch_sample.permute(2, 0, 1) if self.data is\n",
        "                    CIFAR10 else torch_sample.unsqueeze(0))\n",
        "            torch_sample = torch_sample.unsqueeze(0)\n",
        "            output = self.model(torch_sample)\n",
        "            outputs[i,] = ((output[0] if isinstance(output, tuple) else\n",
        "                output).detach().numpy()[0])\n",
        "\n",
        "        return outputs\n",
        "\n",
        "    def determine_accuracy(self, input_batch_ids):\n",
        "        input_batch = self.test_x[input_batch_ids]\n",
        "        n = len(input_batch)\n",
        "        predictions = np.zeros([n, 1])\n",
        "        for i in range(n):\n",
        "            data = input_batch[i,]\n",
        "            torch_sample = torch.from_numpy(data).float()\n",
        "            torch_sample = (torch_sample.permute(2, 0, 1) if self.data is\n",
        "                    CIFAR10 else torch_sample.unsqueeze(0))\n",
        "            torch_sample = torch_sample.unsqueeze(0)\n",
        "            pred = self.model(torch_sample)\n",
        "            _, predicts = (torch.max(pred[0] if isinstance(pred, tuple) else\n",
        "                pred, 1))\n",
        "            predictions[i] = predicts.numpy()[0]\n",
        "\n",
        "        temp = self.test_y[input_batch_ids]\n",
        "        if self.data is MNIST:\n",
        "            temp = np.reshape(temp, [n, 1])\n",
        "        diff = temp - predictions\n",
        "        return n - np.count_nonzero(diff)\n",
        "\n",
        "    def accuracy_comparison(self, K, N, S, iterations, sigma=0.0):\n",
        "        start_time = time.time()\n",
        "        berrut_acc = 0\n",
        "        center_acc = 0\n",
        "        print(f\"num of iterations = {iterations}, noise sigma = {sigma}\")\n",
        "        for i in range(iterations):\n",
        "            # Random data\n",
        "            shuffled_indices = np.random.permutation(self.test_x.shape[0])\n",
        "            random_indices = shuffled_indices[0:K]\n",
        "            random_indices = np.sort(random_indices)\n",
        "            test_sample_x = self.test_x[random_indices]\n",
        "\n",
        "            single_center_acc = self.determine_accuracy(random_indices)\n",
        "            center_acc += single_center_acc / K\n",
        "            \n",
        "            # Distributed Inference\n",
        "            # encoding test data\n",
        "            coded_test_sample_x = self.encoder(test_sample_x, N)\n",
        "            outputs = self.outputs(coded_test_sample_x)\n",
        "\n",
        "            # Determining stragglers' indices\n",
        "            stragglers = np.random.permutation(N)\n",
        "            stragglers = stragglers[0:N - S]\n",
        "            stragglers = np.sort(stragglers)\n",
        "            test_sample_out = self.decoder(outputs, K, N, stragglers, sigma)\n",
        "\n",
        "            # Perfomance Evaluation\n",
        "            true_labels = self.test_y[random_indices]\n",
        "            true_labels = np.reshape(true_labels, [len(true_labels), 1])\n",
        "            berrut_preds = np.argmax(test_sample_out, axis=1)\n",
        "            berrut_preds = berrut_preds.reshape(K, 1)\n",
        "            berrut_acc = (berrut_acc + np.count_nonzero(berrut_preds\n",
        "                - true_labels) / K)\n",
        "            if i is 0:\n",
        "                print(f\"Prediction time for batch size {K}: \"\n",
        "                        f\"{time.time() - start_time:.6f} seconds\")\n",
        "            print(f\"\\r{(i+1)*100 // iterations}% completed\", end=\"... \" if\n",
        "                    i + 1 < iterations else \"\")\n",
        "        \n",
        "        print()\n",
        "        print(f\"Time: {time.time() - start_time:.6f} seconds\")\n",
        "\n",
        "        return 1 - berrut_acc/iterations, center_acc / iterations\n",
        "\n",
        "    # Plot vs K\n",
        "    def plot_K(self, S=1, K_list=8, e_max=0, noise_sigma = 10.0):\n",
        "\n",
        "        if isinstance(K_list, int):\n",
        "            K_list = [K_list]\n",
        "\n",
        "        berrut_acc = np.zeros(len(K_list))\n",
        "        center_acc = np.zeros(len(K_list))\n",
        "\n",
        "        iterations = 100 if self.data is CIFAR10 else 300\n",
        "        # iterations = 10 # for debug\n",
        "        print(\"number of iterations = \", iterations)\n",
        "\n",
        "\n",
        "        for i, K in enumerate(K_list):\n",
        "            if e_max == 0:\n",
        "                print(f\"K = {K}\")\n",
        "                berrut_acc[i], center_acc[i] = \\\n",
        "                        self.accuracy_comparison(K, K + S, S, iterations) \n",
        "            else:\n",
        "                print(f\"K = {K}, E = {e_max}\")\n",
        "                berrut_acc[i], center_acc[i] = \\\n",
        "                        self.accuracy_comparison(K, 2* K + S + 2*e_max, S, iterations, sigma = noise_sigma)\n",
        "        path = f\"{PATH}/{MODEL}/{to_string[self.data]}/S_only/{S}/\"\n",
        "        if not os.path.exists(path):\n",
        "            os.makedirs(path)\n",
        "        os.chdir(path)\n",
        "\n",
        "        with open(f\"output.txt\", \"w\") as f:\n",
        "            f.write(f\"N = K + 1, S = {S}, iterations = {iterations}\\n\")\n",
        "            f.write(f\"K = {K_list}\\n\")\n",
        "            f.write(f\"Berrut Accuracy = {berrut_acc}\\n\")\n",
        "            f.write(f\"Centralized Accuracy = {center_acc}\")\n",
        "\n",
        "        bar_width = 0.2\n",
        "        X_axis = np.arange(len(K_list))\n",
        "        plt.xticks(X_axis, K_list)\n",
        "\n",
        "        plt.bar(X_axis - bar_width, berrut_acc, width=bar_width, \n",
        "                label=\"Berrut\")\n",
        "        for i, v in enumerate(berrut_acc):\n",
        "            plt.text(X_axis[i] - bar_width, v, f\"{v:.2f}\")\n",
        "\n",
        "        plt.bar(X_axis + bar_width, center_acc, width=bar_width, \n",
        "                label=\"Centralized\")\n",
        "        for i, v in enumerate(center_acc):\n",
        "            plt.text(X_axis[i] + bar_width, v, f\"{v:.2f}\")\n",
        "\n",
        "        plt.legend([\"Berrut\", \"Centralized\"])\n",
        "        plt.xlabel(\"K\")\n",
        "        plt.ylabel(\"Accuracy\")\n",
        "        plt.title(f\"{to_string[self.data]} accuracy for K = {K_list} \" \n",
        "                  f\"and S = {S} ({iterations} iterations)\")\n",
        "        plt.savefig(f\"{S}.png\")\n",
        "        plt.show()\n",
        "\n",
        "\n",
        "    # Plot vs E\n",
        "    def plot_E(self, S=0, K=8, E_list=1, noise_sigma = 10.0):\n",
        "\n",
        "        if isinstance(E_list, int):\n",
        "            E_list = [E_list]\n",
        "        if not isinstance(K, int):\n",
        "            raise Exception(\"K should contain only one integer\")\n",
        "            \n",
        "        berrut_acc = np.zeros(len(E_list))\n",
        "        center_acc = np.zeros(len(E_list))\n",
        "\n",
        "        iterations = 200 if self.data is CIFAR10 else 300\n",
        "        # iterations = 10 # for debug\n",
        "        print(\"number of iterations = \", iterations)\n",
        "\n",
        "\n",
        "        for i, e_max in enumerate(E_list):\n",
        "            if e_max == 0:\n",
        "                print(f\"K = {K}\")\n",
        "                berrut_acc[i], center_acc[i] = \\\n",
        "                        self.accuracy_comparison(K, K + S, S, iterations) \n",
        "            else:\n",
        "                print(f\"K = {K}, E = {e_max}\")\n",
        "                berrut_acc[i], center_acc[i] = \\\n",
        "                        self.accuracy_comparison(K, 2* K + S + 2*e_max, S, iterations, sigma = noise_sigma)\n",
        "        path = f\"{PATH}/{MODEL}/{to_string[self.data]}/E_only/sigma_{int(noise_sigma)}/K_{K}/\"\n",
        "        if not os.path.exists(path):\n",
        "            os.makedirs(path)\n",
        "        os.chdir(path)\n",
        "\n",
        "        with open(f\"output.txt\", \"w\") as f:\n",
        "            f.write(f\"N = 2* K + S + 2*E, S = {S}, iterations = {iterations}\\n\")\n",
        "            f.write(f\"E = {E_list}\\n\")\n",
        "            f.write(f\"$\\sigma$ = {noise_sigma}\\n\")\n",
        "            f.write(f\"Berrut Accuracy = {berrut_acc}\\n\")\n",
        "            f.write(f\"Centralized Accuracy = {np.mean(center_acc)}\")\n",
        "\n",
        "        bar_width = 0.2\n",
        "        X_axis = np.arange(len(E_list))\n",
        "        plt.xticks(X_axis, E_list)\n",
        "\n",
        "        plt.bar(X_axis - bar_width, berrut_acc, width=bar_width, \n",
        "                label=\"Berrut\")\n",
        "        for i, v in enumerate(berrut_acc):\n",
        "            plt.text(X_axis[i] - bar_width, v, f\"{v:.2f}\")\n",
        "\n",
        "        plt.bar(X_axis + bar_width, center_acc, width=bar_width, \n",
        "                label=\"Centralized\")\n",
        "        for i, v in enumerate(center_acc):\n",
        "            plt.text(X_axis[i] + bar_width, v, f\"{v:.2f}\")\n",
        "\n",
        "        plt.legend([\"Berrut\", \"Centralized\"])\n",
        "        plt.xlabel(\"E\")\n",
        "        plt.ylabel(\"Accuracy\")\n",
        "        plt.title(f\"{to_string[self.data]} accuracy ({iterations} iterations) \\n\"\n",
        "            f\"K = {K}, S = {S} and E = {E_list}, $\\sigma$ = {noise_sigma}\\n\")\n",
        "        plt.savefig(f\"{K}.png\")\n",
        "        plt.show()"
      ],
      "metadata": {
        "id": "a2z6y_y2cxii"
      },
      "execution_count": null,
      "outputs": []
    },
    {
      "cell_type": "markdown",
      "source": [
        "## Load \n"
      ],
      "metadata": {
        "id": "A5eRdRtiEmRT"
      }
    },
    {
      "cell_type": "code",
      "source": [
        "#  Colab only\n",
        "from google.colab import drive\n",
        "%matplotlib inline\n",
        "\n",
        "drive.mount(\"/content/drive\")"
      ],
      "metadata": {
        "id": "xt_AZg7cElAa",
        "colab": {
          "base_uri": "https://localhost:8080/"
        },
        "outputId": "deddc092-1d99-4c56-9d3c-d27fd6d26b0b"
      },
      "execution_count": null,
      "outputs": [
        {
          "output_type": "stream",
          "name": "stdout",
          "text": [
            "Mounted at /content/drive\n"
          ]
        }
      ]
    },
    {
      "cell_type": "markdown",
      "source": [
        "# Base Imports"
      ],
      "metadata": {
        "id": "1Gyp9R9aphk9"
      }
    },
    {
      "cell_type": "code",
      "source": [
        "import sys\n",
        "import torch\n",
        "from torchvision.datasets import CIFAR10, MNIST\n",
        "\n",
        "PATH = \"/content/drive/MyDrive/ColabNotebooks_Nov22/\"\n",
        "sys.path.append(PATH)"
      ],
      "metadata": {
        "id": "66btabOnEkvZ"
      },
      "execution_count": null,
      "outputs": []
    },
    {
      "cell_type": "code",
      "source": [
        "import dataset_byzantine\n",
        "\n",
        "modulename = 'dataset_byzantine'\n",
        "if modulename not in sys.modules:\n",
        "    print('You have not imported the {} module'.format(modulename))\n",
        "dataset_byzantine.MODEL = \"ResNet-18\"\n",
        "# Dataset.MODEL = \"ResNet-18\"\n",
        "\n",
        "DATA = MNIST\n",
        "# DATA = CIFAR10"
      ],
      "metadata": {
        "id": "BuNmFKLUEkm8"
      },
      "execution_count": null,
      "outputs": []
    },
    {
      "cell_type": "markdown",
      "source": [
        "## Model"
      ],
      "metadata": {
        "id": "obt8CmA60ahv"
      }
    },
    {
      "cell_type": "code",
      "source": [
        "if DATA is CIFAR10:\n",
        "    import cifar10_models_resnet as resnet\n",
        "    model = resnet.resnet18(pretrained=True)\n",
        "else:\n",
        "    import resnet18 as resnet\n",
        "    model = resnet.ResNet18(size_for_cifar=False)\n",
        "    model.load_state_dict(torch.load(PATH + \"mnist_resnet18_model.t7\"))\n",
        "\n",
        "model.eval()"
      ],
      "metadata": {
        "colab": {
          "base_uri": "https://localhost:8080/"
        },
        "id": "B8fUnWlw0Yay",
        "outputId": "d9bab808-7f37-467c-d013-a0834d4115f2"
      },
      "execution_count": null,
      "outputs": [
        {
          "output_type": "execute_result",
          "data": {
            "text/plain": [
              "ResNet18(\n",
              "  (conv1): Conv2d(1, 64, kernel_size=(3, 3), stride=(1, 1), padding=(1, 1), bias=False)\n",
              "  (bn1): BatchNorm2d(64, eps=1e-05, momentum=0.1, affine=True, track_running_stats=True)\n",
              "  (relu): ReLU(inplace=True)\n",
              "  (layer1): Sequential(\n",
              "    (0): BasicBlock(\n",
              "      (conv1): Conv2d(64, 64, kernel_size=(3, 3), stride=(1, 1), padding=(1, 1), bias=False)\n",
              "      (bn1): BatchNorm2d(64, eps=1e-05, momentum=0.1, affine=True, track_running_stats=True)\n",
              "      (relu): ReLU(inplace=True)\n",
              "      (conv2): Conv2d(64, 64, kernel_size=(3, 3), stride=(1, 1), padding=(1, 1), bias=False)\n",
              "      (bn2): BatchNorm2d(64, eps=1e-05, momentum=0.1, affine=True, track_running_stats=True)\n",
              "    )\n",
              "    (1): BasicBlock(\n",
              "      (conv1): Conv2d(64, 64, kernel_size=(3, 3), stride=(1, 1), padding=(1, 1), bias=False)\n",
              "      (bn1): BatchNorm2d(64, eps=1e-05, momentum=0.1, affine=True, track_running_stats=True)\n",
              "      (relu): ReLU(inplace=True)\n",
              "      (conv2): Conv2d(64, 64, kernel_size=(3, 3), stride=(1, 1), padding=(1, 1), bias=False)\n",
              "      (bn2): BatchNorm2d(64, eps=1e-05, momentum=0.1, affine=True, track_running_stats=True)\n",
              "    )\n",
              "  )\n",
              "  (layer2): Sequential(\n",
              "    (0): BasicBlock(\n",
              "      (conv1): Conv2d(64, 128, kernel_size=(3, 3), stride=(2, 2), padding=(1, 1), bias=False)\n",
              "      (bn1): BatchNorm2d(128, eps=1e-05, momentum=0.1, affine=True, track_running_stats=True)\n",
              "      (relu): ReLU(inplace=True)\n",
              "      (conv2): Conv2d(128, 128, kernel_size=(3, 3), stride=(1, 1), padding=(1, 1), bias=False)\n",
              "      (bn2): BatchNorm2d(128, eps=1e-05, momentum=0.1, affine=True, track_running_stats=True)\n",
              "      (downsample): Sequential(\n",
              "        (0): Conv2d(64, 128, kernel_size=(1, 1), stride=(2, 2), bias=False)\n",
              "        (1): BatchNorm2d(128, eps=1e-05, momentum=0.1, affine=True, track_running_stats=True)\n",
              "      )\n",
              "    )\n",
              "    (1): BasicBlock(\n",
              "      (conv1): Conv2d(128, 128, kernel_size=(3, 3), stride=(1, 1), padding=(1, 1), bias=False)\n",
              "      (bn1): BatchNorm2d(128, eps=1e-05, momentum=0.1, affine=True, track_running_stats=True)\n",
              "      (relu): ReLU(inplace=True)\n",
              "      (conv2): Conv2d(128, 128, kernel_size=(3, 3), stride=(1, 1), padding=(1, 1), bias=False)\n",
              "      (bn2): BatchNorm2d(128, eps=1e-05, momentum=0.1, affine=True, track_running_stats=True)\n",
              "    )\n",
              "  )\n",
              "  (layer3): Sequential(\n",
              "    (0): BasicBlock(\n",
              "      (conv1): Conv2d(128, 256, kernel_size=(3, 3), stride=(2, 2), padding=(1, 1), bias=False)\n",
              "      (bn1): BatchNorm2d(256, eps=1e-05, momentum=0.1, affine=True, track_running_stats=True)\n",
              "      (relu): ReLU(inplace=True)\n",
              "      (conv2): Conv2d(256, 256, kernel_size=(3, 3), stride=(1, 1), padding=(1, 1), bias=False)\n",
              "      (bn2): BatchNorm2d(256, eps=1e-05, momentum=0.1, affine=True, track_running_stats=True)\n",
              "      (downsample): Sequential(\n",
              "        (0): Conv2d(128, 256, kernel_size=(1, 1), stride=(2, 2), bias=False)\n",
              "        (1): BatchNorm2d(256, eps=1e-05, momentum=0.1, affine=True, track_running_stats=True)\n",
              "      )\n",
              "    )\n",
              "    (1): BasicBlock(\n",
              "      (conv1): Conv2d(256, 256, kernel_size=(3, 3), stride=(1, 1), padding=(1, 1), bias=False)\n",
              "      (bn1): BatchNorm2d(256, eps=1e-05, momentum=0.1, affine=True, track_running_stats=True)\n",
              "      (relu): ReLU(inplace=True)\n",
              "      (conv2): Conv2d(256, 256, kernel_size=(3, 3), stride=(1, 1), padding=(1, 1), bias=False)\n",
              "      (bn2): BatchNorm2d(256, eps=1e-05, momentum=0.1, affine=True, track_running_stats=True)\n",
              "    )\n",
              "  )\n",
              "  (avgpool): AvgPool2d(kernel_size=7, stride=7, padding=0)\n",
              "  (fc): Linear(in_features=256, out_features=10, bias=True)\n",
              ")"
            ]
          },
          "metadata": {},
          "execution_count": 4
        }
      ]
    },
    {
      "cell_type": "code",
      "source": [],
      "metadata": {
        "id": "eSwhgN7S0ZhD"
      },
      "execution_count": null,
      "outputs": []
    },
    {
      "cell_type": "markdown",
      "source": [
        "## Model Accuracy"
      ],
      "metadata": {
        "id": "F4_GBEFj0i0n"
      }
    },
    {
      "cell_type": "code",
      "source": [
        "#### Import data from Keras\n",
        "import tensorflow.keras as keras\n",
        "from dataset_byzantine import Dataset\n",
        "\n",
        "\n",
        "ds = Dataset(model, DATA)"
      ],
      "metadata": {
        "colab": {
          "base_uri": "https://localhost:8080/",
          "height": 485,
          "referenced_widgets": [
            "16c39073c17c4c9bae7e10c11f99e610",
            "6677f07983f5429f88cd0cd333fa0eea",
            "c9774aef882f4ca1be249b31d0eef331",
            "411552928f784d4a814c5ec9c520b6e4",
            "ffbb7075929244dcb1eed34636c9e8c7",
            "7868e4fff3f1428a8e0aefdcec6b2259",
            "a0988b1997ad4e46b21118b921ac1d47",
            "0d0012732af8484aa4248ca5c7ba528d",
            "b87e485ebcd1487f9945cfacc636d609",
            "4acbefa7eebc4ffaa1ddc1e8a47cc03e",
            "2eb1630b433a4383abbae7f2816c2508",
            "2d9c0526ff1745ab910483a74cd0235a",
            "001e64c48dd14957a50989cd1ce84ef5",
            "6691a80fa8c141f3a58ccd4648aa7ec9",
            "5cbc5cac0819469da00a8a26aece4fcd",
            "87a94113b4054d68a58436de89f33991",
            "4317d1233aaa41028cc4a1d8ed9c0e03",
            "6c70ac867b3a492b8ffcbaafef216722",
            "d49122d59d614717a94e1f707932d727",
            "00bb7c7c48484106891f87f68bf21fee",
            "cc4ab80a2f9549ddbb0d3a64aa3a628a",
            "bf2fe35fb0fb42478db8ee61a20b81c6",
            "488513beb67e4709b4129be1b92e4b42",
            "cd233ddbe62643aeadf1e5911c71af66",
            "c00352f793854822b54356392c553ffc",
            "0636431dd56c47e6b0032fa87ce7ab0b",
            "f26bb2264273431085249b5dfa009708",
            "4a9b5d6f8be242e6806e14c72caba6fc",
            "09848ac179ca488ca7a604227b632c43",
            "e8cb4547168846159b96ab09a5aed747",
            "fd6a87193b6141fea4a321bf96cd72b4",
            "4b9459dc3e15488692c94ec1c6840998",
            "d24e948591ef4e91867f77f21bddb3aa",
            "b163a3f4fa6143418c6a3199632b8a62",
            "64ec341524334616a745fced5790d523",
            "da1626ceb0c44e4c80d34452c5d41f77",
            "745b1e9321fa4c87838be9ed03dc1a21",
            "563a12073bd84931abf72071e08ab18c",
            "1a5936f382644f19b11b2057ace97d5a",
            "03a0a5fbb04a45e7aeb557ec50c47f88",
            "46fbedb3f667498aa95295c4a53f78e3",
            "f6928128b9144736a7e66452956be123",
            "dd7fae55b27e400a8a07b86eceb2b2e8",
            "de58203703c042ea829812aaf0d18eab"
          ]
        },
        "id": "aox-fn5p0jFe",
        "outputId": "7f37178a-a941-478a-c343-b98987977943"
      },
      "execution_count": null,
      "outputs": [
        {
          "output_type": "stream",
          "name": "stdout",
          "text": [
            "Downloading http://yann.lecun.com/exdb/mnist/train-images-idx3-ubyte.gz\n",
            "Downloading http://yann.lecun.com/exdb/mnist/train-images-idx3-ubyte.gz to data/MNIST/raw/train-images-idx3-ubyte.gz\n"
          ]
        },
        {
          "output_type": "display_data",
          "data": {
            "text/plain": [
              "  0%|          | 0/9912422 [00:00<?, ?it/s]"
            ],
            "application/vnd.jupyter.widget-view+json": {
              "version_major": 2,
              "version_minor": 0,
              "model_id": "16c39073c17c4c9bae7e10c11f99e610"
            }
          },
          "metadata": {}
        },
        {
          "output_type": "stream",
          "name": "stdout",
          "text": [
            "Extracting data/MNIST/raw/train-images-idx3-ubyte.gz to data/MNIST/raw\n",
            "\n",
            "Downloading http://yann.lecun.com/exdb/mnist/train-labels-idx1-ubyte.gz\n",
            "Downloading http://yann.lecun.com/exdb/mnist/train-labels-idx1-ubyte.gz to data/MNIST/raw/train-labels-idx1-ubyte.gz\n"
          ]
        },
        {
          "output_type": "display_data",
          "data": {
            "text/plain": [
              "  0%|          | 0/28881 [00:00<?, ?it/s]"
            ],
            "application/vnd.jupyter.widget-view+json": {
              "version_major": 2,
              "version_minor": 0,
              "model_id": "2d9c0526ff1745ab910483a74cd0235a"
            }
          },
          "metadata": {}
        },
        {
          "output_type": "stream",
          "name": "stdout",
          "text": [
            "Extracting data/MNIST/raw/train-labels-idx1-ubyte.gz to data/MNIST/raw\n",
            "\n",
            "Downloading http://yann.lecun.com/exdb/mnist/t10k-images-idx3-ubyte.gz\n",
            "Downloading http://yann.lecun.com/exdb/mnist/t10k-images-idx3-ubyte.gz to data/MNIST/raw/t10k-images-idx3-ubyte.gz\n"
          ]
        },
        {
          "output_type": "display_data",
          "data": {
            "text/plain": [
              "  0%|          | 0/1648877 [00:00<?, ?it/s]"
            ],
            "application/vnd.jupyter.widget-view+json": {
              "version_major": 2,
              "version_minor": 0,
              "model_id": "488513beb67e4709b4129be1b92e4b42"
            }
          },
          "metadata": {}
        },
        {
          "output_type": "stream",
          "name": "stdout",
          "text": [
            "Extracting data/MNIST/raw/t10k-images-idx3-ubyte.gz to data/MNIST/raw\n",
            "\n",
            "Downloading http://yann.lecun.com/exdb/mnist/t10k-labels-idx1-ubyte.gz\n",
            "Downloading http://yann.lecun.com/exdb/mnist/t10k-labels-idx1-ubyte.gz to data/MNIST/raw/t10k-labels-idx1-ubyte.gz\n"
          ]
        },
        {
          "output_type": "display_data",
          "data": {
            "text/plain": [
              "  0%|          | 0/4542 [00:00<?, ?it/s]"
            ],
            "application/vnd.jupyter.widget-view+json": {
              "version_major": 2,
              "version_minor": 0,
              "model_id": "b163a3f4fa6143418c6a3199632b8a62"
            }
          },
          "metadata": {}
        },
        {
          "output_type": "stream",
          "name": "stdout",
          "text": [
            "Extracting data/MNIST/raw/t10k-labels-idx1-ubyte.gz to data/MNIST/raw\n",
            "\n",
            "Downloading data from https://storage.googleapis.com/tensorflow/tf-keras-datasets/mnist.npz\n",
            "11490434/11490434 [==============================] - 0s 0us/step\n",
            "current version: 27-5\n",
            "training set size = 60000, test set size = 10000\n"
          ]
        }
      ]
    },
    {
      "cell_type": "code",
      "source": [
        "print(\"Accuracy of the network on test images:\", \n",
        "      ds.accuracy_pytorch())"
      ],
      "metadata": {
        "colab": {
          "base_uri": "https://localhost:8080/",
          "height": 324
        },
        "id": "yBgT7bA40lFQ",
        "outputId": "ceac0dfd-b5ba-4e28-adfc-c1dfff014fd2"
      },
      "execution_count": null,
      "outputs": [
        {
          "output_type": "error",
          "ename": "KeyboardInterrupt",
          "evalue": "ignored",
          "traceback": [
            "\u001b[0;31m---------------------------------------------------------------------------\u001b[0m",
            "\u001b[0;31mKeyboardInterrupt\u001b[0m                         Traceback (most recent call last)",
            "\u001b[0;32m<ipython-input-6-668bf65ab8aa>\u001b[0m in \u001b[0;36m<module>\u001b[0;34m\u001b[0m\n\u001b[1;32m      1\u001b[0m print(\"Accuracy of the network on test images:\", \n\u001b[0;32m----> 2\u001b[0;31m       ds.accuracy_pytorch())\n\u001b[0m",
            "\u001b[0;32m/content/drive/MyDrive/ColabNotebooks_Nov22/dataset_byzantine.py\u001b[0m in \u001b[0;36maccuracy_pytorch\u001b[0;34m(self)\u001b[0m\n\u001b[1;32m     92\u001b[0m                 \u001b[0mimages\u001b[0m\u001b[0;34m,\u001b[0m \u001b[0mlabels\u001b[0m \u001b[0;34m=\u001b[0m \u001b[0mdata\u001b[0m\u001b[0;34m\u001b[0m\u001b[0;34m\u001b[0m\u001b[0m\n\u001b[1;32m     93\u001b[0m                 \u001b[0;31m# calculate outputs by running images through the network\u001b[0m\u001b[0;34m\u001b[0m\u001b[0;34m\u001b[0m\u001b[0;34m\u001b[0m\u001b[0m\n\u001b[0;32m---> 94\u001b[0;31m                 \u001b[0moutputs\u001b[0m \u001b[0;34m=\u001b[0m \u001b[0mself\u001b[0m\u001b[0;34m.\u001b[0m\u001b[0mmodel\u001b[0m\u001b[0;34m(\u001b[0m\u001b[0mimages\u001b[0m\u001b[0;34m)\u001b[0m\u001b[0;34m\u001b[0m\u001b[0;34m\u001b[0m\u001b[0m\n\u001b[0m\u001b[1;32m     95\u001b[0m                 \u001b[0;31m# the class with the highest energy is what we choose as\u001b[0m\u001b[0;34m\u001b[0m\u001b[0;34m\u001b[0m\u001b[0;34m\u001b[0m\u001b[0m\n\u001b[1;32m     96\u001b[0m                 \u001b[0;31m# prediction\u001b[0m\u001b[0;34m\u001b[0m\u001b[0;34m\u001b[0m\u001b[0;34m\u001b[0m\u001b[0m\n",
            "\u001b[0;32m/usr/local/lib/python3.7/dist-packages/torch/nn/modules/module.py\u001b[0m in \u001b[0;36m_call_impl\u001b[0;34m(self, *input, **kwargs)\u001b[0m\n\u001b[1;32m   1128\u001b[0m         if not (self._backward_hooks or self._forward_hooks or self._forward_pre_hooks or _global_backward_hooks\n\u001b[1;32m   1129\u001b[0m                 or _global_forward_hooks or _global_forward_pre_hooks):\n\u001b[0;32m-> 1130\u001b[0;31m             \u001b[0;32mreturn\u001b[0m \u001b[0mforward_call\u001b[0m\u001b[0;34m(\u001b[0m\u001b[0;34m*\u001b[0m\u001b[0minput\u001b[0m\u001b[0;34m,\u001b[0m \u001b[0;34m**\u001b[0m\u001b[0mkwargs\u001b[0m\u001b[0;34m)\u001b[0m\u001b[0;34m\u001b[0m\u001b[0;34m\u001b[0m\u001b[0m\n\u001b[0m\u001b[1;32m   1131\u001b[0m         \u001b[0;31m# Do not call functions when jit is used\u001b[0m\u001b[0;34m\u001b[0m\u001b[0;34m\u001b[0m\u001b[0;34m\u001b[0m\u001b[0m\n\u001b[1;32m   1132\u001b[0m         \u001b[0mfull_backward_hooks\u001b[0m\u001b[0;34m,\u001b[0m \u001b[0mnon_full_backward_hooks\u001b[0m \u001b[0;34m=\u001b[0m \u001b[0;34m[\u001b[0m\u001b[0;34m]\u001b[0m\u001b[0;34m,\u001b[0m \u001b[0;34m[\u001b[0m\u001b[0;34m]\u001b[0m\u001b[0;34m\u001b[0m\u001b[0;34m\u001b[0m\u001b[0m\n",
            "\u001b[0;32m/content/drive/MyDrive/ColabNotebooks_Nov22/resnet18.py\u001b[0m in \u001b[0;36mforward\u001b[0;34m(self, x)\u001b[0m\n\u001b[1;32m    143\u001b[0m \u001b[0;34m\u001b[0m\u001b[0m\n\u001b[1;32m    144\u001b[0m         \u001b[0mx\u001b[0m \u001b[0;34m=\u001b[0m \u001b[0mself\u001b[0m\u001b[0;34m.\u001b[0m\u001b[0mlayer1\u001b[0m\u001b[0;34m(\u001b[0m\u001b[0mx\u001b[0m\u001b[0;34m)\u001b[0m\u001b[0;34m\u001b[0m\u001b[0;34m\u001b[0m\u001b[0m\n\u001b[0;32m--> 145\u001b[0;31m         \u001b[0mx\u001b[0m \u001b[0;34m=\u001b[0m \u001b[0mself\u001b[0m\u001b[0;34m.\u001b[0m\u001b[0mlayer2\u001b[0m\u001b[0;34m(\u001b[0m\u001b[0mx\u001b[0m\u001b[0;34m)\u001b[0m\u001b[0;34m\u001b[0m\u001b[0;34m\u001b[0m\u001b[0m\n\u001b[0m\u001b[1;32m    146\u001b[0m         \u001b[0mx\u001b[0m \u001b[0;34m=\u001b[0m \u001b[0mself\u001b[0m\u001b[0;34m.\u001b[0m\u001b[0mlayer3\u001b[0m\u001b[0;34m(\u001b[0m\u001b[0mx\u001b[0m\u001b[0;34m)\u001b[0m\u001b[0;34m\u001b[0m\u001b[0;34m\u001b[0m\u001b[0m\n\u001b[1;32m    147\u001b[0m \u001b[0;34m\u001b[0m\u001b[0m\n",
            "\u001b[0;32m/usr/local/lib/python3.7/dist-packages/torch/nn/modules/module.py\u001b[0m in \u001b[0;36m_call_impl\u001b[0;34m(self, *input, **kwargs)\u001b[0m\n\u001b[1;32m   1128\u001b[0m         if not (self._backward_hooks or self._forward_hooks or self._forward_pre_hooks or _global_backward_hooks\n\u001b[1;32m   1129\u001b[0m                 or _global_forward_hooks or _global_forward_pre_hooks):\n\u001b[0;32m-> 1130\u001b[0;31m             \u001b[0;32mreturn\u001b[0m \u001b[0mforward_call\u001b[0m\u001b[0;34m(\u001b[0m\u001b[0;34m*\u001b[0m\u001b[0minput\u001b[0m\u001b[0;34m,\u001b[0m \u001b[0;34m**\u001b[0m\u001b[0mkwargs\u001b[0m\u001b[0;34m)\u001b[0m\u001b[0;34m\u001b[0m\u001b[0;34m\u001b[0m\u001b[0m\n\u001b[0m\u001b[1;32m   1131\u001b[0m         \u001b[0;31m# Do not call functions when jit is used\u001b[0m\u001b[0;34m\u001b[0m\u001b[0;34m\u001b[0m\u001b[0;34m\u001b[0m\u001b[0m\n\u001b[1;32m   1132\u001b[0m         \u001b[0mfull_backward_hooks\u001b[0m\u001b[0;34m,\u001b[0m \u001b[0mnon_full_backward_hooks\u001b[0m \u001b[0;34m=\u001b[0m \u001b[0;34m[\u001b[0m\u001b[0;34m]\u001b[0m\u001b[0;34m,\u001b[0m \u001b[0;34m[\u001b[0m\u001b[0;34m]\u001b[0m\u001b[0;34m\u001b[0m\u001b[0;34m\u001b[0m\u001b[0m\n",
            "\u001b[0;32m/usr/local/lib/python3.7/dist-packages/torch/nn/modules/container.py\u001b[0m in \u001b[0;36mforward\u001b[0;34m(self, input)\u001b[0m\n\u001b[1;32m    137\u001b[0m     \u001b[0;32mdef\u001b[0m \u001b[0mforward\u001b[0m\u001b[0;34m(\u001b[0m\u001b[0mself\u001b[0m\u001b[0;34m,\u001b[0m \u001b[0minput\u001b[0m\u001b[0;34m)\u001b[0m\u001b[0;34m:\u001b[0m\u001b[0;34m\u001b[0m\u001b[0;34m\u001b[0m\u001b[0m\n\u001b[1;32m    138\u001b[0m         \u001b[0;32mfor\u001b[0m \u001b[0mmodule\u001b[0m \u001b[0;32min\u001b[0m \u001b[0mself\u001b[0m\u001b[0;34m:\u001b[0m\u001b[0;34m\u001b[0m\u001b[0;34m\u001b[0m\u001b[0m\n\u001b[0;32m--> 139\u001b[0;31m             \u001b[0minput\u001b[0m \u001b[0;34m=\u001b[0m \u001b[0mmodule\u001b[0m\u001b[0;34m(\u001b[0m\u001b[0minput\u001b[0m\u001b[0;34m)\u001b[0m\u001b[0;34m\u001b[0m\u001b[0;34m\u001b[0m\u001b[0m\n\u001b[0m\u001b[1;32m    140\u001b[0m         \u001b[0;32mreturn\u001b[0m \u001b[0minput\u001b[0m\u001b[0;34m\u001b[0m\u001b[0;34m\u001b[0m\u001b[0m\n\u001b[1;32m    141\u001b[0m \u001b[0;34m\u001b[0m\u001b[0m\n",
            "\u001b[0;32m/usr/local/lib/python3.7/dist-packages/torch/nn/modules/module.py\u001b[0m in \u001b[0;36m_call_impl\u001b[0;34m(self, *input, **kwargs)\u001b[0m\n\u001b[1;32m   1128\u001b[0m         if not (self._backward_hooks or self._forward_hooks or self._forward_pre_hooks or _global_backward_hooks\n\u001b[1;32m   1129\u001b[0m                 or _global_forward_hooks or _global_forward_pre_hooks):\n\u001b[0;32m-> 1130\u001b[0;31m             \u001b[0;32mreturn\u001b[0m \u001b[0mforward_call\u001b[0m\u001b[0;34m(\u001b[0m\u001b[0;34m*\u001b[0m\u001b[0minput\u001b[0m\u001b[0;34m,\u001b[0m \u001b[0;34m**\u001b[0m\u001b[0mkwargs\u001b[0m\u001b[0;34m)\u001b[0m\u001b[0;34m\u001b[0m\u001b[0;34m\u001b[0m\u001b[0m\n\u001b[0m\u001b[1;32m   1131\u001b[0m         \u001b[0;31m# Do not call functions when jit is used\u001b[0m\u001b[0;34m\u001b[0m\u001b[0;34m\u001b[0m\u001b[0;34m\u001b[0m\u001b[0m\n\u001b[1;32m   1132\u001b[0m         \u001b[0mfull_backward_hooks\u001b[0m\u001b[0;34m,\u001b[0m \u001b[0mnon_full_backward_hooks\u001b[0m \u001b[0;34m=\u001b[0m \u001b[0;34m[\u001b[0m\u001b[0;34m]\u001b[0m\u001b[0;34m,\u001b[0m \u001b[0;34m[\u001b[0m\u001b[0;34m]\u001b[0m\u001b[0;34m\u001b[0m\u001b[0;34m\u001b[0m\u001b[0m\n",
            "\u001b[0;32m/content/drive/MyDrive/ColabNotebooks_Nov22/resnet18.py\u001b[0m in \u001b[0;36mforward\u001b[0;34m(self, x)\u001b[0m\n\u001b[1;32m     30\u001b[0m         \u001b[0mresidual\u001b[0m \u001b[0;34m=\u001b[0m \u001b[0mx\u001b[0m\u001b[0;34m\u001b[0m\u001b[0;34m\u001b[0m\u001b[0m\n\u001b[1;32m     31\u001b[0m \u001b[0;34m\u001b[0m\u001b[0m\n\u001b[0;32m---> 32\u001b[0;31m         \u001b[0mout\u001b[0m \u001b[0;34m=\u001b[0m \u001b[0mself\u001b[0m\u001b[0;34m.\u001b[0m\u001b[0mconv1\u001b[0m\u001b[0;34m(\u001b[0m\u001b[0mx\u001b[0m\u001b[0;34m)\u001b[0m\u001b[0;34m\u001b[0m\u001b[0;34m\u001b[0m\u001b[0m\n\u001b[0m\u001b[1;32m     33\u001b[0m         \u001b[0mout\u001b[0m \u001b[0;34m=\u001b[0m \u001b[0mself\u001b[0m\u001b[0;34m.\u001b[0m\u001b[0mbn1\u001b[0m\u001b[0;34m(\u001b[0m\u001b[0mout\u001b[0m\u001b[0;34m)\u001b[0m\u001b[0;34m\u001b[0m\u001b[0;34m\u001b[0m\u001b[0m\n\u001b[1;32m     34\u001b[0m         \u001b[0mout\u001b[0m \u001b[0;34m=\u001b[0m \u001b[0mself\u001b[0m\u001b[0;34m.\u001b[0m\u001b[0mrelu\u001b[0m\u001b[0;34m(\u001b[0m\u001b[0mout\u001b[0m\u001b[0;34m)\u001b[0m\u001b[0;34m\u001b[0m\u001b[0;34m\u001b[0m\u001b[0m\n",
            "\u001b[0;32m/usr/local/lib/python3.7/dist-packages/torch/nn/modules/module.py\u001b[0m in \u001b[0;36m_call_impl\u001b[0;34m(self, *input, **kwargs)\u001b[0m\n\u001b[1;32m   1128\u001b[0m         if not (self._backward_hooks or self._forward_hooks or self._forward_pre_hooks or _global_backward_hooks\n\u001b[1;32m   1129\u001b[0m                 or _global_forward_hooks or _global_forward_pre_hooks):\n\u001b[0;32m-> 1130\u001b[0;31m             \u001b[0;32mreturn\u001b[0m \u001b[0mforward_call\u001b[0m\u001b[0;34m(\u001b[0m\u001b[0;34m*\u001b[0m\u001b[0minput\u001b[0m\u001b[0;34m,\u001b[0m \u001b[0;34m**\u001b[0m\u001b[0mkwargs\u001b[0m\u001b[0;34m)\u001b[0m\u001b[0;34m\u001b[0m\u001b[0;34m\u001b[0m\u001b[0m\n\u001b[0m\u001b[1;32m   1131\u001b[0m         \u001b[0;31m# Do not call functions when jit is used\u001b[0m\u001b[0;34m\u001b[0m\u001b[0;34m\u001b[0m\u001b[0;34m\u001b[0m\u001b[0m\n\u001b[1;32m   1132\u001b[0m         \u001b[0mfull_backward_hooks\u001b[0m\u001b[0;34m,\u001b[0m \u001b[0mnon_full_backward_hooks\u001b[0m \u001b[0;34m=\u001b[0m \u001b[0;34m[\u001b[0m\u001b[0;34m]\u001b[0m\u001b[0;34m,\u001b[0m \u001b[0;34m[\u001b[0m\u001b[0;34m]\u001b[0m\u001b[0;34m\u001b[0m\u001b[0;34m\u001b[0m\u001b[0m\n",
            "\u001b[0;32m/usr/local/lib/python3.7/dist-packages/torch/nn/modules/conv.py\u001b[0m in \u001b[0;36mforward\u001b[0;34m(self, input)\u001b[0m\n\u001b[1;32m    455\u001b[0m \u001b[0;34m\u001b[0m\u001b[0m\n\u001b[1;32m    456\u001b[0m     \u001b[0;32mdef\u001b[0m \u001b[0mforward\u001b[0m\u001b[0;34m(\u001b[0m\u001b[0mself\u001b[0m\u001b[0;34m,\u001b[0m \u001b[0minput\u001b[0m\u001b[0;34m:\u001b[0m \u001b[0mTensor\u001b[0m\u001b[0;34m)\u001b[0m \u001b[0;34m->\u001b[0m \u001b[0mTensor\u001b[0m\u001b[0;34m:\u001b[0m\u001b[0;34m\u001b[0m\u001b[0;34m\u001b[0m\u001b[0m\n\u001b[0;32m--> 457\u001b[0;31m         \u001b[0;32mreturn\u001b[0m \u001b[0mself\u001b[0m\u001b[0;34m.\u001b[0m\u001b[0m_conv_forward\u001b[0m\u001b[0;34m(\u001b[0m\u001b[0minput\u001b[0m\u001b[0;34m,\u001b[0m \u001b[0mself\u001b[0m\u001b[0;34m.\u001b[0m\u001b[0mweight\u001b[0m\u001b[0;34m,\u001b[0m \u001b[0mself\u001b[0m\u001b[0;34m.\u001b[0m\u001b[0mbias\u001b[0m\u001b[0;34m)\u001b[0m\u001b[0;34m\u001b[0m\u001b[0;34m\u001b[0m\u001b[0m\n\u001b[0m\u001b[1;32m    458\u001b[0m \u001b[0;34m\u001b[0m\u001b[0m\n\u001b[1;32m    459\u001b[0m \u001b[0;32mclass\u001b[0m \u001b[0mConv3d\u001b[0m\u001b[0;34m(\u001b[0m\u001b[0m_ConvNd\u001b[0m\u001b[0;34m)\u001b[0m\u001b[0;34m:\u001b[0m\u001b[0;34m\u001b[0m\u001b[0;34m\u001b[0m\u001b[0m\n",
            "\u001b[0;32m/usr/local/lib/python3.7/dist-packages/torch/nn/modules/conv.py\u001b[0m in \u001b[0;36m_conv_forward\u001b[0;34m(self, input, weight, bias)\u001b[0m\n\u001b[1;32m    452\u001b[0m                             _pair(0), self.dilation, self.groups)\n\u001b[1;32m    453\u001b[0m         return F.conv2d(input, weight, bias, self.stride,\n\u001b[0;32m--> 454\u001b[0;31m                         self.padding, self.dilation, self.groups)\n\u001b[0m\u001b[1;32m    455\u001b[0m \u001b[0;34m\u001b[0m\u001b[0m\n\u001b[1;32m    456\u001b[0m     \u001b[0;32mdef\u001b[0m \u001b[0mforward\u001b[0m\u001b[0;34m(\u001b[0m\u001b[0mself\u001b[0m\u001b[0;34m,\u001b[0m \u001b[0minput\u001b[0m\u001b[0;34m:\u001b[0m \u001b[0mTensor\u001b[0m\u001b[0;34m)\u001b[0m \u001b[0;34m->\u001b[0m \u001b[0mTensor\u001b[0m\u001b[0;34m:\u001b[0m\u001b[0;34m\u001b[0m\u001b[0;34m\u001b[0m\u001b[0m\n",
            "\u001b[0;31mKeyboardInterrupt\u001b[0m: "
          ]
        }
      ]
    },
    {
      "cell_type": "code",
      "source": [
        "print(f\"Model accuracy:\", ds.accuracy())"
      ],
      "metadata": {
        "id": "nk7gJSTv06p_",
        "colab": {
          "base_uri": "https://localhost:8080/"
        },
        "outputId": "b15bb53e-fab8-4f3b-e7bc-41d681e9cc84"
      },
      "execution_count": null,
      "outputs": [
        {
          "output_type": "stream",
          "name": "stdout",
          "text": [
            "accuracy function completed. \n",
            "Time: 177.438121 seconds\n",
            "Model accuracy: 0.993\n"
          ]
        }
      ]
    },
    {
      "cell_type": "markdown",
      "source": [
        "## Basic test\n"
      ],
      "metadata": {
        "id": "yzMgV354zOxO"
      }
    },
    {
      "cell_type": "code",
      "source": [
        "ds.plot_K(S=2)"
      ],
      "metadata": {
        "id": "O73dZRXQ068f",
        "colab": {
          "base_uri": "https://localhost:8080/",
          "height": 397
        },
        "outputId": "35ba9ea8-fcd7-4680-92c4-7a576f0054b0"
      },
      "execution_count": null,
      "outputs": [
        {
          "output_type": "stream",
          "name": "stdout",
          "text": [
            "number of iterations =  300\n",
            "K = 8\n",
            "num of iterations = 300, noise sigma = 0.0\n",
            "Prediction time for batch size 8: 0.361258 seconds\n",
            "100% completed\n",
            "Time: 102.273236 seconds\n"
          ]
        },
        {
          "output_type": "display_data",
          "data": {
            "text/plain": [
              "<Figure size 432x288 with 1 Axes>"
            ],
            "image/png": "[encoded data removed]"
          },
          "metadata": {
            "needs_background": "light"
          }
        }
      ]
    },
    {
      "cell_type": "code",
      "source": [
        "ds.plot_E(S=0, K = 8, E_list=[1], noise_sigma= 1.0)"
      ],
      "metadata": {
        "colab": {
          "base_uri": "https://localhost:8080/",
          "height": 430
        },
        "id": "2BfhnW2U5Zvw",
        "outputId": "440ccb7c-27f3-48ca-ad01-d440c01ad2b4"
      },
      "execution_count": null,
      "outputs": [
        {
          "output_type": "stream",
          "name": "stdout",
          "text": [
            "number of iterations =  10\n",
            "K = 8, E = 1\n",
            "num of iterations = 10, noise sigma = 1.0\n",
            "Prediction time for batch size 8: 0.430689 seconds\n",
            "100% completed\n",
            "Time: 4.058044 seconds\n"
          ]
        },
        {
          "output_type": "display_data",
          "data": {
            "text/plain": [
              "<Figure size 432x288 with 1 Axes>"
            ],
            "image/png": "[encoded data removed]"
          },
          "metadata": {
            "needs_background": "light"
          }
        }
      ]
    },
    {
      "cell_type": "code",
      "source": [],
      "metadata": {
        "id": "qfXBOPo9ZkW3"
      },
      "execution_count": null,
      "outputs": []
    },
    {
      "cell_type": "markdown",
      "source": [
        "## K =12, S = 0, E = [1,2,3], σ = [1, 10, 100]"
      ],
      "metadata": {
        "id": "FvTyiFzGzT4k"
      }
    },
    {
      "cell_type": "code",
      "source": [
        "for sigma in [1.0, 10.0, 100.0]:\n",
        "    ds.plot_E(S=0, K = 12, E_list=[1,2,3], noise_sigma= sigma)\n",
        "    \n",
        "\n",
        "# ds.plot_E(S=0, K = 12, E_list=[1,2,3], noise_sigma= 1.0)\n",
        "# ds.plot_E(S=0, K = 12, E_list=[1,2,3], noise_sigma= 10.0)\n",
        "# ds.plot_E(S=0, K = 12, E_list=[1,2,3], noise_sigma= 100.0)"
      ],
      "metadata": {
        "colab": {
          "base_uri": "https://localhost:8080/",
          "height": 1000
        },
        "id": "nGhLSMQqyO8q",
        "outputId": "ebaeb8c7-a8cf-4fe5-8d9c-5b474cc69996"
      },
      "execution_count": null,
      "outputs": [
        {
          "output_type": "stream",
          "name": "stdout",
          "text": [
            "number of iterations =  300\n",
            "K = 12, E = 1\n",
            "num of iterations = 300, noise sigma = 1.0\n",
            "Prediction time for batch size 12: 0.766439 seconds\n",
            "100% completed\n",
            "Time: 221.402970 seconds\n",
            "K = 12, E = 2\n",
            "num of iterations = 300, noise sigma = 1.0\n",
            "Prediction time for batch size 12: 0.761986 seconds\n",
            "100% completed\n",
            "Time: 230.996419 seconds\n",
            "K = 12, E = 3\n",
            "num of iterations = 300, noise sigma = 1.0\n",
            "Prediction time for batch size 12: 0.780996 seconds\n",
            "100% completed\n",
            "Time: 242.486415 seconds\n"
          ]
        },
        {
          "output_type": "display_data",
          "data": {
            "text/plain": [
              "<Figure size 432x288 with 1 Axes>"
            ],
            "image/png": "[encoded data removed]"
          },
          "metadata": {
            "needs_background": "light"
          }
        },
        {
          "output_type": "stream",
          "name": "stdout",
          "text": [
            "number of iterations =  300\n",
            "K = 12, E = 1\n",
            "num of iterations = 300, noise sigma = 10.0\n",
            "Prediction time for batch size 12: 0.739475 seconds\n",
            "100% completed\n",
            "Time: 219.908211 seconds\n",
            "K = 12, E = 2\n",
            "num of iterations = 300, noise sigma = 10.0\n",
            "Prediction time for batch size 12: 0.756661 seconds\n",
            "100% completed\n",
            "Time: 230.176312 seconds\n",
            "K = 12, E = 3\n",
            "num of iterations = 300, noise sigma = 10.0\n",
            "Prediction time for batch size 12: 0.806117 seconds\n",
            "100% completed\n",
            "Time: 241.682708 seconds\n"
          ]
        },
        {
          "output_type": "display_data",
          "data": {
            "text/plain": [
              "<Figure size 432x288 with 1 Axes>"
            ],
            "image/png": "[encoded data removed]"
          },
          "metadata": {
            "needs_background": "light"
          }
        },
        {
          "output_type": "stream",
          "name": "stdout",
          "text": [
            "number of iterations =  300\n",
            "K = 12, E = 1\n",
            "num of iterations = 300, noise sigma = 100.0\n",
            "Prediction time for batch size 12: 0.733602 seconds\n",
            "100% completed\n",
            "Time: 220.349053 seconds\n",
            "K = 12, E = 2\n",
            "num of iterations = 300, noise sigma = 100.0\n",
            "Prediction time for batch size 12: 0.762474 seconds\n",
            "100% completed\n",
            "Time: 232.324513 seconds\n",
            "K = 12, E = 3\n",
            "num of iterations = 300, noise sigma = 100.0\n",
            "Prediction time for batch size 12: 0.808710 seconds\n",
            "100% completed\n",
            "Time: 245.298072 seconds\n"
          ]
        },
        {
          "output_type": "display_data",
          "data": {
            "text/plain": [
              "<Figure size 432x288 with 1 Axes>"
            ],
            "image/png": "[encoded data removed]"
          },
          "metadata": {
            "needs_background": "light"
          }
        }
      ]
    },
    {
      "cell_type": "markdown",
      "source": [
        "## K =12, S = 0, E = [1,2,3], σ seperately"
      ],
      "metadata": {
        "id": "3cKd0zajZrQZ"
      }
    },
    {
      "cell_type": "code",
      "source": [
        "ds.plot_E(S=0, K = 12, E_list=[1,2,3], noise_sigma= 1.0)"
      ],
      "metadata": {
        "id": "yNJ-3o-9AVs9"
      },
      "execution_count": null,
      "outputs": []
    },
    {
      "cell_type": "code",
      "source": [
        "ds.plot_E(S=0, K = 12, E_list=[1,2,3], noise_sigma= 10.0)"
      ],
      "metadata": {
        "id": "tQ7UU_FLyyQH"
      },
      "execution_count": null,
      "outputs": []
    },
    {
      "cell_type": "code",
      "source": [
        "ds.plot_E(S=0, K = 12, E_list=[1,2,3], noise_sigma= 100.0)"
      ],
      "metadata": {
        "id": "dI_cWBEpyyaK"
      },
      "execution_count": null,
      "outputs": []
    },
    {
      "cell_type": "markdown",
      "source": [
        "## K =12, S = 0, E = 1, 2, 3 seperately"
      ],
      "metadata": {
        "id": "NJYk63mjzeN_"
      }
    },
    {
      "cell_type": "code",
      "source": [
        "ds.plot_K(S=0, K_list= 12, e_max=1, noise_sigma= 1.0)"
      ],
      "metadata": {
        "colab": {
          "base_uri": "https://localhost:8080/",
          "height": 397
        },
        "id": "ecx5rSmWdcM5",
        "outputId": "833ccd89-76be-4c2b-af84-3385858aff93"
      },
      "execution_count": null,
      "outputs": [
        {
          "output_type": "stream",
          "name": "stdout",
          "text": [
            "number of iterations =  100\n",
            "K = 12, E = 1\n",
            "num of iterations = 100, noise sigma = 1.0\n",
            "Prediction time for batch size 12: 0.624688 seconds\n",
            "100% completed\n",
            "Time: 62.339725 seconds\n"
          ]
        },
        {
          "output_type": "display_data",
          "data": {
            "text/plain": [
              "<Figure size 432x288 with 1 Axes>"
            ],
            "image/png": "[encoded data removed]"
          },
          "metadata": {
            "needs_background": "light"
          }
        }
      ]
    },
    {
      "cell_type": "code",
      "source": [
        "ds.plot_K(S=0, K_list= 12, e_max=2, noise_sigma= 1.0)"
      ],
      "metadata": {
        "colab": {
          "base_uri": "https://localhost:8080/",
          "height": 397
        },
        "id": "4wPRJi75fDcY",
        "outputId": "e5be8382-a1ec-42f4-af56-6eaf9c2bf547"
      },
      "execution_count": null,
      "outputs": [
        {
          "output_type": "stream",
          "name": "stdout",
          "text": [
            "number of iterations =  100\n",
            "K = 12, E = 2\n",
            "num of iterations = 100, noise sigma = 1.0\n",
            "Prediction time for batch size 12: 0.663466 seconds\n",
            "100% completed\n",
            "Time: 74.727300 seconds\n"
          ]
        },
        {
          "output_type": "display_data",
          "data": {
            "text/plain": [
              "<Figure size 432x288 with 1 Axes>"
            ],
            "image/png": "[encoded data removed]"
          },
          "metadata": {
            "needs_background": "light"
          }
        }
      ]
    },
    {
      "cell_type": "code",
      "source": [
        "ds.plot_K(S=0, K_list= 12, e_max=3, noise_sigma= 1.0)"
      ],
      "metadata": {
        "colab": {
          "base_uri": "https://localhost:8080/",
          "height": 397
        },
        "id": "t1qPlxGzfEgh",
        "outputId": "6b37df72-bc0b-49a1-a7ea-fb6c41c76c7e"
      },
      "execution_count": null,
      "outputs": [
        {
          "output_type": "stream",
          "name": "stdout",
          "text": [
            "number of iterations =  100\n",
            "K = 12, E = 3\n",
            "num of iterations = 100, noise sigma = 1.0\n",
            "Prediction time for batch size 12: 0.697027 seconds\n",
            "100% completed\n",
            "Time: 67.464064 seconds\n"
          ]
        },
        {
          "output_type": "display_data",
          "data": {
            "text/plain": [
              "<Figure size 432x288 with 1 Axes>"
            ],
            "image/png": "[encoded data removed]"
          },
          "metadata": {
            "needs_background": "light"
          }
        }
      ]
    },
    {
      "cell_type": "code",
      "source": [
        "ds.plot_K(S=0, K_list= 12, e_max=1, noise_sigma= 10.0)"
      ],
      "metadata": {
        "colab": {
          "base_uri": "https://localhost:8080/",
          "height": 380
        },
        "id": "rwMaqYKmedZb",
        "outputId": "f93ed679-0771-4bea-8d9c-c3995af8f48b"
      },
      "execution_count": null,
      "outputs": [
        {
          "output_type": "stream",
          "name": "stdout",
          "text": [
            "number of iterations =  100\n",
            "K = 12, E = 1\n",
            "Prediction time for batch size 12: 0.613797 seconds\n",
            "100% completed\n",
            "Time: 60.713815 seconds\n"
          ]
        },
        {
          "output_type": "display_data",
          "data": {
            "text/plain": [
              "<Figure size 432x288 with 1 Axes>"
            ],
            "image/png": "[encoded data removed]"
          },
          "metadata": {
            "needs_background": "light"
          }
        }
      ]
    },
    {
      "cell_type": "code",
      "source": [
        "ds.plot_K(S=0, K_list= 12, e_max=2, noise_sigma= 10.0)"
      ],
      "metadata": {
        "id": "ArxfzMmzedz6"
      },
      "execution_count": null,
      "outputs": []
    },
    {
      "cell_type": "code",
      "source": [
        "ds.plot_K(S=0, K_list= 12, e_max=3, noise_sigma= 10.0)"
      ],
      "metadata": {
        "id": "-yfchC8EeeEb"
      },
      "execution_count": null,
      "outputs": []
    },
    {
      "cell_type": "code",
      "source": [
        "ds.plot_K(S=0, K_list= 12, e_max=1, noise_sigma= 100.0)"
      ],
      "metadata": {
        "id": "8mEf3VosfIKr"
      },
      "execution_count": null,
      "outputs": []
    },
    {
      "cell_type": "code",
      "source": [
        "ds.plot_K(S=0, K_list= 12, e_max=2, noise_sigma= 100.0)"
      ],
      "metadata": {
        "id": "un1ZfBJIu5_2"
      },
      "execution_count": null,
      "outputs": []
    },
    {
      "cell_type": "code",
      "source": [
        "ds.plot_K(S=0, K_list= 12, e_max=3, noise_sigma= 100.0)"
      ],
      "metadata": {
        "id": "vvaXDvz2u6VU"
      },
      "execution_count": null,
      "outputs": []
    },
    {
      "cell_type": "code",
      "source": [],
      "metadata": {
        "id": "JxYr_9ytEil4"
      },
      "execution_count": null,
      "outputs": []
    }
  ]
}