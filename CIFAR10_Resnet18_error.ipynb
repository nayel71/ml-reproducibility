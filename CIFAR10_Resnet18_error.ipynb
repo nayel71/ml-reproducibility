{
  "nbformat": 4,
  "nbformat_minor": 0,
  "metadata": {
    "colab": {
      "provenance": [],
      "collapsed_sections": [
        "obt8CmA60ahv",
        "yzMgV354zOxO",
        "NJYk63mjzeN_"
      ]
    },
    "kernelspec": {
      "name": "python3",
      "display_name": "Python 3"
    },
    "language_info": {
      "name": "python"
    },
    "widgets": {
      "application/vnd.jupyter.widget-state+json": {
        "46cd8540f6484b02bd8171f0b5edbef2": {
          "model_module": "@jupyter-widgets/controls",
          "model_name": "HBoxModel",
          "model_module_version": "1.5.0",
          "state": {
            "_dom_classes": [],
            "_model_module": "@jupyter-widgets/controls",
            "_model_module_version": "1.5.0",
            "_model_name": "HBoxModel",
            "_view_count": null,
            "_view_module": "@jupyter-widgets/controls",
            "_view_module_version": "1.5.0",
            "_view_name": "HBoxView",
            "box_style": "",
            "children": [
              "IPY_MODEL_a3400d304d0a4e049d6cbf7f4eb2722d",
              "IPY_MODEL_46fbf7ca812740ab913f1932ae9a0965",
              "IPY_MODEL_3c91bf5c8b53437fb60e2096e31cb9d5"
            ],
            "layout": "IPY_MODEL_abb2e683d8a448c5ad34b5dde3253aa6"
          }
        },
        "a3400d304d0a4e049d6cbf7f4eb2722d": {
          "model_module": "@jupyter-widgets/controls",
          "model_name": "HTMLModel",
          "model_module_version": "1.5.0",
          "state": {
            "_dom_classes": [],
            "_model_module": "@jupyter-widgets/controls",
            "_model_module_version": "1.5.0",
            "_model_name": "HTMLModel",
            "_view_count": null,
            "_view_module": "@jupyter-widgets/controls",
            "_view_module_version": "1.5.0",
            "_view_name": "HTMLView",
            "description": "",
            "description_tooltip": null,
            "layout": "IPY_MODEL_84fe64868aee4ce2aa10c6bf63310a48",
            "placeholder": "​",
            "style": "IPY_MODEL_033b5ef3b2c1463ea6482979e41011f3",
            "value": "100%"
          }
        },
        "46fbf7ca812740ab913f1932ae9a0965": {
          "model_module": "@jupyter-widgets/controls",
          "model_name": "FloatProgressModel",
          "model_module_version": "1.5.0",
          "state": {
            "_dom_classes": [],
            "_model_module": "@jupyter-widgets/controls",
            "_model_module_version": "1.5.0",
            "_model_name": "FloatProgressModel",
            "_view_count": null,
            "_view_module": "@jupyter-widgets/controls",
            "_view_module_version": "1.5.0",
            "_view_name": "ProgressView",
            "bar_style": "success",
            "description": "",
            "description_tooltip": null,
            "layout": "IPY_MODEL_1e77bae7f5644c3fb769152f0ea90f2a",
            "max": 170498071,
            "min": 0,
            "orientation": "horizontal",
            "style": "IPY_MODEL_5181095152d64d2a9bfaa5944e3d845b",
            "value": 170498071
          }
        },
        "3c91bf5c8b53437fb60e2096e31cb9d5": {
          "model_module": "@jupyter-widgets/controls",
          "model_name": "HTMLModel",
          "model_module_version": "1.5.0",
          "state": {
            "_dom_classes": [],
            "_model_module": "@jupyter-widgets/controls",
            "_model_module_version": "1.5.0",
            "_model_name": "HTMLModel",
            "_view_count": null,
            "_view_module": "@jupyter-widgets/controls",
            "_view_module_version": "1.5.0",
            "_view_name": "HTMLView",
            "description": "",
            "description_tooltip": null,
            "layout": "IPY_MODEL_9bdd0a794e054a20b9da74b0f352b7f0",
            "placeholder": "​",
            "style": "IPY_MODEL_1a919792b83e4a3094e419008e0e1071",
            "value": " 170498071/170498071 [00:02&lt;00:00, 86190070.33it/s]"
          }
        },
        "abb2e683d8a448c5ad34b5dde3253aa6": {
          "model_module": "@jupyter-widgets/base",
          "model_name": "LayoutModel",
          "model_module_version": "1.2.0",
          "state": {
            "_model_module": "@jupyter-widgets/base",
            "_model_module_version": "1.2.0",
            "_model_name": "LayoutModel",
            "_view_count": null,
            "_view_module": "@jupyter-widgets/base",
            "_view_module_version": "1.2.0",
            "_view_name": "LayoutView",
            "align_content": null,
            "align_items": null,
            "align_self": null,
            "border": null,
            "bottom": null,
            "display": null,
            "flex": null,
            "flex_flow": null,
            "grid_area": null,
            "grid_auto_columns": null,
            "grid_auto_flow": null,
            "grid_auto_rows": null,
            "grid_column": null,
            "grid_gap": null,
            "grid_row": null,
            "grid_template_areas": null,
            "grid_template_columns": null,
            "grid_template_rows": null,
            "height": null,
            "justify_content": null,
            "justify_items": null,
            "left": null,
            "margin": null,
            "max_height": null,
            "max_width": null,
            "min_height": null,
            "min_width": null,
            "object_fit": null,
            "object_position": null,
            "order": null,
            "overflow": null,
            "overflow_x": null,
            "overflow_y": null,
            "padding": null,
            "right": null,
            "top": null,
            "visibility": null,
            "width": null
          }
        },
        "84fe64868aee4ce2aa10c6bf63310a48": {
          "model_module": "@jupyter-widgets/base",
          "model_name": "LayoutModel",
          "model_module_version": "1.2.0",
          "state": {
            "_model_module": "@jupyter-widgets/base",
            "_model_module_version": "1.2.0",
            "_model_name": "LayoutModel",
            "_view_count": null,
            "_view_module": "@jupyter-widgets/base",
            "_view_module_version": "1.2.0",
            "_view_name": "LayoutView",
            "align_content": null,
            "align_items": null,
            "align_self": null,
            "border": null,
            "bottom": null,
            "display": null,
            "flex": null,
            "flex_flow": null,
            "grid_area": null,
            "grid_auto_columns": null,
            "grid_auto_flow": null,
            "grid_auto_rows": null,
            "grid_column": null,
            "grid_gap": null,
            "grid_row": null,
            "grid_template_areas": null,
            "grid_template_columns": null,
            "grid_template_rows": null,
            "height": null,
            "justify_content": null,
            "justify_items": null,
            "left": null,
            "margin": null,
            "max_height": null,
            "max_width": null,
            "min_height": null,
            "min_width": null,
            "object_fit": null,
            "object_position": null,
            "order": null,
            "overflow": null,
            "overflow_x": null,
            "overflow_y": null,
            "padding": null,
            "right": null,
            "top": null,
            "visibility": null,
            "width": null
          }
        },
        "033b5ef3b2c1463ea6482979e41011f3": {
          "model_module": "@jupyter-widgets/controls",
          "model_name": "DescriptionStyleModel",
          "model_module_version": "1.5.0",
          "state": {
            "_model_module": "@jupyter-widgets/controls",
            "_model_module_version": "1.5.0",
            "_model_name": "DescriptionStyleModel",
            "_view_count": null,
            "_view_module": "@jupyter-widgets/base",
            "_view_module_version": "1.2.0",
            "_view_name": "StyleView",
            "description_width": ""
          }
        },
        "1e77bae7f5644c3fb769152f0ea90f2a": {
          "model_module": "@jupyter-widgets/base",
          "model_name": "LayoutModel",
          "model_module_version": "1.2.0",
          "state": {
            "_model_module": "@jupyter-widgets/base",
            "_model_module_version": "1.2.0",
            "_model_name": "LayoutModel",
            "_view_count": null,
            "_view_module": "@jupyter-widgets/base",
            "_view_module_version": "1.2.0",
            "_view_name": "LayoutView",
            "align_content": null,
            "align_items": null,
            "align_self": null,
            "border": null,
            "bottom": null,
            "display": null,
            "flex": null,
            "flex_flow": null,
            "grid_area": null,
            "grid_auto_columns": null,
            "grid_auto_flow": null,
            "grid_auto_rows": null,
            "grid_column": null,
            "grid_gap": null,
            "grid_row": null,
            "grid_template_areas": null,
            "grid_template_columns": null,
            "grid_template_rows": null,
            "height": null,
            "justify_content": null,
            "justify_items": null,
            "left": null,
            "margin": null,
            "max_height": null,
            "max_width": null,
            "min_height": null,
            "min_width": null,
            "object_fit": null,
            "object_position": null,
            "order": null,
            "overflow": null,
            "overflow_x": null,
            "overflow_y": null,
            "padding": null,
            "right": null,
            "top": null,
            "visibility": null,
            "width": null
          }
        },
        "5181095152d64d2a9bfaa5944e3d845b": {
          "model_module": "@jupyter-widgets/controls",
          "model_name": "ProgressStyleModel",
          "model_module_version": "1.5.0",
          "state": {
            "_model_module": "@jupyter-widgets/controls",
            "_model_module_version": "1.5.0",
            "_model_name": "ProgressStyleModel",
            "_view_count": null,
            "_view_module": "@jupyter-widgets/base",
            "_view_module_version": "1.2.0",
            "_view_name": "StyleView",
            "bar_color": null,
            "description_width": ""
          }
        },
        "9bdd0a794e054a20b9da74b0f352b7f0": {
          "model_module": "@jupyter-widgets/base",
          "model_name": "LayoutModel",
          "model_module_version": "1.2.0",
          "state": {
            "_model_module": "@jupyter-widgets/base",
            "_model_module_version": "1.2.0",
            "_model_name": "LayoutModel",
            "_view_count": null,
            "_view_module": "@jupyter-widgets/base",
            "_view_module_version": "1.2.0",
            "_view_name": "LayoutView",
            "align_content": null,
            "align_items": null,
            "align_self": null,
            "border": null,
            "bottom": null,
            "display": null,
            "flex": null,
            "flex_flow": null,
            "grid_area": null,
            "grid_auto_columns": null,
            "grid_auto_flow": null,
            "grid_auto_rows": null,
            "grid_column": null,
            "grid_gap": null,
            "grid_row": null,
            "grid_template_areas": null,
            "grid_template_columns": null,
            "grid_template_rows": null,
            "height": null,
            "justify_content": null,
            "justify_items": null,
            "left": null,
            "margin": null,
            "max_height": null,
            "max_width": null,
            "min_height": null,
            "min_width": null,
            "object_fit": null,
            "object_position": null,
            "order": null,
            "overflow": null,
            "overflow_x": null,
            "overflow_y": null,
            "padding": null,
            "right": null,
            "top": null,
            "visibility": null,
            "width": null
          }
        },
        "1a919792b83e4a3094e419008e0e1071": {
          "model_module": "@jupyter-widgets/controls",
          "model_name": "DescriptionStyleModel",
          "model_module_version": "1.5.0",
          "state": {
            "_model_module": "@jupyter-widgets/controls",
            "_model_module_version": "1.5.0",
            "_model_name": "DescriptionStyleModel",
            "_view_count": null,
            "_view_module": "@jupyter-widgets/base",
            "_view_module_version": "1.2.0",
            "_view_name": "StyleView",
            "description_width": ""
          }
        }
      }
    }
  },
  "cells": [
    {
      "cell_type": "code",
      "source": [
        "import torch\n",
        "import numpy as np\n",
        "import matplotlib.pyplot as plt\n",
        "from torchvision.datasets import CIFAR10, MNIST\n",
        "from torch.utils.data.dataloader import DataLoader\n",
        "from torchvision import transforms\n",
        "import tensorflow.keras as keras\n",
        "import os\n",
        "import sys\n",
        "import time\n",
        "\n",
        "\n",
        "PATH = \"/content/drive/MyDrive/ColabNotebooks_Nov22/\"\n",
        "# NOTE: Update MODEL according to the model\n",
        "MODEL = \"ResNet-18\"\n",
        "to_string = {MNIST: \"MNIST\", CIFAR10: \"CIFAR-10\"}\n",
        "\n",
        "\n",
        "class Dataset:\n",
        "    def __init__(self, model, data):\n",
        "        \"\"\"\n",
        "        model: pre-trained ResNet model\n",
        "        data: CIFAR10 or MNIST\n",
        "        \"\"\"\n",
        "        self.model = model\n",
        "        self.data = data\n",
        "        self.num_classes = 10\n",
        "\n",
        "        transform = transforms.Compose([\n",
        "            #transforms.Resize(256),\n",
        "            #transforms.RandomCrop(224),\n",
        "            #transforms.RandomHorizontalFlip(),\n",
        "            transforms.ToTensor(),\n",
        "            transforms.Normalize(\n",
        "                (0.4914, 0.4822, 0.4465), (0.2471, 0.2435, 0.2616)\n",
        "                #(0.5, 0.5, 0.5), (0.25, 0.25, 0.25)\n",
        "            )\n",
        "        ]) if self.data is CIFAR10 else transforms.Compose([\n",
        "            transforms.ToTensor()\n",
        "        ])\n",
        "        test_dataset = self.data(\n",
        "            root=\"data/\", train=False, transform=transform, download=True\n",
        "        )\n",
        "        self.test_loader = DataLoader(test_dataset, \n",
        "                                      128, \n",
        "                                      num_workers=0, \n",
        "                                      pin_memory=True)\n",
        "\n",
        "        # manual normalization\n",
        "        # mean = [0.5, 0.5, 0.5]\n",
        "        # std = [0.25, 0.25, 0.25]\n",
        "        if self.data is CIFAR10:\n",
        "            (train_x, train_y), (test_x, test_y) = (keras\n",
        "                                                    .datasets\n",
        "                                                    .cifar10\n",
        "                                                    .load_data())\n",
        "            mean = [0.4914, 0.4822, 0.4465]\n",
        "            std = [0.2471, 0.2435, 0.2616]\n",
        "        else:\n",
        "            (train_x, train_y), (test_x, test_y) = (keras\n",
        "                                                    .datasets\n",
        "                                                    .mnist\n",
        "                                                    .load_data())\n",
        "            mean = 0\n",
        "            std = 1\n",
        "\n",
        "        train_x = train_x / 255.0\n",
        "        test_x = test_x / 255.0\n",
        "        test_x = (test_x - mean) / std\n",
        "        self.test_x = test_x\n",
        "        self.test_y = test_y\n",
        "        print(\"current version: 27-5\")\n",
        "        print(f\"training set size = {train_x.shape[0]}, test set size = {test_x.shape[0]}\")\n",
        "\n",
        "\n",
        "    def accuracy_pytorch(self):\n",
        "        start_time = time.time()\n",
        "        correct = 0\n",
        "        total = 0\n",
        "        # since we're not training, we don't need to calculate the gradients \n",
        "        # for our outputs\n",
        "        with torch.no_grad():\n",
        "            for data in self.test_loader:\n",
        "                images, labels = data\n",
        "                # calculate outputs by running images through the network\n",
        "                outputs = self.model(images)\n",
        "                # the class with the highest energy is what we choose as \n",
        "                # prediction\n",
        "                _, predicted = torch.max(outputs[0] if isinstance(outputs,\n",
        "                    tuple) else outputs.data, 1)\n",
        "                total += labels.size(0)\n",
        "                correct += (predicted == labels).sum().item()\n",
        "        \n",
        "        print(f\"accuracy_pytorch function completed. \\nTime: {time.time() - start_time:.6f} seconds\")\n",
        "        return correct / total\n",
        "\n",
        "    def accuracy(self):\n",
        "        start_time = time.time()\n",
        "        n = self.test_x.shape[0]\n",
        "        accuracy = self.determine_accuracy(np.arange(n)) / n\n",
        "        print(f\"accuracy function completed. \\nTime: {time.time() - start_time:.6f} seconds\")\n",
        "\n",
        "        return accuracy\n",
        "\n",
        "    # Berrut Encoder\n",
        "    def encoder(self, X, N):\n",
        "        if self.data is CIFAR10:\n",
        "            [K, H, W, C] = np.shape(X)\n",
        "        else:\n",
        "            [K, H, W] = np.shape(X)\n",
        "        alpha = np.zeros(K)\n",
        "        for j in range(K):\n",
        "            alpha[j] = np.cos(((2*j+1)*np.pi) / (2*K))\n",
        "        all_z = np.zeros(N)\n",
        "        for i in range(N):\n",
        "            all_z[i] = np.cos((i*np.pi) / N)\n",
        "        coded_X = (np.zeros([N, H, W, C]) if self.data is CIFAR10 else\n",
        "                np.zeros([N, H, W]))\n",
        "        for n in range(N):\n",
        "            z = all_z[n]\n",
        "            den = 0\n",
        "            for j in range(K):\n",
        "                den = den + np.power(-1, j) / (z - alpha[j])\n",
        "            for i in range(K):\n",
        "                coded_X[n,] = (coded_X[n,] \n",
        "                               + ((np.power(-1, i)/(z-alpha[i]))/den)*X[i,])\n",
        "        return coded_X\n",
        "\n",
        "    # Returns the error locations\n",
        "    def welch_decoder(self, y, K, N, retuned_points_indices):  \n",
        "        e_max = int((N - 2 * K) / 2)\n",
        "        e = e_max\n",
        "        alpha = np.zeros(K)\n",
        "        for j in range(K):\n",
        "            alpha[j] = np.cos(((2 * j + 1) * np.pi) / (2 * K))\n",
        "\n",
        "        all_z = np.zeros(N)\n",
        "        for i in range(N):\n",
        "            all_z[i] = np.cos((i * np.pi) / N)\n",
        "\n",
        "        returned_z=all_z[retuned_points_indices]\n",
        "\n",
        "        A1 = np.vander(returned_z, N=K + e)\n",
        "        A2 = np.vander(returned_z, N=K + e )\n",
        "        A2 = -A2[:, 0:K + e-1]\n",
        "        A2 = A2 * y\n",
        "        A = np.concatenate([A1, A2], axis=1)\n",
        "        A_psudo_inv = np.linalg.pinv(A)\n",
        "        coeffs = np.matmul(A_psudo_inv, y)\n",
        "\n",
        "        a = coeffs[0:K + e, 0]\n",
        "        b = coeffs[K + e:2 * (K + e)-1, 0]\n",
        "        b = np.reshape(b, [len(b), 1])\n",
        "        bb = np.concatenate([b, np.ones([1, 1])])\n",
        "        qlambda_evals = np.zeros([N, 1])\n",
        "\n",
        "        output = np.zeros([N, 1])\n",
        "        for i in range(N):\n",
        "            qlambda_evals[i] = np.polyval(bb, all_z[i])\n",
        "\n",
        "        idx = np.argpartition(np.abs(qlambda_evals.transpose()), e)\n",
        "        output = (np.sort(idx[:, :e]))\n",
        "\n",
        "        return np.sort(idx[:, :e])\n",
        "\n",
        "    # Berrut Decoder\n",
        "    def decoder(self, Y, K, N, indices, sigma):\n",
        "\n",
        "        # when E > 0 \n",
        "        if indices.size != K:\n",
        "            e = int((N - 2*K)/2)\n",
        "            if (N, self.num_classes) != np.shape(Y):\n",
        "                raise Exception(\"Shape of Y not matched\")\n",
        "            error_indices = np.random.permutation(indices)[:e]\n",
        "            # print(\"true error loc: \", np.sort(error_indices))\n",
        "            Y[error_indices, :]=Y[error_indices,:]+np.random.normal(0,sigma,[e,self.num_classes])\n",
        "            adversary_indices_matrix=np.zeros([e, self.num_classes])\n",
        "            for i in range(self.num_classes):\n",
        "                y=Y[indices,i]\n",
        "                y=np.reshape(y,[len(y),1])\n",
        "                adversary_indices_matrix[:,i]=self.welch_decoder(y,K,N,indices)\n",
        "\n",
        "\n",
        "            flattened_adversary_indices= adversary_indices_matrix.flatten()\n",
        "            flattened_adversary_indices=np.reshape(flattened_adversary_indices,[1,len(flattened_adversary_indices)])\n",
        "            bin_count=(np.bincount(flattened_adversary_indices[0,:].astype(np.int64)))\n",
        "            temp=((np.argsort(bin_count)))\n",
        "            error_locations_predicted=temp[-e:]\n",
        "            # print(\"predicted error loc: \", np.sort(error_locations_predicted))\n",
        "            \n",
        "            for i in range(len(error_locations_predicted)):\n",
        "                loc=np.where(indices == error_locations_predicted[i])\n",
        "                indices=np.delete(indices,loc)\n",
        "\n",
        "\n",
        "        F = len(indices)\n",
        "        alpha = np.zeros(K)\n",
        "        for j in range(K):\n",
        "            alpha[j] = np.cos(((2*j+1)*np.pi) / (2*K))\n",
        "\n",
        "        z_bar = np.zeros(N)\n",
        "        for i in range(N):\n",
        "            z_bar[i] = np.cos((i*np.pi) / N)\n",
        "\n",
        "        probs = np.zeros([K, self.num_classes])\n",
        "        for digit in range(self.num_classes):\n",
        "            for i in range(K):\n",
        "                z = alpha[i]\n",
        "                den = 0\n",
        "                for j in range(F):\n",
        "                    den = den + np.power(-1, j) / (z - z_bar[indices[j]])\n",
        "                for l in range(F):\n",
        "                    probs[i, digit] = probs[i, digit] + ((((np.power(-1, l))\n",
        "                        / (z - z_bar[indices[l]])) / den) * Y[indices[l],\n",
        "                            digit])\n",
        "\n",
        "        return probs\n",
        "\n",
        "    def outputs(self, Y):\n",
        "        n = len(Y)\n",
        "        outputs = np.zeros([n, self.num_classes])\n",
        "        for i in range(n):\n",
        "            data = Y[i,]\n",
        "            torch_sample = torch.from_numpy(data).float()\n",
        "            torch_sample = (torch_sample.permute(2, 0, 1) if self.data is\n",
        "                    CIFAR10 else torch_sample.unsqueeze(0))\n",
        "            torch_sample = torch_sample.unsqueeze(0)\n",
        "            output = self.model(torch_sample)\n",
        "            outputs[i,] = ((output[0] if isinstance(output, tuple) else\n",
        "                output).detach().numpy()[0])\n",
        "\n",
        "        return outputs\n",
        "\n",
        "    def determine_accuracy(self, input_batch_ids):\n",
        "        input_batch = self.test_x[input_batch_ids]\n",
        "        n = len(input_batch)\n",
        "        predictions = np.zeros([n, 1])\n",
        "        for i in range(n):\n",
        "            data = input_batch[i,]\n",
        "            torch_sample = torch.from_numpy(data).float()\n",
        "            torch_sample = (torch_sample.permute(2, 0, 1) if self.data is\n",
        "                    CIFAR10 else torch_sample.unsqueeze(0))\n",
        "            torch_sample = torch_sample.unsqueeze(0)\n",
        "            pred = self.model(torch_sample)\n",
        "            _, predicts = (torch.max(pred[0] if isinstance(pred, tuple) else\n",
        "                pred, 1))\n",
        "            predictions[i] = predicts.numpy()[0]\n",
        "\n",
        "        temp = self.test_y[input_batch_ids]\n",
        "        if self.data is MNIST:\n",
        "            temp = np.reshape(temp, [n, 1])\n",
        "        diff = temp - predictions\n",
        "        return n - np.count_nonzero(diff)\n",
        "\n",
        "    def accuracy_comparison(self, K, N, S, iterations, sigma=0.0):\n",
        "        start_time = time.time()\n",
        "        berrut_acc = 0\n",
        "        center_acc = 0\n",
        "        print(f\"num of iterations = {iterations}, noise sigma = {sigma}\")\n",
        "        for i in range(iterations):\n",
        "            # Random data\n",
        "            shuffled_indices = np.random.permutation(self.test_x.shape[0])\n",
        "            random_indices = shuffled_indices[0:K]\n",
        "            random_indices = np.sort(random_indices)\n",
        "            test_sample_x = self.test_x[random_indices]\n",
        "\n",
        "            single_center_acc = self.determine_accuracy(random_indices)\n",
        "            center_acc += single_center_acc / K\n",
        "            \n",
        "            # Distributed Inference\n",
        "            # encoding test data\n",
        "            coded_test_sample_x = self.encoder(test_sample_x, N)\n",
        "            outputs = self.outputs(coded_test_sample_x)\n",
        "\n",
        "            # Determining stragglers' indices\n",
        "            stragglers = np.random.permutation(N)\n",
        "            stragglers = stragglers[0:N - S]\n",
        "            stragglers = np.sort(stragglers)\n",
        "            test_sample_out = self.decoder(outputs, K, N, stragglers, sigma)\n",
        "\n",
        "            # Perfomance Evaluation\n",
        "            true_labels = self.test_y[random_indices]\n",
        "            true_labels = np.reshape(true_labels, [len(true_labels), 1])\n",
        "            berrut_preds = np.argmax(test_sample_out, axis=1)\n",
        "            berrut_preds = berrut_preds.reshape(K, 1)\n",
        "            berrut_acc = (berrut_acc + np.count_nonzero(berrut_preds\n",
        "                - true_labels) / K)\n",
        "            if i is 0:\n",
        "                print(f\"Prediction time for batch size {K}: \"\n",
        "                        f\"{time.time() - start_time:.6f} seconds\")\n",
        "            print(f\"\\r{(i+1)*100 // iterations}% completed\", end=\"... \" if\n",
        "                    i + 1 < iterations else \"\")\n",
        "        \n",
        "        print()\n",
        "        print(f\"Time: {time.time() - start_time:.6f} seconds\")\n",
        "\n",
        "        return 1 - berrut_acc/iterations, center_acc / iterations\n",
        "\n",
        "    # Plot vs K\n",
        "    def plot_K(self, S=1, K_list=8, e_max=0, noise_sigma = 10.0):\n",
        "\n",
        "        if isinstance(K_list, int):\n",
        "            K_list = [K_list]\n",
        "\n",
        "        berrut_acc = np.zeros(len(K_list))\n",
        "        center_acc = np.zeros(len(K_list))\n",
        "\n",
        "        iterations = 100 if self.data is CIFAR10 else 300\n",
        "        # iterations = 10 # for debug\n",
        "        print(\"number of iterations = \", iterations)\n",
        "\n",
        "\n",
        "        for i, K in enumerate(K_list):\n",
        "            if e_max == 0:\n",
        "                print(f\"K = {K}\")\n",
        "                berrut_acc[i], center_acc[i] = \\\n",
        "                        self.accuracy_comparison(K, K + S, S, iterations) \n",
        "            else:\n",
        "                print(f\"K = {K}, E = {e_max}\")\n",
        "                berrut_acc[i], center_acc[i] = \\\n",
        "                        self.accuracy_comparison(K, 2* K + S + 2*e_max, S, iterations, sigma = noise_sigma)\n",
        "        path = f\"{PATH}/{MODEL}/{to_string[self.data]}/S_only/{S}/\"\n",
        "        if not os.path.exists(path):\n",
        "            os.makedirs(path)\n",
        "        os.chdir(path)\n",
        "\n",
        "        with open(f\"output.txt\", \"w\") as f:\n",
        "            f.write(f\"N = K + 1, S = {S}, iterations = {iterations}\\n\")\n",
        "            f.write(f\"K = {K_list}\\n\")\n",
        "            f.write(f\"Berrut Accuracy = {berrut_acc}\\n\")\n",
        "            f.write(f\"Centralized Accuracy = {center_acc}\")\n",
        "\n",
        "        bar_width = 0.2\n",
        "        X_axis = np.arange(len(K_list))\n",
        "        plt.xticks(X_axis, K_list)\n",
        "\n",
        "        plt.bar(X_axis - bar_width, berrut_acc, width=bar_width, \n",
        "                label=\"Berrut\")\n",
        "        for i, v in enumerate(berrut_acc):\n",
        "            plt.text(X_axis[i] - bar_width, v, f\"{v:.2f}\")\n",
        "\n",
        "        plt.bar(X_axis + bar_width, center_acc, width=bar_width, \n",
        "                label=\"Centralized\")\n",
        "        for i, v in enumerate(center_acc):\n",
        "            plt.text(X_axis[i] + bar_width, v, f\"{v:.2f}\")\n",
        "\n",
        "        plt.legend([\"Berrut\", \"Centralized\"])\n",
        "        plt.xlabel(\"K\")\n",
        "        plt.ylabel(\"Accuracy\")\n",
        "        plt.title(f\"{to_string[self.data]} accuracy for K = {K_list} \" \n",
        "                  f\"and S = {S} ({iterations} iterations)\")\n",
        "        plt.savefig(f\"{S}.png\")\n",
        "        plt.show()\n",
        "\n",
        "\n",
        "    # Plot vs E\n",
        "    def plot_E(self, S=0, K=8, E_list=1, noise_sigma = 10.0):\n",
        "\n",
        "        if isinstance(E_list, int):\n",
        "            E_list = [E_list]\n",
        "        if not isinstance(K, int):\n",
        "            raise Exception(\"K should contain only one integer\")\n",
        "            \n",
        "        berrut_acc = np.zeros(len(E_list))\n",
        "        center_acc = np.zeros(len(E_list))\n",
        "\n",
        "        iterations = 200 if self.data is CIFAR10 else 300\n",
        "        # iterations = 10 # for debug\n",
        "        print(\"number of iterations = \", iterations)\n",
        "\n",
        "\n",
        "        for i, e_max in enumerate(E_list):\n",
        "            if e_max == 0:\n",
        "                print(f\"K = {K}\")\n",
        "                berrut_acc[i], center_acc[i] = \\\n",
        "                        self.accuracy_comparison(K, K + S, S, iterations) \n",
        "            else:\n",
        "                print(f\"K = {K}, E = {e_max}\")\n",
        "                berrut_acc[i], center_acc[i] = \\\n",
        "                        self.accuracy_comparison(K, 2* K + S + 2*e_max, S, iterations, sigma = noise_sigma)\n",
        "        path = f\"{PATH}/{MODEL}/{to_string[self.data]}/E_only/sigma_{int(noise_sigma)}/K_{K}/\"\n",
        "        if not os.path.exists(path):\n",
        "            os.makedirs(path)\n",
        "        os.chdir(path)\n",
        "\n",
        "        with open(f\"output.txt\", \"w\") as f:\n",
        "            f.write(f\"N = 2* K + S + 2*E, S = {S}, iterations = {iterations}\\n\")\n",
        "            f.write(f\"E = {E_list}\\n\")\n",
        "            f.write(f\"$\\sigma$ = {noise_sigma}\\n\")\n",
        "            f.write(f\"Berrut Accuracy = {berrut_acc}\\n\")\n",
        "            f.write(f\"Centralized Accuracy = {np.mean(center_acc)}\")\n",
        "\n",
        "        bar_width = 0.2\n",
        "        X_axis = np.arange(len(E_list))\n",
        "        plt.xticks(X_axis, E_list)\n",
        "\n",
        "        plt.bar(X_axis - bar_width, berrut_acc, width=bar_width, \n",
        "                label=\"Berrut\")\n",
        "        for i, v in enumerate(berrut_acc):\n",
        "            plt.text(X_axis[i] - bar_width, v, f\"{v:.2f}\")\n",
        "\n",
        "        plt.bar(X_axis + bar_width, center_acc, width=bar_width, \n",
        "                label=\"Centralized\")\n",
        "        for i, v in enumerate(center_acc):\n",
        "            plt.text(X_axis[i] + bar_width, v, f\"{v:.2f}\")\n",
        "\n",
        "        plt.legend([\"Berrut\", \"Centralized\"])\n",
        "        plt.xlabel(\"E\")\n",
        "        plt.ylabel(\"Accuracy\")\n",
        "        plt.title(f\"{to_string[self.data]} accuracy ({iterations} iterations) \\n\"\n",
        "            f\"K = {K}, S = {S} and E = {E_list}, $\\sigma$ = {noise_sigma}\\n\")\n",
        "        plt.savefig(f\"{K}.png\")\n",
        "        plt.show()"
      ],
      "metadata": {
        "id": "a2z6y_y2cxii"
      },
      "execution_count": null,
      "outputs": []
    },
    {
      "cell_type": "markdown",
      "source": [
        "## Load \n"
      ],
      "metadata": {
        "id": "A5eRdRtiEmRT"
      }
    },
    {
      "cell_type": "code",
      "source": [
        "#  Colab only\n",
        "from google.colab import drive\n",
        "%matplotlib inline\n",
        "\n",
        "drive.mount(\"/content/drive\")"
      ],
      "metadata": {
        "id": "xt_AZg7cElAa",
        "colab": {
          "base_uri": "https://localhost:8080/"
        },
        "outputId": "44401e7b-21e1-44c6-8bf8-b31c9a99879a"
      },
      "execution_count": null,
      "outputs": [
        {
          "output_type": "stream",
          "name": "stdout",
          "text": [
            "Mounted at /content/drive\n"
          ]
        }
      ]
    },
    {
      "cell_type": "markdown",
      "source": [
        "# Base Imports"
      ],
      "metadata": {
        "id": "1Gyp9R9aphk9"
      }
    },
    {
      "cell_type": "code",
      "source": [
        "import sys\n",
        "import torch\n",
        "from torchvision.datasets import CIFAR10, MNIST\n",
        "\n",
        "PATH = \"/content/drive/MyDrive/ColabNotebooks_Nov22/\"\n",
        "sys.path.append(PATH)"
      ],
      "metadata": {
        "id": "66btabOnEkvZ"
      },
      "execution_count": null,
      "outputs": []
    },
    {
      "cell_type": "code",
      "source": [
        "import dataset_byzantine\n",
        "\n",
        "modulename = 'dataset_byzantine'\n",
        "if modulename not in sys.modules:\n",
        "    print('You have not imported the {} module'.format(modulename))\n",
        "dataset_byzantine.MODEL = \"ResNet-18\"\n",
        "# Dataset.MODEL = \"ResNet-18\"\n",
        "\n",
        "# DATA = MNIST\n",
        "DATA = CIFAR10"
      ],
      "metadata": {
        "id": "BuNmFKLUEkm8"
      },
      "execution_count": null,
      "outputs": []
    },
    {
      "cell_type": "code",
      "source": [],
      "metadata": {
        "id": "DEAowyiCEkfs"
      },
      "execution_count": null,
      "outputs": []
    },
    {
      "cell_type": "markdown",
      "source": [
        "## Model"
      ],
      "metadata": {
        "id": "obt8CmA60ahv"
      }
    },
    {
      "cell_type": "code",
      "source": [
        "if DATA is CIFAR10:\n",
        "    import cifar10_models_resnet as resnet\n",
        "    model = resnet.resnet18(pretrained=True)\n",
        "else:\n",
        "    import resnet18 as resnet\n",
        "    model = resnet.ResNet18(size_for_cifar=False)\n",
        "    model.load_state_dict(torch.load(PATH + \"mnist_resnet18_model.t7\"))\n",
        "\n",
        "model.eval()"
      ],
      "metadata": {
        "colab": {
          "base_uri": "https://localhost:8080/"
        },
        "id": "B8fUnWlw0Yay",
        "outputId": "6fcd612c-616c-43db-f075-ee1c3a2daf5d"
      },
      "execution_count": null,
      "outputs": [
        {
          "output_type": "execute_result",
          "data": {
            "text/plain": [
              "ResNet(\n",
              "  (conv1): Conv2d(3, 64, kernel_size=(3, 3), stride=(1, 1), padding=(1, 1), bias=False)\n",
              "  (bn1): BatchNorm2d(64, eps=1e-05, momentum=0.1, affine=True, track_running_stats=True)\n",
              "  (relu): ReLU(inplace=True)\n",
              "  (maxpool): MaxPool2d(kernel_size=3, stride=2, padding=1, dilation=1, ceil_mode=False)\n",
              "  (layer1): Sequential(\n",
              "    (0): BasicBlock(\n",
              "      (conv1): Conv2d(64, 64, kernel_size=(3, 3), stride=(1, 1), padding=(1, 1), bias=False)\n",
              "      (bn1): BatchNorm2d(64, eps=1e-05, momentum=0.1, affine=True, track_running_stats=True)\n",
              "      (relu): ReLU(inplace=True)\n",
              "      (conv2): Conv2d(64, 64, kernel_size=(3, 3), stride=(1, 1), padding=(1, 1), bias=False)\n",
              "      (bn2): BatchNorm2d(64, eps=1e-05, momentum=0.1, affine=True, track_running_stats=True)\n",
              "    )\n",
              "    (1): BasicBlock(\n",
              "      (conv1): Conv2d(64, 64, kernel_size=(3, 3), stride=(1, 1), padding=(1, 1), bias=False)\n",
              "      (bn1): BatchNorm2d(64, eps=1e-05, momentum=0.1, affine=True, track_running_stats=True)\n",
              "      (relu): ReLU(inplace=True)\n",
              "      (conv2): Conv2d(64, 64, kernel_size=(3, 3), stride=(1, 1), padding=(1, 1), bias=False)\n",
              "      (bn2): BatchNorm2d(64, eps=1e-05, momentum=0.1, affine=True, track_running_stats=True)\n",
              "    )\n",
              "  )\n",
              "  (layer2): Sequential(\n",
              "    (0): BasicBlock(\n",
              "      (conv1): Conv2d(64, 128, kernel_size=(3, 3), stride=(2, 2), padding=(1, 1), bias=False)\n",
              "      (bn1): BatchNorm2d(128, eps=1e-05, momentum=0.1, affine=True, track_running_stats=True)\n",
              "      (relu): ReLU(inplace=True)\n",
              "      (conv2): Conv2d(128, 128, kernel_size=(3, 3), stride=(1, 1), padding=(1, 1), bias=False)\n",
              "      (bn2): BatchNorm2d(128, eps=1e-05, momentum=0.1, affine=True, track_running_stats=True)\n",
              "      (downsample): Sequential(\n",
              "        (0): Conv2d(64, 128, kernel_size=(1, 1), stride=(2, 2), bias=False)\n",
              "        (1): BatchNorm2d(128, eps=1e-05, momentum=0.1, affine=True, track_running_stats=True)\n",
              "      )\n",
              "    )\n",
              "    (1): BasicBlock(\n",
              "      (conv1): Conv2d(128, 128, kernel_size=(3, 3), stride=(1, 1), padding=(1, 1), bias=False)\n",
              "      (bn1): BatchNorm2d(128, eps=1e-05, momentum=0.1, affine=True, track_running_stats=True)\n",
              "      (relu): ReLU(inplace=True)\n",
              "      (conv2): Conv2d(128, 128, kernel_size=(3, 3), stride=(1, 1), padding=(1, 1), bias=False)\n",
              "      (bn2): BatchNorm2d(128, eps=1e-05, momentum=0.1, affine=True, track_running_stats=True)\n",
              "    )\n",
              "  )\n",
              "  (layer3): Sequential(\n",
              "    (0): BasicBlock(\n",
              "      (conv1): Conv2d(128, 256, kernel_size=(3, 3), stride=(2, 2), padding=(1, 1), bias=False)\n",
              "      (bn1): BatchNorm2d(256, eps=1e-05, momentum=0.1, affine=True, track_running_stats=True)\n",
              "      (relu): ReLU(inplace=True)\n",
              "      (conv2): Conv2d(256, 256, kernel_size=(3, 3), stride=(1, 1), padding=(1, 1), bias=False)\n",
              "      (bn2): BatchNorm2d(256, eps=1e-05, momentum=0.1, affine=True, track_running_stats=True)\n",
              "      (downsample): Sequential(\n",
              "        (0): Conv2d(128, 256, kernel_size=(1, 1), stride=(2, 2), bias=False)\n",
              "        (1): BatchNorm2d(256, eps=1e-05, momentum=0.1, affine=True, track_running_stats=True)\n",
              "      )\n",
              "    )\n",
              "    (1): BasicBlock(\n",
              "      (conv1): Conv2d(256, 256, kernel_size=(3, 3), stride=(1, 1), padding=(1, 1), bias=False)\n",
              "      (bn1): BatchNorm2d(256, eps=1e-05, momentum=0.1, affine=True, track_running_stats=True)\n",
              "      (relu): ReLU(inplace=True)\n",
              "      (conv2): Conv2d(256, 256, kernel_size=(3, 3), stride=(1, 1), padding=(1, 1), bias=False)\n",
              "      (bn2): BatchNorm2d(256, eps=1e-05, momentum=0.1, affine=True, track_running_stats=True)\n",
              "    )\n",
              "  )\n",
              "  (layer4): Sequential(\n",
              "    (0): BasicBlock(\n",
              "      (conv1): Conv2d(256, 512, kernel_size=(3, 3), stride=(2, 2), padding=(1, 1), bias=False)\n",
              "      (bn1): BatchNorm2d(512, eps=1e-05, momentum=0.1, affine=True, track_running_stats=True)\n",
              "      (relu): ReLU(inplace=True)\n",
              "      (conv2): Conv2d(512, 512, kernel_size=(3, 3), stride=(1, 1), padding=(1, 1), bias=False)\n",
              "      (bn2): BatchNorm2d(512, eps=1e-05, momentum=0.1, affine=True, track_running_stats=True)\n",
              "      (downsample): Sequential(\n",
              "        (0): Conv2d(256, 512, kernel_size=(1, 1), stride=(2, 2), bias=False)\n",
              "        (1): BatchNorm2d(512, eps=1e-05, momentum=0.1, affine=True, track_running_stats=True)\n",
              "      )\n",
              "    )\n",
              "    (1): BasicBlock(\n",
              "      (conv1): Conv2d(512, 512, kernel_size=(3, 3), stride=(1, 1), padding=(1, 1), bias=False)\n",
              "      (bn1): BatchNorm2d(512, eps=1e-05, momentum=0.1, affine=True, track_running_stats=True)\n",
              "      (relu): ReLU(inplace=True)\n",
              "      (conv2): Conv2d(512, 512, kernel_size=(3, 3), stride=(1, 1), padding=(1, 1), bias=False)\n",
              "      (bn2): BatchNorm2d(512, eps=1e-05, momentum=0.1, affine=True, track_running_stats=True)\n",
              "    )\n",
              "  )\n",
              "  (avgpool): AdaptiveAvgPool2d(output_size=(1, 1))\n",
              "  (fc): Linear(in_features=512, out_features=10, bias=True)\n",
              ")"
            ]
          },
          "metadata": {},
          "execution_count": 4
        }
      ]
    },
    {
      "cell_type": "code",
      "source": [],
      "metadata": {
        "id": "eSwhgN7S0ZhD"
      },
      "execution_count": null,
      "outputs": []
    },
    {
      "cell_type": "markdown",
      "source": [
        "## Model Accuracy"
      ],
      "metadata": {
        "id": "F4_GBEFj0i0n"
      }
    },
    {
      "cell_type": "code",
      "source": [
        "#### Import data from Keras\n",
        "import tensorflow.keras as keras\n",
        "from dataset_byzantine import Dataset\n",
        "\n",
        "\n",
        "ds = Dataset(model, DATA)"
      ],
      "metadata": {
        "colab": {
          "base_uri": "https://localhost:8080/",
          "height": 151,
          "referenced_widgets": [
            "46cd8540f6484b02bd8171f0b5edbef2",
            "a3400d304d0a4e049d6cbf7f4eb2722d",
            "46fbf7ca812740ab913f1932ae9a0965",
            "3c91bf5c8b53437fb60e2096e31cb9d5",
            "abb2e683d8a448c5ad34b5dde3253aa6",
            "84fe64868aee4ce2aa10c6bf63310a48",
            "033b5ef3b2c1463ea6482979e41011f3",
            "1e77bae7f5644c3fb769152f0ea90f2a",
            "5181095152d64d2a9bfaa5944e3d845b",
            "9bdd0a794e054a20b9da74b0f352b7f0",
            "1a919792b83e4a3094e419008e0e1071"
          ]
        },
        "id": "aox-fn5p0jFe",
        "outputId": "2c5a495b-26a6-4cf7-bb62-ce9ad0af8091"
      },
      "execution_count": null,
      "outputs": [
        {
          "output_type": "stream",
          "name": "stdout",
          "text": [
            "Downloading https://www.cs.toronto.edu/~kriz/cifar-10-python.tar.gz to data/cifar-10-python.tar.gz\n"
          ]
        },
        {
          "output_type": "display_data",
          "data": {
            "text/plain": [
              "  0%|          | 0/170498071 [00:00<?, ?it/s]"
            ],
            "application/vnd.jupyter.widget-view+json": {
              "version_major": 2,
              "version_minor": 0,
              "model_id": "46cd8540f6484b02bd8171f0b5edbef2"
            }
          },
          "metadata": {}
        },
        {
          "output_type": "stream",
          "name": "stdout",
          "text": [
            "Extracting data/cifar-10-python.tar.gz to data/\n",
            "Downloading data from https://www.cs.toronto.edu/~kriz/cifar-10-python.tar.gz\n",
            "170498071/170498071 [==============================] - 2s 0us/step\n",
            "current version: 27-5\n",
            "training set size = 50000, test set size = 10000\n"
          ]
        }
      ]
    },
    {
      "cell_type": "code",
      "source": [
        "print(\"Accuracy of the network on test images:\", \n",
        "      ds.accuracy_pytorch())"
      ],
      "metadata": {
        "colab": {
          "base_uri": "https://localhost:8080/"
        },
        "id": "yBgT7bA40lFQ",
        "outputId": "546c83d3-a573-433f-92b2-9228d043ea57"
      },
      "execution_count": null,
      "outputs": [
        {
          "output_type": "stream",
          "name": "stdout",
          "text": [
            "accuracy_pytorch function completed. \n",
            "Time: 126.306651 seconds\n",
            "Accuracy of the network on test images: 0.993\n"
          ]
        }
      ]
    },
    {
      "cell_type": "code",
      "source": [
        "print(f\"Model accuracy:\", ds.accuracy())"
      ],
      "metadata": {
        "id": "nk7gJSTv06p_",
        "colab": {
          "base_uri": "https://localhost:8080/"
        },
        "outputId": "057f2db5-0805-4481-f9b3-89e4d83fd248"
      },
      "execution_count": null,
      "outputs": [
        {
          "output_type": "stream",
          "name": "stdout",
          "text": [
            "accuracy function completed. \n",
            "Time: 0.000007 seconds\n",
            "Model accuracy: 0.9307\n"
          ]
        }
      ]
    },
    {
      "cell_type": "markdown",
      "source": [
        "## Basic test\n"
      ],
      "metadata": {
        "id": "yzMgV354zOxO"
      }
    },
    {
      "cell_type": "code",
      "source": [
        "ds.plot_K(S=2)"
      ],
      "metadata": {
        "id": "O73dZRXQ068f",
        "colab": {
          "base_uri": "https://localhost:8080/",
          "height": 397
        },
        "outputId": "d8c514a1-c02a-4b03-bbe8-f066df269ddb"
      },
      "execution_count": null,
      "outputs": [
        {
          "output_type": "stream",
          "name": "stdout",
          "text": [
            "number of iterations =  100\n",
            "K = 8\n",
            "num of iterations = 100, noise sigma = 0.0\n",
            "Prediction time for batch size 8: 0.431873 seconds\n",
            "100% completed\n",
            "Time: 30.943385 seconds\n"
          ]
        },
        {
          "output_type": "display_data",
          "data": {
            "text/plain": [
              "<Figure size 432x288 with 1 Axes>"
            ],
            "image/png": "[encoded data removed]"
          },
          "metadata": {
            "needs_background": "light"
          }
        }
      ]
    },
    {
      "cell_type": "code",
      "source": [
        "ds.plot_E(S=0, K = 8, E_list=[1], noise_sigma= 1.0)"
      ],
      "metadata": {
        "colab": {
          "base_uri": "https://localhost:8080/",
          "height": 430
        },
        "id": "2BfhnW2U5Zvw",
        "outputId": "440ccb7c-27f3-48ca-ad01-d440c01ad2b4"
      },
      "execution_count": null,
      "outputs": [
        {
          "output_type": "stream",
          "name": "stdout",
          "text": [
            "number of iterations =  10\n",
            "K = 8, E = 1\n",
            "num of iterations = 10, noise sigma = 1.0\n",
            "Prediction time for batch size 8: 0.430689 seconds\n",
            "100% completed\n",
            "Time: 4.058044 seconds\n"
          ]
        },
        {
          "output_type": "display_data",
          "data": {
            "text/plain": [
              "<Figure size 432x288 with 1 Axes>"
            ],
            "image/png": "[encoded data removed]"
          },
          "metadata": {
            "needs_background": "light"
          }
        }
      ]
    },
    {
      "cell_type": "markdown",
      "source": [
        "## K =12, S = 0, E = [1,2,3] "
      ],
      "metadata": {
        "id": "FvTyiFzGzT4k"
      }
    },
    {
      "cell_type": "code",
      "source": [
        "for sigma in [1.0, 10.0, 100.0]:\n",
        "    ds.plot_E(S=0, K = 12, E_list=[1,2,3], noise_sigma= sigma)\n",
        "    \n",
        "\n",
        "# ds.plot_E(S=0, K = 12, E_list=[1,2,3], noise_sigma= 1.0)\n",
        "# ds.plot_E(S=0, K = 12, E_list=[1,2,3], noise_sigma= 10.0)\n",
        "# ds.plot_E(S=0, K = 12, E_list=[1,2,3], noise_sigma= 100.0)"
      ],
      "metadata": {
        "colab": {
          "base_uri": "https://localhost:8080/",
          "height": 1000
        },
        "id": "nGhLSMQqyO8q",
        "outputId": "5e91856a-2009-4c12-9802-0079b8233fd8"
      },
      "execution_count": null,
      "outputs": [
        {
          "output_type": "stream",
          "name": "stdout",
          "text": [
            "number of iterations =  200\n",
            "K = 12, E = 1\n",
            "num of iterations = 200, noise sigma = 1.0\n",
            "Prediction time for batch size 12: 0.605085 seconds\n",
            "100% completed\n",
            "Time: 121.601515 seconds\n",
            "K = 12, E = 2\n",
            "num of iterations = 200, noise sigma = 1.0\n",
            "Prediction time for batch size 12: 0.625307 seconds\n",
            "100% completed\n",
            "Time: 126.515660 seconds\n",
            "K = 12, E = 3\n",
            "num of iterations = 200, noise sigma = 1.0\n",
            "Prediction time for batch size 12: 0.657348 seconds\n",
            "100% completed\n",
            "Time: 132.396314 seconds\n"
          ]
        },
        {
          "output_type": "display_data",
          "data": {
            "text/plain": [
              "<Figure size 432x288 with 1 Axes>"
            ],
            "image/png": "[encoded data removed]"
          },
          "metadata": {
            "needs_background": "light"
          }
        },
        {
          "output_type": "stream",
          "name": "stdout",
          "text": [
            "number of iterations =  200\n",
            "K = 12, E = 1\n",
            "num of iterations = 200, noise sigma = 10.0\n",
            "Prediction time for batch size 12: 0.607650 seconds\n",
            "100% completed\n",
            "Time: 124.605494 seconds\n",
            "K = 12, E = 2\n",
            "num of iterations = 200, noise sigma = 10.0\n",
            "Prediction time for batch size 12: 0.640402 seconds\n",
            "100% completed\n",
            "Time: 126.571548 seconds\n",
            "K = 12, E = 3\n",
            "num of iterations = 200, noise sigma = 10.0\n",
            "Prediction time for batch size 12: 0.645748 seconds\n",
            "100% completed\n",
            "Time: 134.295053 seconds\n"
          ]
        },
        {
          "output_type": "display_data",
          "data": {
            "text/plain": [
              "<Figure size 432x288 with 1 Axes>"
            ],
            "image/png": "[encoded data removed]"
          },
          "metadata": {
            "needs_background": "light"
          }
        },
        {
          "output_type": "stream",
          "name": "stdout",
          "text": [
            "number of iterations =  200\n",
            "K = 12, E = 1\n",
            "num of iterations = 200, noise sigma = 100.0\n",
            "Prediction time for batch size 12: 0.634884 seconds\n",
            "100% completed\n",
            "Time: 122.338164 seconds\n",
            "K = 12, E = 2\n",
            "num of iterations = 200, noise sigma = 100.0\n",
            "Prediction time for batch size 12: 0.643297 seconds\n",
            "100% completed\n",
            "Time: 127.854419 seconds\n",
            "K = 12, E = 3\n",
            "num of iterations = 200, noise sigma = 100.0\n",
            "Prediction time for batch size 12: 0.674559 seconds\n",
            "100% completed\n",
            "Time: 135.280403 seconds\n"
          ]
        },
        {
          "output_type": "display_data",
          "data": {
            "text/plain": [
              "<Figure size 432x288 with 1 Axes>"
            ],
            "image/png": "[encoded data removed]"
          },
          "metadata": {
            "needs_background": "light"
          }
        }
      ]
    },
    {
      "cell_type": "code",
      "source": [
        "ds.plot_E(S=0, K = 12, E_list=[1,2,3], noise_sigma= 1.0)"
      ],
      "metadata": {
        "id": "yNJ-3o-9AVs9"
      },
      "execution_count": null,
      "outputs": []
    },
    {
      "cell_type": "code",
      "source": [
        "ds.plot_E(S=0, K = 12, E_list=[1,2,3], noise_sigma= 10.0)"
      ],
      "metadata": {
        "id": "tQ7UU_FLyyQH"
      },
      "execution_count": null,
      "outputs": []
    },
    {
      "cell_type": "code",
      "source": [
        "ds.plot_E(S=0, K = 12, E_list=[1,2,3], noise_sigma= 100.0)"
      ],
      "metadata": {
        "id": "dI_cWBEpyyaK"
      },
      "execution_count": null,
      "outputs": []
    },
    {
      "cell_type": "markdown",
      "source": [
        "## K =12, S = 0, E = 1, 2, 3 seperately"
      ],
      "metadata": {
        "id": "NJYk63mjzeN_"
      }
    },
    {
      "cell_type": "code",
      "source": [
        "ds.plot_K(S=0, K_list= 12, e_max=1, noise_sigma= 1.0)"
      ],
      "metadata": {
        "colab": {
          "base_uri": "https://localhost:8080/",
          "height": 397
        },
        "id": "ecx5rSmWdcM5",
        "outputId": "833ccd89-76be-4c2b-af84-3385858aff93"
      },
      "execution_count": null,
      "outputs": [
        {
          "output_type": "stream",
          "name": "stdout",
          "text": [
            "number of iterations =  100\n",
            "K = 12, E = 1\n",
            "num of iterations = 100, noise sigma = 1.0\n",
            "Prediction time for batch size 12: 0.624688 seconds\n",
            "100% completed\n",
            "Time: 62.339725 seconds\n"
          ]
        },
        {
          "output_type": "display_data",
          "data": {
            "text/plain": [
              "<Figure size 432x288 with 1 Axes>"
            ],
            "image/png": "[encoded data removed]"
          },
          "metadata": {
            "needs_background": "light"
          }
        }
      ]
    },
    {
      "cell_type": "code",
      "source": [
        "ds.plot_K(S=0, K_list= 12, e_max=2, noise_sigma= 1.0)"
      ],
      "metadata": {
        "colab": {
          "base_uri": "https://localhost:8080/",
          "height": 397
        },
        "id": "4wPRJi75fDcY",
        "outputId": "e5be8382-a1ec-42f4-af56-6eaf9c2bf547"
      },
      "execution_count": null,
      "outputs": [
        {
          "output_type": "stream",
          "name": "stdout",
          "text": [
            "number of iterations =  100\n",
            "K = 12, E = 2\n",
            "num of iterations = 100, noise sigma = 1.0\n",
            "Prediction time for batch size 12: 0.663466 seconds\n",
            "100% completed\n",
            "Time: 74.727300 seconds\n"
          ]
        },
        {
          "output_type": "display_data",
          "data": {
            "text/plain": [
              "<Figure size 432x288 with 1 Axes>"
            ],
            "image/png": "[encoded data removed]"
          },
          "metadata": {
            "needs_background": "light"
          }
        }
      ]
    },
    {
      "cell_type": "code",
      "source": [
        "ds.plot_K(S=0, K_list= 12, e_max=3, noise_sigma= 1.0)"
      ],
      "metadata": {
        "colab": {
          "base_uri": "https://localhost:8080/",
          "height": 397
        },
        "id": "t1qPlxGzfEgh",
        "outputId": "6b37df72-bc0b-49a1-a7ea-fb6c41c76c7e"
      },
      "execution_count": null,
      "outputs": [
        {
          "output_type": "stream",
          "name": "stdout",
          "text": [
            "number of iterations =  100\n",
            "K = 12, E = 3\n",
            "num of iterations = 100, noise sigma = 1.0\n",
            "Prediction time for batch size 12: 0.697027 seconds\n",
            "100% completed\n",
            "Time: 67.464064 seconds\n"
          ]
        },
        {
          "output_type": "display_data",
          "data": {
            "text/plain": [
              "<Figure size 432x288 with 1 Axes>"
            ],
            "image/png": "[encoded data removed]"
          },
          "metadata": {
            "needs_background": "light"
          }
        }
      ]
    },
    {
      "cell_type": "code",
      "source": [
        "ds.plot_K(S=0, K_list= 12, e_max=1, noise_sigma= 10.0)"
      ],
      "metadata": {
        "colab": {
          "base_uri": "https://localhost:8080/",
          "height": 380
        },
        "id": "rwMaqYKmedZb",
        "outputId": "f93ed679-0771-4bea-8d9c-c3995af8f48b"
      },
      "execution_count": null,
      "outputs": [
        {
          "output_type": "stream",
          "name": "stdout",
          "text": [
            "number of iterations =  100\n",
            "K = 12, E = 1\n",
            "Prediction time for batch size 12: 0.613797 seconds\n",
            "100% completed\n",
            "Time: 60.713815 seconds\n"
          ]
        },
        {
          "output_type": "display_data",
          "data": {
            "text/plain": [
              "<Figure size 432x288 with 1 Axes>"
            ],
            "image/png": "[encoded data removed]"
          },
          "metadata": {
            "needs_background": "light"
          }
        }
      ]
    },
    {
      "cell_type": "code",
      "source": [
        "ds.plot_K(S=0, K_list= 12, e_max=2, noise_sigma= 10.0)"
      ],
      "metadata": {
        "id": "ArxfzMmzedz6"
      },
      "execution_count": null,
      "outputs": []
    },
    {
      "cell_type": "code",
      "source": [
        "ds.plot_K(S=0, K_list= 12, e_max=3, noise_sigma= 10.0)"
      ],
      "metadata": {
        "id": "-yfchC8EeeEb"
      },
      "execution_count": null,
      "outputs": []
    },
    {
      "cell_type": "code",
      "source": [
        "ds.plot_K(S=0, K_list= 12, e_max=1, noise_sigma= 100.0)"
      ],
      "metadata": {
        "id": "8mEf3VosfIKr"
      },
      "execution_count": null,
      "outputs": []
    },
    {
      "cell_type": "code",
      "source": [
        "ds.plot_K(S=0, K_list= 12, e_max=2, noise_sigma= 100.0)"
      ],
      "metadata": {
        "id": "un1ZfBJIu5_2"
      },
      "execution_count": null,
      "outputs": []
    },
    {
      "cell_type": "code",
      "source": [
        "ds.plot_K(S=0, K_list= 12, e_max=3, noise_sigma= 100.0)"
      ],
      "metadata": {
        "id": "vvaXDvz2u6VU"
      },
      "execution_count": null,
      "outputs": []
    },
    {
      "cell_type": "code",
      "source": [],
      "metadata": {
        "id": "JxYr_9ytEil4"
      },
      "execution_count": null,
      "outputs": []
    }
  ]
}