{
  "nbformat": 4,
  "nbformat_minor": 0,
  "metadata": {
    "colab": {
      "provenance": [],
      "collapsed_sections": [
        "obt8CmA60ahv"
      ]
    },
    "kernelspec": {
      "name": "python3",
      "display_name": "Python 3"
    },
    "language_info": {
      "name": "python"
    },
    "widgets": {
      "application/vnd.jupyter.widget-state+json": {
        "69b9f4509c014bacaffda724405a5e76": {
          "model_module": "@jupyter-widgets/controls",
          "model_name": "HBoxModel",
          "model_module_version": "1.5.0",
          "state": {
            "_dom_classes": [],
            "_model_module": "@jupyter-widgets/controls",
            "_model_module_version": "1.5.0",
            "_model_name": "HBoxModel",
            "_view_count": null,
            "_view_module": "@jupyter-widgets/controls",
            "_view_module_version": "1.5.0",
            "_view_name": "HBoxView",
            "box_style": "",
            "children": [
              "IPY_MODEL_c9dab9c986874e06ad7a004041b2805d",
              "IPY_MODEL_2563ed0a4af14494b4d8c1c127c8692f",
              "IPY_MODEL_3bb342ee6c5149b4b0fdb266432743d8"
            ],
            "layout": "IPY_MODEL_7ff7eb65b60c4eaab0071560a49b0333"
          }
        },
        "c9dab9c986874e06ad7a004041b2805d": {
          "model_module": "@jupyter-widgets/controls",
          "model_name": "HTMLModel",
          "model_module_version": "1.5.0",
          "state": {
            "_dom_classes": [],
            "_model_module": "@jupyter-widgets/controls",
            "_model_module_version": "1.5.0",
            "_model_name": "HTMLModel",
            "_view_count": null,
            "_view_module": "@jupyter-widgets/controls",
            "_view_module_version": "1.5.0",
            "_view_name": "HTMLView",
            "description": "",
            "description_tooltip": null,
            "layout": "IPY_MODEL_23918487dfdc4f7e93cb83899e369350",
            "placeholder": "​",
            "style": "IPY_MODEL_77ae8a7a9ad44261af7e94317e8ad56a",
            "value": "100%"
          }
        },
        "2563ed0a4af14494b4d8c1c127c8692f": {
          "model_module": "@jupyter-widgets/controls",
          "model_name": "FloatProgressModel",
          "model_module_version": "1.5.0",
          "state": {
            "_dom_classes": [],
            "_model_module": "@jupyter-widgets/controls",
            "_model_module_version": "1.5.0",
            "_model_name": "FloatProgressModel",
            "_view_count": null,
            "_view_module": "@jupyter-widgets/controls",
            "_view_module_version": "1.5.0",
            "_view_name": "ProgressView",
            "bar_style": "success",
            "description": "",
            "description_tooltip": null,
            "layout": "IPY_MODEL_031a4e13da394854887f9784a49dd5d2",
            "max": 9912422,
            "min": 0,
            "orientation": "horizontal",
            "style": "IPY_MODEL_cd7acf19d1f84b328f01a66672f3ed36",
            "value": 9912422
          }
        },
        "3bb342ee6c5149b4b0fdb266432743d8": {
          "model_module": "@jupyter-widgets/controls",
          "model_name": "HTMLModel",
          "model_module_version": "1.5.0",
          "state": {
            "_dom_classes": [],
            "_model_module": "@jupyter-widgets/controls",
            "_model_module_version": "1.5.0",
            "_model_name": "HTMLModel",
            "_view_count": null,
            "_view_module": "@jupyter-widgets/controls",
            "_view_module_version": "1.5.0",
            "_view_name": "HTMLView",
            "description": "",
            "description_tooltip": null,
            "layout": "IPY_MODEL_4cecbd9740b14131b0905e90e8071da2",
            "placeholder": "​",
            "style": "IPY_MODEL_433e7e0f61414b72bb5a088d1f74349a",
            "value": " 9912422/9912422 [00:00&lt;00:00, 3866926.71it/s]"
          }
        },
        "7ff7eb65b60c4eaab0071560a49b0333": {
          "model_module": "@jupyter-widgets/base",
          "model_name": "LayoutModel",
          "model_module_version": "1.2.0",
          "state": {
            "_model_module": "@jupyter-widgets/base",
            "_model_module_version": "1.2.0",
            "_model_name": "LayoutModel",
            "_view_count": null,
            "_view_module": "@jupyter-widgets/base",
            "_view_module_version": "1.2.0",
            "_view_name": "LayoutView",
            "align_content": null,
            "align_items": null,
            "align_self": null,
            "border": null,
            "bottom": null,
            "display": null,
            "flex": null,
            "flex_flow": null,
            "grid_area": null,
            "grid_auto_columns": null,
            "grid_auto_flow": null,
            "grid_auto_rows": null,
            "grid_column": null,
            "grid_gap": null,
            "grid_row": null,
            "grid_template_areas": null,
            "grid_template_columns": null,
            "grid_template_rows": null,
            "height": null,
            "justify_content": null,
            "justify_items": null,
            "left": null,
            "margin": null,
            "max_height": null,
            "max_width": null,
            "min_height": null,
            "min_width": null,
            "object_fit": null,
            "object_position": null,
            "order": null,
            "overflow": null,
            "overflow_x": null,
            "overflow_y": null,
            "padding": null,
            "right": null,
            "top": null,
            "visibility": null,
            "width": null
          }
        },
        "23918487dfdc4f7e93cb83899e369350": {
          "model_module": "@jupyter-widgets/base",
          "model_name": "LayoutModel",
          "model_module_version": "1.2.0",
          "state": {
            "_model_module": "@jupyter-widgets/base",
            "_model_module_version": "1.2.0",
            "_model_name": "LayoutModel",
            "_view_count": null,
            "_view_module": "@jupyter-widgets/base",
            "_view_module_version": "1.2.0",
            "_view_name": "LayoutView",
            "align_content": null,
            "align_items": null,
            "align_self": null,
            "border": null,
            "bottom": null,
            "display": null,
            "flex": null,
            "flex_flow": null,
            "grid_area": null,
            "grid_auto_columns": null,
            "grid_auto_flow": null,
            "grid_auto_rows": null,
            "grid_column": null,
            "grid_gap": null,
            "grid_row": null,
            "grid_template_areas": null,
            "grid_template_columns": null,
            "grid_template_rows": null,
            "height": null,
            "justify_content": null,
            "justify_items": null,
            "left": null,
            "margin": null,
            "max_height": null,
            "max_width": null,
            "min_height": null,
            "min_width": null,
            "object_fit": null,
            "object_position": null,
            "order": null,
            "overflow": null,
            "overflow_x": null,
            "overflow_y": null,
            "padding": null,
            "right": null,
            "top": null,
            "visibility": null,
            "width": null
          }
        },
        "77ae8a7a9ad44261af7e94317e8ad56a": {
          "model_module": "@jupyter-widgets/controls",
          "model_name": "DescriptionStyleModel",
          "model_module_version": "1.5.0",
          "state": {
            "_model_module": "@jupyter-widgets/controls",
            "_model_module_version": "1.5.0",
            "_model_name": "DescriptionStyleModel",
            "_view_count": null,
            "_view_module": "@jupyter-widgets/base",
            "_view_module_version": "1.2.0",
            "_view_name": "StyleView",
            "description_width": ""
          }
        },
        "031a4e13da394854887f9784a49dd5d2": {
          "model_module": "@jupyter-widgets/base",
          "model_name": "LayoutModel",
          "model_module_version": "1.2.0",
          "state": {
            "_model_module": "@jupyter-widgets/base",
            "_model_module_version": "1.2.0",
            "_model_name": "LayoutModel",
            "_view_count": null,
            "_view_module": "@jupyter-widgets/base",
            "_view_module_version": "1.2.0",
            "_view_name": "LayoutView",
            "align_content": null,
            "align_items": null,
            "align_self": null,
            "border": null,
            "bottom": null,
            "display": null,
            "flex": null,
            "flex_flow": null,
            "grid_area": null,
            "grid_auto_columns": null,
            "grid_auto_flow": null,
            "grid_auto_rows": null,
            "grid_column": null,
            "grid_gap": null,
            "grid_row": null,
            "grid_template_areas": null,
            "grid_template_columns": null,
            "grid_template_rows": null,
            "height": null,
            "justify_content": null,
            "justify_items": null,
            "left": null,
            "margin": null,
            "max_height": null,
            "max_width": null,
            "min_height": null,
            "min_width": null,
            "object_fit": null,
            "object_position": null,
            "order": null,
            "overflow": null,
            "overflow_x": null,
            "overflow_y": null,
            "padding": null,
            "right": null,
            "top": null,
            "visibility": null,
            "width": null
          }
        },
        "cd7acf19d1f84b328f01a66672f3ed36": {
          "model_module": "@jupyter-widgets/controls",
          "model_name": "ProgressStyleModel",
          "model_module_version": "1.5.0",
          "state": {
            "_model_module": "@jupyter-widgets/controls",
            "_model_module_version": "1.5.0",
            "_model_name": "ProgressStyleModel",
            "_view_count": null,
            "_view_module": "@jupyter-widgets/base",
            "_view_module_version": "1.2.0",
            "_view_name": "StyleView",
            "bar_color": null,
            "description_width": ""
          }
        },
        "4cecbd9740b14131b0905e90e8071da2": {
          "model_module": "@jupyter-widgets/base",
          "model_name": "LayoutModel",
          "model_module_version": "1.2.0",
          "state": {
            "_model_module": "@jupyter-widgets/base",
            "_model_module_version": "1.2.0",
            "_model_name": "LayoutModel",
            "_view_count": null,
            "_view_module": "@jupyter-widgets/base",
            "_view_module_version": "1.2.0",
            "_view_name": "LayoutView",
            "align_content": null,
            "align_items": null,
            "align_self": null,
            "border": null,
            "bottom": null,
            "display": null,
            "flex": null,
            "flex_flow": null,
            "grid_area": null,
            "grid_auto_columns": null,
            "grid_auto_flow": null,
            "grid_auto_rows": null,
            "grid_column": null,
            "grid_gap": null,
            "grid_row": null,
            "grid_template_areas": null,
            "grid_template_columns": null,
            "grid_template_rows": null,
            "height": null,
            "justify_content": null,
            "justify_items": null,
            "left": null,
            "margin": null,
            "max_height": null,
            "max_width": null,
            "min_height": null,
            "min_width": null,
            "object_fit": null,
            "object_position": null,
            "order": null,
            "overflow": null,
            "overflow_x": null,
            "overflow_y": null,
            "padding": null,
            "right": null,
            "top": null,
            "visibility": null,
            "width": null
          }
        },
        "433e7e0f61414b72bb5a088d1f74349a": {
          "model_module": "@jupyter-widgets/controls",
          "model_name": "DescriptionStyleModel",
          "model_module_version": "1.5.0",
          "state": {
            "_model_module": "@jupyter-widgets/controls",
            "_model_module_version": "1.5.0",
            "_model_name": "DescriptionStyleModel",
            "_view_count": null,
            "_view_module": "@jupyter-widgets/base",
            "_view_module_version": "1.2.0",
            "_view_name": "StyleView",
            "description_width": ""
          }
        },
        "d53d6a7cf31b4e8ea62b85d52b7e6d4a": {
          "model_module": "@jupyter-widgets/controls",
          "model_name": "HBoxModel",
          "model_module_version": "1.5.0",
          "state": {
            "_dom_classes": [],
            "_model_module": "@jupyter-widgets/controls",
            "_model_module_version": "1.5.0",
            "_model_name": "HBoxModel",
            "_view_count": null,
            "_view_module": "@jupyter-widgets/controls",
            "_view_module_version": "1.5.0",
            "_view_name": "HBoxView",
            "box_style": "",
            "children": [
              "IPY_MODEL_17ec921963ad407eaf8c0e610bb8075a",
              "IPY_MODEL_28db64574a2c474ca5e4cf05cd74e165",
              "IPY_MODEL_b648a21f713b4b238a9144fccd4d87ae"
            ],
            "layout": "IPY_MODEL_e5bd604bbf5c4ceaa5ec7599dbb8eab0"
          }
        },
        "17ec921963ad407eaf8c0e610bb8075a": {
          "model_module": "@jupyter-widgets/controls",
          "model_name": "HTMLModel",
          "model_module_version": "1.5.0",
          "state": {
            "_dom_classes": [],
            "_model_module": "@jupyter-widgets/controls",
            "_model_module_version": "1.5.0",
            "_model_name": "HTMLModel",
            "_view_count": null,
            "_view_module": "@jupyter-widgets/controls",
            "_view_module_version": "1.5.0",
            "_view_name": "HTMLView",
            "description": "",
            "description_tooltip": null,
            "layout": "IPY_MODEL_cab33ceca3ec4f248f9e8773cb354f27",
            "placeholder": "​",
            "style": "IPY_MODEL_aeff2686145c498ab00730552dfd0ebd",
            "value": "100%"
          }
        },
        "28db64574a2c474ca5e4cf05cd74e165": {
          "model_module": "@jupyter-widgets/controls",
          "model_name": "FloatProgressModel",
          "model_module_version": "1.5.0",
          "state": {
            "_dom_classes": [],
            "_model_module": "@jupyter-widgets/controls",
            "_model_module_version": "1.5.0",
            "_model_name": "FloatProgressModel",
            "_view_count": null,
            "_view_module": "@jupyter-widgets/controls",
            "_view_module_version": "1.5.0",
            "_view_name": "ProgressView",
            "bar_style": "success",
            "description": "",
            "description_tooltip": null,
            "layout": "IPY_MODEL_12eb20c4413d445e88a5848586596ce4",
            "max": 28881,
            "min": 0,
            "orientation": "horizontal",
            "style": "IPY_MODEL_f0cd1dbd223b45b38434fe00fbc35196",
            "value": 28881
          }
        },
        "b648a21f713b4b238a9144fccd4d87ae": {
          "model_module": "@jupyter-widgets/controls",
          "model_name": "HTMLModel",
          "model_module_version": "1.5.0",
          "state": {
            "_dom_classes": [],
            "_model_module": "@jupyter-widgets/controls",
            "_model_module_version": "1.5.0",
            "_model_name": "HTMLModel",
            "_view_count": null,
            "_view_module": "@jupyter-widgets/controls",
            "_view_module_version": "1.5.0",
            "_view_name": "HTMLView",
            "description": "",
            "description_tooltip": null,
            "layout": "IPY_MODEL_3d6a706e1c514dee81cd50dc351f8ef9",
            "placeholder": "​",
            "style": "IPY_MODEL_4bedd1a75014478fa883a628f7a0a2d5",
            "value": " 28881/28881 [00:00&lt;00:00, 863854.28it/s]"
          }
        },
        "e5bd604bbf5c4ceaa5ec7599dbb8eab0": {
          "model_module": "@jupyter-widgets/base",
          "model_name": "LayoutModel",
          "model_module_version": "1.2.0",
          "state": {
            "_model_module": "@jupyter-widgets/base",
            "_model_module_version": "1.2.0",
            "_model_name": "LayoutModel",
            "_view_count": null,
            "_view_module": "@jupyter-widgets/base",
            "_view_module_version": "1.2.0",
            "_view_name": "LayoutView",
            "align_content": null,
            "align_items": null,
            "align_self": null,
            "border": null,
            "bottom": null,
            "display": null,
            "flex": null,
            "flex_flow": null,
            "grid_area": null,
            "grid_auto_columns": null,
            "grid_auto_flow": null,
            "grid_auto_rows": null,
            "grid_column": null,
            "grid_gap": null,
            "grid_row": null,
            "grid_template_areas": null,
            "grid_template_columns": null,
            "grid_template_rows": null,
            "height": null,
            "justify_content": null,
            "justify_items": null,
            "left": null,
            "margin": null,
            "max_height": null,
            "max_width": null,
            "min_height": null,
            "min_width": null,
            "object_fit": null,
            "object_position": null,
            "order": null,
            "overflow": null,
            "overflow_x": null,
            "overflow_y": null,
            "padding": null,
            "right": null,
            "top": null,
            "visibility": null,
            "width": null
          }
        },
        "cab33ceca3ec4f248f9e8773cb354f27": {
          "model_module": "@jupyter-widgets/base",
          "model_name": "LayoutModel",
          "model_module_version": "1.2.0",
          "state": {
            "_model_module": "@jupyter-widgets/base",
            "_model_module_version": "1.2.0",
            "_model_name": "LayoutModel",
            "_view_count": null,
            "_view_module": "@jupyter-widgets/base",
            "_view_module_version": "1.2.0",
            "_view_name": "LayoutView",
            "align_content": null,
            "align_items": null,
            "align_self": null,
            "border": null,
            "bottom": null,
            "display": null,
            "flex": null,
            "flex_flow": null,
            "grid_area": null,
            "grid_auto_columns": null,
            "grid_auto_flow": null,
            "grid_auto_rows": null,
            "grid_column": null,
            "grid_gap": null,
            "grid_row": null,
            "grid_template_areas": null,
            "grid_template_columns": null,
            "grid_template_rows": null,
            "height": null,
            "justify_content": null,
            "justify_items": null,
            "left": null,
            "margin": null,
            "max_height": null,
            "max_width": null,
            "min_height": null,
            "min_width": null,
            "object_fit": null,
            "object_position": null,
            "order": null,
            "overflow": null,
            "overflow_x": null,
            "overflow_y": null,
            "padding": null,
            "right": null,
            "top": null,
            "visibility": null,
            "width": null
          }
        },
        "aeff2686145c498ab00730552dfd0ebd": {
          "model_module": "@jupyter-widgets/controls",
          "model_name": "DescriptionStyleModel",
          "model_module_version": "1.5.0",
          "state": {
            "_model_module": "@jupyter-widgets/controls",
            "_model_module_version": "1.5.0",
            "_model_name": "DescriptionStyleModel",
            "_view_count": null,
            "_view_module": "@jupyter-widgets/base",
            "_view_module_version": "1.2.0",
            "_view_name": "StyleView",
            "description_width": ""
          }
        },
        "12eb20c4413d445e88a5848586596ce4": {
          "model_module": "@jupyter-widgets/base",
          "model_name": "LayoutModel",
          "model_module_version": "1.2.0",
          "state": {
            "_model_module": "@jupyter-widgets/base",
            "_model_module_version": "1.2.0",
            "_model_name": "LayoutModel",
            "_view_count": null,
            "_view_module": "@jupyter-widgets/base",
            "_view_module_version": "1.2.0",
            "_view_name": "LayoutView",
            "align_content": null,
            "align_items": null,
            "align_self": null,
            "border": null,
            "bottom": null,
            "display": null,
            "flex": null,
            "flex_flow": null,
            "grid_area": null,
            "grid_auto_columns": null,
            "grid_auto_flow": null,
            "grid_auto_rows": null,
            "grid_column": null,
            "grid_gap": null,
            "grid_row": null,
            "grid_template_areas": null,
            "grid_template_columns": null,
            "grid_template_rows": null,
            "height": null,
            "justify_content": null,
            "justify_items": null,
            "left": null,
            "margin": null,
            "max_height": null,
            "max_width": null,
            "min_height": null,
            "min_width": null,
            "object_fit": null,
            "object_position": null,
            "order": null,
            "overflow": null,
            "overflow_x": null,
            "overflow_y": null,
            "padding": null,
            "right": null,
            "top": null,
            "visibility": null,
            "width": null
          }
        },
        "f0cd1dbd223b45b38434fe00fbc35196": {
          "model_module": "@jupyter-widgets/controls",
          "model_name": "ProgressStyleModel",
          "model_module_version": "1.5.0",
          "state": {
            "_model_module": "@jupyter-widgets/controls",
            "_model_module_version": "1.5.0",
            "_model_name": "ProgressStyleModel",
            "_view_count": null,
            "_view_module": "@jupyter-widgets/base",
            "_view_module_version": "1.2.0",
            "_view_name": "StyleView",
            "bar_color": null,
            "description_width": ""
          }
        },
        "3d6a706e1c514dee81cd50dc351f8ef9": {
          "model_module": "@jupyter-widgets/base",
          "model_name": "LayoutModel",
          "model_module_version": "1.2.0",
          "state": {
            "_model_module": "@jupyter-widgets/base",
            "_model_module_version": "1.2.0",
            "_model_name": "LayoutModel",
            "_view_count": null,
            "_view_module": "@jupyter-widgets/base",
            "_view_module_version": "1.2.0",
            "_view_name": "LayoutView",
            "align_content": null,
            "align_items": null,
            "align_self": null,
            "border": null,
            "bottom": null,
            "display": null,
            "flex": null,
            "flex_flow": null,
            "grid_area": null,
            "grid_auto_columns": null,
            "grid_auto_flow": null,
            "grid_auto_rows": null,
            "grid_column": null,
            "grid_gap": null,
            "grid_row": null,
            "grid_template_areas": null,
            "grid_template_columns": null,
            "grid_template_rows": null,
            "height": null,
            "justify_content": null,
            "justify_items": null,
            "left": null,
            "margin": null,
            "max_height": null,
            "max_width": null,
            "min_height": null,
            "min_width": null,
            "object_fit": null,
            "object_position": null,
            "order": null,
            "overflow": null,
            "overflow_x": null,
            "overflow_y": null,
            "padding": null,
            "right": null,
            "top": null,
            "visibility": null,
            "width": null
          }
        },
        "4bedd1a75014478fa883a628f7a0a2d5": {
          "model_module": "@jupyter-widgets/controls",
          "model_name": "DescriptionStyleModel",
          "model_module_version": "1.5.0",
          "state": {
            "_model_module": "@jupyter-widgets/controls",
            "_model_module_version": "1.5.0",
            "_model_name": "DescriptionStyleModel",
            "_view_count": null,
            "_view_module": "@jupyter-widgets/base",
            "_view_module_version": "1.2.0",
            "_view_name": "StyleView",
            "description_width": ""
          }
        },
        "669ce329b7cd47b5a5052bf93a4a5e34": {
          "model_module": "@jupyter-widgets/controls",
          "model_name": "HBoxModel",
          "model_module_version": "1.5.0",
          "state": {
            "_dom_classes": [],
            "_model_module": "@jupyter-widgets/controls",
            "_model_module_version": "1.5.0",
            "_model_name": "HBoxModel",
            "_view_count": null,
            "_view_module": "@jupyter-widgets/controls",
            "_view_module_version": "1.5.0",
            "_view_name": "HBoxView",
            "box_style": "",
            "children": [
              "IPY_MODEL_7947dd542bcb47d8af526a21f677bf82",
              "IPY_MODEL_54c1dae606b14d3f88aea3aa7a06b5a7",
              "IPY_MODEL_9fa3faddafbe4d91bdf0ca338d3a5645"
            ],
            "layout": "IPY_MODEL_14506633baaf411092d778795cbda544"
          }
        },
        "7947dd542bcb47d8af526a21f677bf82": {
          "model_module": "@jupyter-widgets/controls",
          "model_name": "HTMLModel",
          "model_module_version": "1.5.0",
          "state": {
            "_dom_classes": [],
            "_model_module": "@jupyter-widgets/controls",
            "_model_module_version": "1.5.0",
            "_model_name": "HTMLModel",
            "_view_count": null,
            "_view_module": "@jupyter-widgets/controls",
            "_view_module_version": "1.5.0",
            "_view_name": "HTMLView",
            "description": "",
            "description_tooltip": null,
            "layout": "IPY_MODEL_17015184ba3f468fa3c8abc17af071ff",
            "placeholder": "​",
            "style": "IPY_MODEL_09fbc77788ed473daaf8c2fd99b2b1e6",
            "value": "100%"
          }
        },
        "54c1dae606b14d3f88aea3aa7a06b5a7": {
          "model_module": "@jupyter-widgets/controls",
          "model_name": "FloatProgressModel",
          "model_module_version": "1.5.0",
          "state": {
            "_dom_classes": [],
            "_model_module": "@jupyter-widgets/controls",
            "_model_module_version": "1.5.0",
            "_model_name": "FloatProgressModel",
            "_view_count": null,
            "_view_module": "@jupyter-widgets/controls",
            "_view_module_version": "1.5.0",
            "_view_name": "ProgressView",
            "bar_style": "success",
            "description": "",
            "description_tooltip": null,
            "layout": "IPY_MODEL_834a890fe8ad492d8175dc813d5b1bdc",
            "max": 1648877,
            "min": 0,
            "orientation": "horizontal",
            "style": "IPY_MODEL_509b70fd91cb4ed0af611b099fd3cc3c",
            "value": 1648877
          }
        },
        "9fa3faddafbe4d91bdf0ca338d3a5645": {
          "model_module": "@jupyter-widgets/controls",
          "model_name": "HTMLModel",
          "model_module_version": "1.5.0",
          "state": {
            "_dom_classes": [],
            "_model_module": "@jupyter-widgets/controls",
            "_model_module_version": "1.5.0",
            "_model_name": "HTMLModel",
            "_view_count": null,
            "_view_module": "@jupyter-widgets/controls",
            "_view_module_version": "1.5.0",
            "_view_name": "HTMLView",
            "description": "",
            "description_tooltip": null,
            "layout": "IPY_MODEL_d1e1873946234eefbd0587f0d547754d",
            "placeholder": "​",
            "style": "IPY_MODEL_c3f871f63d4e41189c7a7c738a9452d9",
            "value": " 1648877/1648877 [00:00&lt;00:00, 10799983.49it/s]"
          }
        },
        "14506633baaf411092d778795cbda544": {
          "model_module": "@jupyter-widgets/base",
          "model_name": "LayoutModel",
          "model_module_version": "1.2.0",
          "state": {
            "_model_module": "@jupyter-widgets/base",
            "_model_module_version": "1.2.0",
            "_model_name": "LayoutModel",
            "_view_count": null,
            "_view_module": "@jupyter-widgets/base",
            "_view_module_version": "1.2.0",
            "_view_name": "LayoutView",
            "align_content": null,
            "align_items": null,
            "align_self": null,
            "border": null,
            "bottom": null,
            "display": null,
            "flex": null,
            "flex_flow": null,
            "grid_area": null,
            "grid_auto_columns": null,
            "grid_auto_flow": null,
            "grid_auto_rows": null,
            "grid_column": null,
            "grid_gap": null,
            "grid_row": null,
            "grid_template_areas": null,
            "grid_template_columns": null,
            "grid_template_rows": null,
            "height": null,
            "justify_content": null,
            "justify_items": null,
            "left": null,
            "margin": null,
            "max_height": null,
            "max_width": null,
            "min_height": null,
            "min_width": null,
            "object_fit": null,
            "object_position": null,
            "order": null,
            "overflow": null,
            "overflow_x": null,
            "overflow_y": null,
            "padding": null,
            "right": null,
            "top": null,
            "visibility": null,
            "width": null
          }
        },
        "17015184ba3f468fa3c8abc17af071ff": {
          "model_module": "@jupyter-widgets/base",
          "model_name": "LayoutModel",
          "model_module_version": "1.2.0",
          "state": {
            "_model_module": "@jupyter-widgets/base",
            "_model_module_version": "1.2.0",
            "_model_name": "LayoutModel",
            "_view_count": null,
            "_view_module": "@jupyter-widgets/base",
            "_view_module_version": "1.2.0",
            "_view_name": "LayoutView",
            "align_content": null,
            "align_items": null,
            "align_self": null,
            "border": null,
            "bottom": null,
            "display": null,
            "flex": null,
            "flex_flow": null,
            "grid_area": null,
            "grid_auto_columns": null,
            "grid_auto_flow": null,
            "grid_auto_rows": null,
            "grid_column": null,
            "grid_gap": null,
            "grid_row": null,
            "grid_template_areas": null,
            "grid_template_columns": null,
            "grid_template_rows": null,
            "height": null,
            "justify_content": null,
            "justify_items": null,
            "left": null,
            "margin": null,
            "max_height": null,
            "max_width": null,
            "min_height": null,
            "min_width": null,
            "object_fit": null,
            "object_position": null,
            "order": null,
            "overflow": null,
            "overflow_x": null,
            "overflow_y": null,
            "padding": null,
            "right": null,
            "top": null,
            "visibility": null,
            "width": null
          }
        },
        "09fbc77788ed473daaf8c2fd99b2b1e6": {
          "model_module": "@jupyter-widgets/controls",
          "model_name": "DescriptionStyleModel",
          "model_module_version": "1.5.0",
          "state": {
            "_model_module": "@jupyter-widgets/controls",
            "_model_module_version": "1.5.0",
            "_model_name": "DescriptionStyleModel",
            "_view_count": null,
            "_view_module": "@jupyter-widgets/base",
            "_view_module_version": "1.2.0",
            "_view_name": "StyleView",
            "description_width": ""
          }
        },
        "834a890fe8ad492d8175dc813d5b1bdc": {
          "model_module": "@jupyter-widgets/base",
          "model_name": "LayoutModel",
          "model_module_version": "1.2.0",
          "state": {
            "_model_module": "@jupyter-widgets/base",
            "_model_module_version": "1.2.0",
            "_model_name": "LayoutModel",
            "_view_count": null,
            "_view_module": "@jupyter-widgets/base",
            "_view_module_version": "1.2.0",
            "_view_name": "LayoutView",
            "align_content": null,
            "align_items": null,
            "align_self": null,
            "border": null,
            "bottom": null,
            "display": null,
            "flex": null,
            "flex_flow": null,
            "grid_area": null,
            "grid_auto_columns": null,
            "grid_auto_flow": null,
            "grid_auto_rows": null,
            "grid_column": null,
            "grid_gap": null,
            "grid_row": null,
            "grid_template_areas": null,
            "grid_template_columns": null,
            "grid_template_rows": null,
            "height": null,
            "justify_content": null,
            "justify_items": null,
            "left": null,
            "margin": null,
            "max_height": null,
            "max_width": null,
            "min_height": null,
            "min_width": null,
            "object_fit": null,
            "object_position": null,
            "order": null,
            "overflow": null,
            "overflow_x": null,
            "overflow_y": null,
            "padding": null,
            "right": null,
            "top": null,
            "visibility": null,
            "width": null
          }
        },
        "509b70fd91cb4ed0af611b099fd3cc3c": {
          "model_module": "@jupyter-widgets/controls",
          "model_name": "ProgressStyleModel",
          "model_module_version": "1.5.0",
          "state": {
            "_model_module": "@jupyter-widgets/controls",
            "_model_module_version": "1.5.0",
            "_model_name": "ProgressStyleModel",
            "_view_count": null,
            "_view_module": "@jupyter-widgets/base",
            "_view_module_version": "1.2.0",
            "_view_name": "StyleView",
            "bar_color": null,
            "description_width": ""
          }
        },
        "d1e1873946234eefbd0587f0d547754d": {
          "model_module": "@jupyter-widgets/base",
          "model_name": "LayoutModel",
          "model_module_version": "1.2.0",
          "state": {
            "_model_module": "@jupyter-widgets/base",
            "_model_module_version": "1.2.0",
            "_model_name": "LayoutModel",
            "_view_count": null,
            "_view_module": "@jupyter-widgets/base",
            "_view_module_version": "1.2.0",
            "_view_name": "LayoutView",
            "align_content": null,
            "align_items": null,
            "align_self": null,
            "border": null,
            "bottom": null,
            "display": null,
            "flex": null,
            "flex_flow": null,
            "grid_area": null,
            "grid_auto_columns": null,
            "grid_auto_flow": null,
            "grid_auto_rows": null,
            "grid_column": null,
            "grid_gap": null,
            "grid_row": null,
            "grid_template_areas": null,
            "grid_template_columns": null,
            "grid_template_rows": null,
            "height": null,
            "justify_content": null,
            "justify_items": null,
            "left": null,
            "margin": null,
            "max_height": null,
            "max_width": null,
            "min_height": null,
            "min_width": null,
            "object_fit": null,
            "object_position": null,
            "order": null,
            "overflow": null,
            "overflow_x": null,
            "overflow_y": null,
            "padding": null,
            "right": null,
            "top": null,
            "visibility": null,
            "width": null
          }
        },
        "c3f871f63d4e41189c7a7c738a9452d9": {
          "model_module": "@jupyter-widgets/controls",
          "model_name": "DescriptionStyleModel",
          "model_module_version": "1.5.0",
          "state": {
            "_model_module": "@jupyter-widgets/controls",
            "_model_module_version": "1.5.0",
            "_model_name": "DescriptionStyleModel",
            "_view_count": null,
            "_view_module": "@jupyter-widgets/base",
            "_view_module_version": "1.2.0",
            "_view_name": "StyleView",
            "description_width": ""
          }
        },
        "34de78e4c76c4da0aa23a5faf31c0814": {
          "model_module": "@jupyter-widgets/controls",
          "model_name": "HBoxModel",
          "model_module_version": "1.5.0",
          "state": {
            "_dom_classes": [],
            "_model_module": "@jupyter-widgets/controls",
            "_model_module_version": "1.5.0",
            "_model_name": "HBoxModel",
            "_view_count": null,
            "_view_module": "@jupyter-widgets/controls",
            "_view_module_version": "1.5.0",
            "_view_name": "HBoxView",
            "box_style": "",
            "children": [
              "IPY_MODEL_32146f50f7084fa38374df16fb1c293e",
              "IPY_MODEL_28df2ded22bc4d43af9c80656ea1943c",
              "IPY_MODEL_be851154d9a545069c30a042ea87b3c2"
            ],
            "layout": "IPY_MODEL_560bcd2d0b874a31b3c0fe2d7bb6eb55"
          }
        },
        "32146f50f7084fa38374df16fb1c293e": {
          "model_module": "@jupyter-widgets/controls",
          "model_name": "HTMLModel",
          "model_module_version": "1.5.0",
          "state": {
            "_dom_classes": [],
            "_model_module": "@jupyter-widgets/controls",
            "_model_module_version": "1.5.0",
            "_model_name": "HTMLModel",
            "_view_count": null,
            "_view_module": "@jupyter-widgets/controls",
            "_view_module_version": "1.5.0",
            "_view_name": "HTMLView",
            "description": "",
            "description_tooltip": null,
            "layout": "IPY_MODEL_7a214e8680614793b6ef17f30dbaaedb",
            "placeholder": "​",
            "style": "IPY_MODEL_0c14ec46682f4a13bf5647fdb6c9410c",
            "value": "100%"
          }
        },
        "28df2ded22bc4d43af9c80656ea1943c": {
          "model_module": "@jupyter-widgets/controls",
          "model_name": "FloatProgressModel",
          "model_module_version": "1.5.0",
          "state": {
            "_dom_classes": [],
            "_model_module": "@jupyter-widgets/controls",
            "_model_module_version": "1.5.0",
            "_model_name": "FloatProgressModel",
            "_view_count": null,
            "_view_module": "@jupyter-widgets/controls",
            "_view_module_version": "1.5.0",
            "_view_name": "ProgressView",
            "bar_style": "success",
            "description": "",
            "description_tooltip": null,
            "layout": "IPY_MODEL_59458fd97c9b4a8daaa9e41fb14c6459",
            "max": 4542,
            "min": 0,
            "orientation": "horizontal",
            "style": "IPY_MODEL_25d5447694a54facb50fdd4e4f6751bb",
            "value": 4542
          }
        },
        "be851154d9a545069c30a042ea87b3c2": {
          "model_module": "@jupyter-widgets/controls",
          "model_name": "HTMLModel",
          "model_module_version": "1.5.0",
          "state": {
            "_dom_classes": [],
            "_model_module": "@jupyter-widgets/controls",
            "_model_module_version": "1.5.0",
            "_model_name": "HTMLModel",
            "_view_count": null,
            "_view_module": "@jupyter-widgets/controls",
            "_view_module_version": "1.5.0",
            "_view_name": "HTMLView",
            "description": "",
            "description_tooltip": null,
            "layout": "IPY_MODEL_1d3aa47ab1fb4e05a7887938053d7860",
            "placeholder": "​",
            "style": "IPY_MODEL_01192d7895a0454297da3c98c0a2a922",
            "value": " 4542/4542 [00:00&lt;00:00, 125063.38it/s]"
          }
        },
        "560bcd2d0b874a31b3c0fe2d7bb6eb55": {
          "model_module": "@jupyter-widgets/base",
          "model_name": "LayoutModel",
          "model_module_version": "1.2.0",
          "state": {
            "_model_module": "@jupyter-widgets/base",
            "_model_module_version": "1.2.0",
            "_model_name": "LayoutModel",
            "_view_count": null,
            "_view_module": "@jupyter-widgets/base",
            "_view_module_version": "1.2.0",
            "_view_name": "LayoutView",
            "align_content": null,
            "align_items": null,
            "align_self": null,
            "border": null,
            "bottom": null,
            "display": null,
            "flex": null,
            "flex_flow": null,
            "grid_area": null,
            "grid_auto_columns": null,
            "grid_auto_flow": null,
            "grid_auto_rows": null,
            "grid_column": null,
            "grid_gap": null,
            "grid_row": null,
            "grid_template_areas": null,
            "grid_template_columns": null,
            "grid_template_rows": null,
            "height": null,
            "justify_content": null,
            "justify_items": null,
            "left": null,
            "margin": null,
            "max_height": null,
            "max_width": null,
            "min_height": null,
            "min_width": null,
            "object_fit": null,
            "object_position": null,
            "order": null,
            "overflow": null,
            "overflow_x": null,
            "overflow_y": null,
            "padding": null,
            "right": null,
            "top": null,
            "visibility": null,
            "width": null
          }
        },
        "7a214e8680614793b6ef17f30dbaaedb": {
          "model_module": "@jupyter-widgets/base",
          "model_name": "LayoutModel",
          "model_module_version": "1.2.0",
          "state": {
            "_model_module": "@jupyter-widgets/base",
            "_model_module_version": "1.2.0",
            "_model_name": "LayoutModel",
            "_view_count": null,
            "_view_module": "@jupyter-widgets/base",
            "_view_module_version": "1.2.0",
            "_view_name": "LayoutView",
            "align_content": null,
            "align_items": null,
            "align_self": null,
            "border": null,
            "bottom": null,
            "display": null,
            "flex": null,
            "flex_flow": null,
            "grid_area": null,
            "grid_auto_columns": null,
            "grid_auto_flow": null,
            "grid_auto_rows": null,
            "grid_column": null,
            "grid_gap": null,
            "grid_row": null,
            "grid_template_areas": null,
            "grid_template_columns": null,
            "grid_template_rows": null,
            "height": null,
            "justify_content": null,
            "justify_items": null,
            "left": null,
            "margin": null,
            "max_height": null,
            "max_width": null,
            "min_height": null,
            "min_width": null,
            "object_fit": null,
            "object_position": null,
            "order": null,
            "overflow": null,
            "overflow_x": null,
            "overflow_y": null,
            "padding": null,
            "right": null,
            "top": null,
            "visibility": null,
            "width": null
          }
        },
        "0c14ec46682f4a13bf5647fdb6c9410c": {
          "model_module": "@jupyter-widgets/controls",
          "model_name": "DescriptionStyleModel",
          "model_module_version": "1.5.0",
          "state": {
            "_model_module": "@jupyter-widgets/controls",
            "_model_module_version": "1.5.0",
            "_model_name": "DescriptionStyleModel",
            "_view_count": null,
            "_view_module": "@jupyter-widgets/base",
            "_view_module_version": "1.2.0",
            "_view_name": "StyleView",
            "description_width": ""
          }
        },
        "59458fd97c9b4a8daaa9e41fb14c6459": {
          "model_module": "@jupyter-widgets/base",
          "model_name": "LayoutModel",
          "model_module_version": "1.2.0",
          "state": {
            "_model_module": "@jupyter-widgets/base",
            "_model_module_version": "1.2.0",
            "_model_name": "LayoutModel",
            "_view_count": null,
            "_view_module": "@jupyter-widgets/base",
            "_view_module_version": "1.2.0",
            "_view_name": "LayoutView",
            "align_content": null,
            "align_items": null,
            "align_self": null,
            "border": null,
            "bottom": null,
            "display": null,
            "flex": null,
            "flex_flow": null,
            "grid_area": null,
            "grid_auto_columns": null,
            "grid_auto_flow": null,
            "grid_auto_rows": null,
            "grid_column": null,
            "grid_gap": null,
            "grid_row": null,
            "grid_template_areas": null,
            "grid_template_columns": null,
            "grid_template_rows": null,
            "height": null,
            "justify_content": null,
            "justify_items": null,
            "left": null,
            "margin": null,
            "max_height": null,
            "max_width": null,
            "min_height": null,
            "min_width": null,
            "object_fit": null,
            "object_position": null,
            "order": null,
            "overflow": null,
            "overflow_x": null,
            "overflow_y": null,
            "padding": null,
            "right": null,
            "top": null,
            "visibility": null,
            "width": null
          }
        },
        "25d5447694a54facb50fdd4e4f6751bb": {
          "model_module": "@jupyter-widgets/controls",
          "model_name": "ProgressStyleModel",
          "model_module_version": "1.5.0",
          "state": {
            "_model_module": "@jupyter-widgets/controls",
            "_model_module_version": "1.5.0",
            "_model_name": "ProgressStyleModel",
            "_view_count": null,
            "_view_module": "@jupyter-widgets/base",
            "_view_module_version": "1.2.0",
            "_view_name": "StyleView",
            "bar_color": null,
            "description_width": ""
          }
        },
        "1d3aa47ab1fb4e05a7887938053d7860": {
          "model_module": "@jupyter-widgets/base",
          "model_name": "LayoutModel",
          "model_module_version": "1.2.0",
          "state": {
            "_model_module": "@jupyter-widgets/base",
            "_model_module_version": "1.2.0",
            "_model_name": "LayoutModel",
            "_view_count": null,
            "_view_module": "@jupyter-widgets/base",
            "_view_module_version": "1.2.0",
            "_view_name": "LayoutView",
            "align_content": null,
            "align_items": null,
            "align_self": null,
            "border": null,
            "bottom": null,
            "display": null,
            "flex": null,
            "flex_flow": null,
            "grid_area": null,
            "grid_auto_columns": null,
            "grid_auto_flow": null,
            "grid_auto_rows": null,
            "grid_column": null,
            "grid_gap": null,
            "grid_row": null,
            "grid_template_areas": null,
            "grid_template_columns": null,
            "grid_template_rows": null,
            "height": null,
            "justify_content": null,
            "justify_items": null,
            "left": null,
            "margin": null,
            "max_height": null,
            "max_width": null,
            "min_height": null,
            "min_width": null,
            "object_fit": null,
            "object_position": null,
            "order": null,
            "overflow": null,
            "overflow_x": null,
            "overflow_y": null,
            "padding": null,
            "right": null,
            "top": null,
            "visibility": null,
            "width": null
          }
        },
        "01192d7895a0454297da3c98c0a2a922": {
          "model_module": "@jupyter-widgets/controls",
          "model_name": "DescriptionStyleModel",
          "model_module_version": "1.5.0",
          "state": {
            "_model_module": "@jupyter-widgets/controls",
            "_model_module_version": "1.5.0",
            "_model_name": "DescriptionStyleModel",
            "_view_count": null,
            "_view_module": "@jupyter-widgets/base",
            "_view_module_version": "1.2.0",
            "_view_name": "StyleView",
            "description_width": ""
          }
        }
      }
    }
  },
  "cells": [
    {
      "cell_type": "markdown",
      "source": [
        "## v. 27-7"
      ],
      "metadata": {
        "id": "cwdU-RTfWWDJ"
      }
    },
    {
      "cell_type": "code",
      "source": [
        "import torch\n",
        "import numpy as np\n",
        "import matplotlib.pyplot as plt\n",
        "from torchvision.datasets import CIFAR10, MNIST\n",
        "from torch.utils.data.dataloader import DataLoader\n",
        "from torchvision import transforms\n",
        "import tensorflow.keras as keras\n",
        "import os\n",
        "import sys\n",
        "import time\n",
        "\n",
        "\n",
        "PATH = \"/content/drive/MyDrive/ColabNotebooks_Nov22/\"\n",
        "# NOTE: Update MODEL according to the model\n",
        "MODEL = \"ResNet-34\"\n",
        "to_string = {MNIST: \"MNIST\", CIFAR10: \"CIFAR-10\"}\n",
        "\n",
        "\n",
        "class Dataset:\n",
        "    def __init__(self, model, data):\n",
        "        \"\"\"\n",
        "        model: pre-trained ResNet model\n",
        "        data: CIFAR10 or MNIST\n",
        "        \"\"\"\n",
        "        self.model = model\n",
        "        self.data = data\n",
        "        self.num_classes = 10\n",
        "\n",
        "        transform = transforms.Compose([\n",
        "            #transforms.Resize(256),\n",
        "            #transforms.RandomCrop(224),\n",
        "            #transforms.RandomHorizontalFlip(),\n",
        "            transforms.ToTensor(),\n",
        "            transforms.Normalize(\n",
        "                (0.4914, 0.4822, 0.4465), (0.2471, 0.2435, 0.2616)\n",
        "                #(0.5, 0.5, 0.5), (0.25, 0.25, 0.25)\n",
        "            )\n",
        "        ]) if self.data is CIFAR10 else transforms.Compose([\n",
        "            transforms.ToTensor()\n",
        "        ])\n",
        "        test_dataset = self.data(\n",
        "            root=\"data/\", train=False, transform=transform, download=True\n",
        "        )\n",
        "        self.test_loader = DataLoader(test_dataset, \n",
        "                                      128, \n",
        "                                      num_workers=0, \n",
        "                                      pin_memory=True)\n",
        "\n",
        "        # manual normalization\n",
        "        # mean = [0.5, 0.5, 0.5]\n",
        "        # std = [0.25, 0.25, 0.25]\n",
        "        if self.data is CIFAR10:\n",
        "            (train_x, train_y), (test_x, test_y) = (keras\n",
        "                                                    .datasets\n",
        "                                                    .cifar10\n",
        "                                                    .load_data())\n",
        "            mean = [0.4914, 0.4822, 0.4465]\n",
        "            std = [0.2471, 0.2435, 0.2616]\n",
        "        else:\n",
        "            (train_x, train_y), (test_x, test_y) = (keras\n",
        "                                                    .datasets\n",
        "                                                    .mnist\n",
        "                                                    .load_data())\n",
        "            mean = 0\n",
        "            std = 1\n",
        "\n",
        "        train_x = train_x / 255.0\n",
        "        test_x = test_x / 255.0\n",
        "        test_x = (test_x - mean) / std\n",
        "        self.test_x = test_x\n",
        "        self.test_y = test_y\n",
        "        print(\"current version: 27-7\")\n",
        "        print(f\"training set size = {train_x.shape[0]}, test set size = {test_x.shape[0]}\")\n",
        "\n",
        "\n",
        "    def accuracy_pytorch(self):\n",
        "        start_time = time.time()\n",
        "        correct = 0\n",
        "        total = 0\n",
        "        # since we're not training, we don't need to calculate the gradients \n",
        "        # for our outputs\n",
        "        with torch.no_grad():\n",
        "            for data in self.test_loader:\n",
        "                images, labels = data\n",
        "                # calculate outputs by running images through the network\n",
        "                outputs = self.model(images)\n",
        "                # the class with the highest energy is what we choose as \n",
        "                # prediction\n",
        "                _, predicted = torch.max(outputs[0] if isinstance(outputs,\n",
        "                    tuple) else outputs.data, 1)\n",
        "                total += labels.size(0)\n",
        "                correct += (predicted == labels).sum().item()\n",
        "        \n",
        "        print(f\"accuracy_pytorch function completed. \\nTime: {time.time() - start_time:.6f} seconds\")\n",
        "        return correct / total\n",
        "\n",
        "    def accuracy(self):\n",
        "        start_time = time.time()\n",
        "        n = self.test_x.shape[0]\n",
        "        accuracy = self.determine_accuracy(np.arange(n)) / n\n",
        "        print(f\"accuracy function completed. \\nTime: {time.time() - start_time:.6f} seconds\")\n",
        "\n",
        "        return accuracy\n",
        "\n",
        "    # Berrut Encoder\n",
        "    def encoder(self, X, N):\n",
        "        if self.data is CIFAR10:\n",
        "            [K, H, W, C] = np.shape(X)\n",
        "        else:\n",
        "            [K, H, W] = np.shape(X)\n",
        "        alpha = np.zeros(K)\n",
        "        for j in range(K):\n",
        "            alpha[j] = np.cos(((2*j+1)*np.pi) / (2*K))\n",
        "        all_z = np.zeros(N)\n",
        "        for i in range(N):\n",
        "            all_z[i] = np.cos((i*np.pi) / N)\n",
        "        coded_X = (np.zeros([N, H, W, C]) if self.data is CIFAR10 else\n",
        "                np.zeros([N, H, W]))\n",
        "        for n in range(N):\n",
        "            z = all_z[n]\n",
        "            den = 0\n",
        "            for j in range(K):\n",
        "                den = den + np.power(-1, j) / (z - alpha[j])\n",
        "            for i in range(K):\n",
        "                coded_X[n,] = (coded_X[n,] \n",
        "                               + ((np.power(-1, i)/(z-alpha[i]))/den)*X[i,])\n",
        "        return coded_X\n",
        "\n",
        "    # Returns the error locations\n",
        "    def welch_decoder(self, y, K, N, retuned_points_indices):  \n",
        "        e_max = int((N - 2 * K) / 2)\n",
        "        e = e_max\n",
        "        alpha = np.zeros(K)\n",
        "        for j in range(K):\n",
        "            alpha[j] = np.cos(((2 * j + 1) * np.pi) / (2 * K))\n",
        "\n",
        "        all_z = np.zeros(N)\n",
        "        for i in range(N):\n",
        "            all_z[i] = np.cos((i * np.pi) / N)\n",
        "\n",
        "        returned_z=all_z[retuned_points_indices]\n",
        "\n",
        "        A1 = np.vander(returned_z, N=K + e)\n",
        "        A2 = np.vander(returned_z, N=K + e )\n",
        "        A2 = -A2[:, 0:K + e-1]\n",
        "        A2 = A2 * y\n",
        "        A = np.concatenate([A1, A2], axis=1)\n",
        "        A_psudo_inv = np.linalg.pinv(A)\n",
        "        coeffs = np.matmul(A_psudo_inv, y)\n",
        "\n",
        "        a = coeffs[0:K + e, 0]\n",
        "        b = coeffs[K + e:2 * (K + e)-1, 0]\n",
        "        b = np.reshape(b, [len(b), 1])\n",
        "        bb = np.concatenate([b, np.ones([1, 1])])\n",
        "        qlambda_evals = np.zeros([N, 1])\n",
        "\n",
        "        output = np.zeros([N, 1])\n",
        "        for i in range(N):\n",
        "            qlambda_evals[i] = np.polyval(bb, all_z[i])\n",
        "\n",
        "        idx = np.argpartition(np.abs(qlambda_evals.transpose()), e)\n",
        "        output = (np.sort(idx[:, :e]))\n",
        "\n",
        "        return np.sort(idx[:, :e])\n",
        "\n",
        "    # Berrut Decoder\n",
        "    def decoder(self, Y, K, N, indices, sigma):\n",
        "\n",
        "        # when E > 0 \n",
        "        if indices.size != K:\n",
        "            e = int((N - 2*K)/2)\n",
        "            if (N, self.num_classes) != np.shape(Y):\n",
        "                raise Exception(\"Shape of Y not matched\")\n",
        "            error_indices = np.random.permutation(indices)[:e]\n",
        "            # print(\"true error loc: \", np.sort(error_indices))\n",
        "            Y[error_indices, :]=Y[error_indices,:]+np.random.normal(0,sigma,[e,self.num_classes])\n",
        "            adversary_indices_matrix=np.zeros([e, self.num_classes])\n",
        "            for i in range(self.num_classes):\n",
        "                y=Y[indices,i]\n",
        "                y=np.reshape(y,[len(y),1])\n",
        "                adversary_indices_matrix[:,i]=self.welch_decoder(y,K,N,indices)\n",
        "\n",
        "\n",
        "            flattened_adversary_indices= adversary_indices_matrix.flatten()\n",
        "            flattened_adversary_indices=np.reshape(flattened_adversary_indices,[1,len(flattened_adversary_indices)])\n",
        "            bin_count=(np.bincount(flattened_adversary_indices[0,:].astype(np.int64)))\n",
        "            temp=((np.argsort(bin_count)))\n",
        "            error_locations_predicted=temp[-e:]\n",
        "            # print(\"predicted error loc: \", np.sort(error_locations_predicted))\n",
        "            \n",
        "            for i in range(len(error_locations_predicted)):\n",
        "                loc=np.where(indices == error_locations_predicted[i])\n",
        "                indices=np.delete(indices,loc)\n",
        "\n",
        "\n",
        "        F = len(indices)\n",
        "        alpha = np.zeros(K)\n",
        "        for j in range(K):\n",
        "            alpha[j] = np.cos(((2*j+1)*np.pi) / (2*K))\n",
        "\n",
        "        z_bar = np.zeros(N)\n",
        "        for i in range(N):\n",
        "            z_bar[i] = np.cos((i*np.pi) / N)\n",
        "\n",
        "        probs = np.zeros([K, self.num_classes])\n",
        "        for digit in range(self.num_classes):\n",
        "            for i in range(K):\n",
        "                z = alpha[i]\n",
        "                den = 0\n",
        "                for j in range(F):\n",
        "                    den = den + np.power(-1, j) / (z - z_bar[indices[j]])\n",
        "                for l in range(F):\n",
        "                    probs[i, digit] = probs[i, digit] + ((((np.power(-1, l))\n",
        "                        / (z - z_bar[indices[l]])) / den) * Y[indices[l],\n",
        "                            digit])\n",
        "\n",
        "        return probs\n",
        "\n",
        "    def outputs(self, Y):\n",
        "        n = len(Y)\n",
        "        outputs = np.zeros([n, self.num_classes])\n",
        "        for i in range(n):\n",
        "            data = Y[i,]\n",
        "            torch_sample = torch.from_numpy(data).float()\n",
        "            torch_sample = (torch_sample.permute(2, 0, 1) if self.data is\n",
        "                    CIFAR10 else torch_sample.unsqueeze(0))\n",
        "            torch_sample = torch_sample.unsqueeze(0)\n",
        "            output = self.model(torch_sample)\n",
        "            outputs[i,] = ((output[0] if isinstance(output, tuple) else\n",
        "                output).detach().numpy()[0])\n",
        "\n",
        "        return outputs\n",
        "\n",
        "    def determine_accuracy(self, input_batch_ids):\n",
        "        input_batch = self.test_x[input_batch_ids]\n",
        "        n = len(input_batch)\n",
        "        predictions = np.zeros([n, 1])\n",
        "        for i in range(n):\n",
        "            data = input_batch[i,]\n",
        "            torch_sample = torch.from_numpy(data).float()\n",
        "            torch_sample = (torch_sample.permute(2, 0, 1) if self.data is\n",
        "                    CIFAR10 else torch_sample.unsqueeze(0))\n",
        "            torch_sample = torch_sample.unsqueeze(0)\n",
        "            pred = self.model(torch_sample)\n",
        "            _, predicts = (torch.max(pred[0] if isinstance(pred, tuple) else\n",
        "                pred, 1))\n",
        "            predictions[i] = predicts.numpy()[0]\n",
        "\n",
        "        temp = self.test_y[input_batch_ids]\n",
        "        if self.data is MNIST:\n",
        "            temp = np.reshape(temp, [n, 1])\n",
        "        diff = temp - predictions\n",
        "        return n - np.count_nonzero(diff)\n",
        "\n",
        "    def accuracy_comparison(self, K, N, S, iterations, sigma=0.0):\n",
        "        start_time = time.time()\n",
        "        berrut_acc = 0\n",
        "        center_acc = 0\n",
        "        print(f\"num of iterations = {iterations}, noise sigma = {sigma}\")\n",
        "        for i in range(iterations):\n",
        "            # Random data\n",
        "            shuffled_indices = np.random.permutation(self.test_x.shape[0])\n",
        "            random_indices = shuffled_indices[0:K]\n",
        "            random_indices = np.sort(random_indices)\n",
        "            test_sample_x = self.test_x[random_indices]\n",
        "\n",
        "            single_center_acc = self.determine_accuracy(random_indices)\n",
        "            center_acc += single_center_acc / K\n",
        "            \n",
        "            # Distributed Inference\n",
        "            # encoding test data\n",
        "            coded_test_sample_x = self.encoder(test_sample_x, N)\n",
        "            outputs = self.outputs(coded_test_sample_x)\n",
        "\n",
        "            # Determining stragglers' indices\n",
        "            stragglers = np.random.permutation(N)\n",
        "            stragglers = stragglers[0:N - S]\n",
        "            stragglers = np.sort(stragglers)\n",
        "            test_sample_out = self.decoder(outputs, K, N, stragglers, sigma)\n",
        "\n",
        "            # Perfomance Evaluation\n",
        "            true_labels = self.test_y[random_indices]\n",
        "            true_labels = np.reshape(true_labels, [len(true_labels), 1])\n",
        "            berrut_preds = np.argmax(test_sample_out, axis=1)\n",
        "            berrut_preds = berrut_preds.reshape(K, 1)\n",
        "            berrut_acc = (berrut_acc + np.count_nonzero(berrut_preds\n",
        "                - true_labels) / K)\n",
        "            if i is 0:\n",
        "                print(f\"Prediction time for batch size {K}: \"\n",
        "                        f\"{time.time() - start_time:.6f} seconds\")\n",
        "            print(f\"\\r{(i+1)*100 // iterations}% completed\", end=\"... \" if\n",
        "                    i + 1 < iterations else \"\")\n",
        "        \n",
        "        print()\n",
        "        print(f\"Time: {time.time() - start_time:.6f} seconds\")\n",
        "\n",
        "        return 1 - berrut_acc/iterations, center_acc / iterations\n",
        "\n",
        "    # Plot vs K\n",
        "    def plot_K(self, S=1, K_list=8, e_max=0, noise_sigma = 10.0):\n",
        "\n",
        "        if isinstance(K_list, int):\n",
        "            K_list = [K_list]\n",
        "\n",
        "        berrut_acc = np.zeros(len(K_list))\n",
        "        center_acc = np.zeros(len(K_list))\n",
        "\n",
        "        iterations = 100 if self.data is CIFAR10 else 300\n",
        "        # iterations = 10 # for debug\n",
        "        print(\"number of iterations = \", iterations)\n",
        "\n",
        "\n",
        "        for i, K in enumerate(K_list):\n",
        "            if e_max == 0:\n",
        "                print(f\"K = {K}\")\n",
        "                berrut_acc[i], center_acc[i] = \\\n",
        "                        self.accuracy_comparison(K, K + S, S, iterations) \n",
        "            else:\n",
        "                print(f\"K = {K}, E = {e_max}\")\n",
        "                berrut_acc[i], center_acc[i] = \\\n",
        "                        self.accuracy_comparison(K, 2* K + S + 2*e_max, S, iterations, sigma = noise_sigma)\n",
        "        path = f\"{PATH}/{MODEL}/{to_string[self.data]}/S_only/{S}/\"\n",
        "        print(\"Path is \", path)\n",
        "        if not os.path.exists(path):\n",
        "            os.makedirs(path)\n",
        "        os.chdir(path)\n",
        "\n",
        "        with open(f\"output.txt\", \"w\") as f:\n",
        "            f.write(f\"N = K + 1, S = {S}, iterations = {iterations}\\n\")\n",
        "            f.write(f\"K = {K_list}\\n\")\n",
        "            f.write(f\"Berrut Accuracy = {berrut_acc}\\n\")\n",
        "            f.write(f\"Centralized Accuracy = {center_acc}\")\n",
        "\n",
        "        bar_width = 0.2\n",
        "        X_axis = np.arange(len(K_list))\n",
        "        plt.xticks(X_axis, K_list)\n",
        "\n",
        "        plt.bar(X_axis - bar_width, berrut_acc, width=bar_width, \n",
        "                label=\"Berrut\")\n",
        "        for i, v in enumerate(berrut_acc):\n",
        "            plt.text(X_axis[i] - bar_width, v, f\"{v:.2f}\")\n",
        "\n",
        "        plt.bar(X_axis + bar_width, center_acc, width=bar_width, \n",
        "                label=\"Centralized\")\n",
        "        for i, v in enumerate(center_acc):\n",
        "            plt.text(X_axis[i] + bar_width, v, f\"{v:.2f}\")\n",
        "\n",
        "        plt.legend([\"Berrut\", \"Centralized\"])\n",
        "        plt.xlabel(\"K\")\n",
        "        plt.ylabel(\"Accuracy\")\n",
        "        plt.title(f\"{to_string[self.data]} accuracy for K = {K_list} \" \n",
        "                  f\"and S = {S} ({iterations} iterations)\")\n",
        "        plt.savefig(f\"{S}.png\")\n",
        "        plt.show()\n",
        "\n",
        "\n",
        "    # Plot vs E\n",
        "    def plot_E(self, S=0, K=8, E_list=1, noise_sigma = 10.0):\n",
        "\n",
        "        if isinstance(E_list, int):\n",
        "            E_list = [E_list]\n",
        "        if not isinstance(K, int):\n",
        "            raise Exception(\"K should contain only one integer\")\n",
        "            \n",
        "        berrut_acc = np.zeros(len(E_list))\n",
        "        center_acc = np.zeros(len(E_list))\n",
        "\n",
        "        iterations = 200 if self.data is CIFAR10 else 300\n",
        "        # iterations = 10 # for debug\n",
        "        print(\"number of iterations = \", iterations)\n",
        "\n",
        "\n",
        "        for i, e_max in enumerate(E_list):\n",
        "            if e_max == 0:\n",
        "                print(f\"K = {K}\")\n",
        "                berrut_acc[i], center_acc[i] = \\\n",
        "                        self.accuracy_comparison(K, K + S, S, iterations) \n",
        "            else:\n",
        "                print(f\"K = {K}, E = {e_max}\")\n",
        "                berrut_acc[i], center_acc[i] = \\\n",
        "                        self.accuracy_comparison(K, 2* K + S + 2*e_max, S, iterations, sigma = noise_sigma)\n",
        "        path = f\"{PATH}/{MODEL}/{to_string[self.data]}/E_only/sigma_{int(noise_sigma)}/K_{K}/\"\n",
        "        print(\"Path is \", path)\n",
        "        if not os.path.exists(path):\n",
        "            os.makedirs(path)\n",
        "        os.chdir(path)\n",
        "\n",
        "        with open(f\"output.txt\", \"w\") as f:\n",
        "            f.write(f\"N = 2* K + S + 2*E, S = {S}, iterations = {iterations}\\n\")\n",
        "            f.write(f\"E = {E_list}\\n\")\n",
        "            f.write(f\"$\\sigma$ = {noise_sigma}\\n\")\n",
        "            f.write(f\"Berrut Accuracy = {berrut_acc}\\n\")\n",
        "            f.write(f\"Centralized Accuracy = {np.mean(center_acc)}\")\n",
        "\n",
        "        bar_width = 0.2\n",
        "        X_axis = np.arange(len(E_list))\n",
        "        plt.xticks(X_axis, E_list)\n",
        "\n",
        "        plt.bar(X_axis - bar_width, berrut_acc, width=bar_width, \n",
        "                label=\"Berrut\")\n",
        "        for i, v in enumerate(berrut_acc):\n",
        "            plt.text(X_axis[i] - bar_width, v, f\"{v:.2f}\")\n",
        "\n",
        "        plt.bar(X_axis + bar_width, center_acc, width=bar_width, \n",
        "                label=\"Centralized\")\n",
        "        for i, v in enumerate(center_acc):\n",
        "            plt.text(X_axis[i] + bar_width, v, f\"{v:.2f}\")\n",
        "\n",
        "        plt.legend([\"Berrut\", \"Centralized\"])\n",
        "        plt.xlabel(\"E\")\n",
        "        plt.ylabel(\"Accuracy\")\n",
        "        plt.title(f\"{to_string[self.data]} accuracy ({iterations} iterations) \\n\"\n",
        "            f\"K = {K}, S = {S} and E = {E_list}, $\\sigma$ = {noise_sigma}\\n\")\n",
        "        plt.savefig(f\"{K}.png\")\n",
        "        plt.show()"
      ],
      "metadata": {
        "id": "a2z6y_y2cxii"
      },
      "execution_count": null,
      "outputs": []
    },
    {
      "cell_type": "markdown",
      "source": [
        "## Load \n"
      ],
      "metadata": {
        "id": "A5eRdRtiEmRT"
      }
    },
    {
      "cell_type": "code",
      "source": [
        "#  Colab only\n",
        "from google.colab import drive\n",
        "%matplotlib inline\n",
        "\n",
        "drive.mount(\"/content/drive\")"
      ],
      "metadata": {
        "id": "xt_AZg7cElAa",
        "colab": {
          "base_uri": "https://localhost:8080/"
        },
        "outputId": "cb0c5429-d53c-4af9-a86b-125b4fe2796e"
      },
      "execution_count": null,
      "outputs": [
        {
          "output_type": "stream",
          "name": "stdout",
          "text": [
            "Mounted at /content/drive\n"
          ]
        }
      ]
    },
    {
      "cell_type": "markdown",
      "source": [
        "# Base Imports"
      ],
      "metadata": {
        "id": "1Gyp9R9aphk9"
      }
    },
    {
      "cell_type": "code",
      "source": [
        "import sys\n",
        "import torch\n",
        "from torchvision.datasets import CIFAR10, MNIST\n",
        "\n",
        "PATH = \"/content/drive/MyDrive/ColabNotebooks_Nov22/\"\n",
        "sys.path.append(PATH)"
      ],
      "metadata": {
        "id": "66btabOnEkvZ"
      },
      "execution_count": null,
      "outputs": []
    },
    {
      "cell_type": "code",
      "source": [
        "# import dataset_byzantine\n",
        "\n",
        "modulename = 'dataset_byzantine'\n",
        "if modulename not in sys.modules:\n",
        "    print('You have not imported the {} module'.format(modulename))\n",
        "# dataset_byzantine.MODEL =  \"ResNet-34\"\n",
        "Dataset.MODEL =  \"ResNet-34\"\n",
        "\n",
        "DATA = MNIST\n",
        "# DATA = CIFAR10"
      ],
      "metadata": {
        "id": "BuNmFKLUEkm8",
        "colab": {
          "base_uri": "https://localhost:8080/"
        },
        "outputId": "518ab492-cc49-4977-9fc8-0a46a2f604fb"
      },
      "execution_count": null,
      "outputs": [
        {
          "output_type": "stream",
          "name": "stdout",
          "text": [
            "You have not imported the dataset_byzantine module\n"
          ]
        }
      ]
    },
    {
      "cell_type": "markdown",
      "source": [
        "## Model"
      ],
      "metadata": {
        "id": "obt8CmA60ahv"
      }
    },
    {
      "cell_type": "code",
      "source": [
        "if DATA is CIFAR10:\n",
        "    import cifar10_models_resnet as resnet\n",
        "    model = resnet.resnet34(pretrained=True)\n",
        "else:\n",
        "    import resnet34 as resnet\n",
        "    model = resnet.resnet34()\n",
        "    model.load_state_dict(\n",
        "        torch.load(\n",
        "            PATH + \"mnist_resnet34_model.t7\", \n",
        "            map_location=torch.device('cpu')\n",
        "          )\n",
        "    )\n",
        "\n",
        "model.eval()"
      ],
      "metadata": {
        "colab": {
          "base_uri": "https://localhost:8080/"
        },
        "id": "B8fUnWlw0Yay",
        "outputId": "134e6930-3031-4c93-d69a-686d57c82c96"
      },
      "execution_count": null,
      "outputs": [
        {
          "output_type": "execute_result",
          "data": {
            "text/plain": [
              "ResNet(\n",
              "  (conv1): Conv2d(1, 64, kernel_size=(7, 7), stride=(2, 2), padding=(3, 3), bias=False)\n",
              "  (bn1): BatchNorm2d(64, eps=1e-05, momentum=0.1, affine=True, track_running_stats=True)\n",
              "  (relu): ReLU(inplace=True)\n",
              "  (maxpool): MaxPool2d(kernel_size=3, stride=2, padding=1, dilation=1, ceil_mode=False)\n",
              "  (layer1): Sequential(\n",
              "    (0): BasicBlock(\n",
              "      (conv1): Conv2d(64, 64, kernel_size=(3, 3), stride=(1, 1), padding=(1, 1), bias=False)\n",
              "      (bn1): BatchNorm2d(64, eps=1e-05, momentum=0.1, affine=True, track_running_stats=True)\n",
              "      (relu): ReLU(inplace=True)\n",
              "      (conv2): Conv2d(64, 64, kernel_size=(3, 3), stride=(1, 1), padding=(1, 1), bias=False)\n",
              "      (bn2): BatchNorm2d(64, eps=1e-05, momentum=0.1, affine=True, track_running_stats=True)\n",
              "    )\n",
              "    (1): BasicBlock(\n",
              "      (conv1): Conv2d(64, 64, kernel_size=(3, 3), stride=(1, 1), padding=(1, 1), bias=False)\n",
              "      (bn1): BatchNorm2d(64, eps=1e-05, momentum=0.1, affine=True, track_running_stats=True)\n",
              "      (relu): ReLU(inplace=True)\n",
              "      (conv2): Conv2d(64, 64, kernel_size=(3, 3), stride=(1, 1), padding=(1, 1), bias=False)\n",
              "      (bn2): BatchNorm2d(64, eps=1e-05, momentum=0.1, affine=True, track_running_stats=True)\n",
              "    )\n",
              "    (2): BasicBlock(\n",
              "      (conv1): Conv2d(64, 64, kernel_size=(3, 3), stride=(1, 1), padding=(1, 1), bias=False)\n",
              "      (bn1): BatchNorm2d(64, eps=1e-05, momentum=0.1, affine=True, track_running_stats=True)\n",
              "      (relu): ReLU(inplace=True)\n",
              "      (conv2): Conv2d(64, 64, kernel_size=(3, 3), stride=(1, 1), padding=(1, 1), bias=False)\n",
              "      (bn2): BatchNorm2d(64, eps=1e-05, momentum=0.1, affine=True, track_running_stats=True)\n",
              "    )\n",
              "  )\n",
              "  (layer2): Sequential(\n",
              "    (0): BasicBlock(\n",
              "      (conv1): Conv2d(64, 128, kernel_size=(3, 3), stride=(2, 2), padding=(1, 1), bias=False)\n",
              "      (bn1): BatchNorm2d(128, eps=1e-05, momentum=0.1, affine=True, track_running_stats=True)\n",
              "      (relu): ReLU(inplace=True)\n",
              "      (conv2): Conv2d(128, 128, kernel_size=(3, 3), stride=(1, 1), padding=(1, 1), bias=False)\n",
              "      (bn2): BatchNorm2d(128, eps=1e-05, momentum=0.1, affine=True, track_running_stats=True)\n",
              "      (downsample): Sequential(\n",
              "        (0): Conv2d(64, 128, kernel_size=(1, 1), stride=(2, 2), bias=False)\n",
              "        (1): BatchNorm2d(128, eps=1e-05, momentum=0.1, affine=True, track_running_stats=True)\n",
              "      )\n",
              "    )\n",
              "    (1): BasicBlock(\n",
              "      (conv1): Conv2d(128, 128, kernel_size=(3, 3), stride=(1, 1), padding=(1, 1), bias=False)\n",
              "      (bn1): BatchNorm2d(128, eps=1e-05, momentum=0.1, affine=True, track_running_stats=True)\n",
              "      (relu): ReLU(inplace=True)\n",
              "      (conv2): Conv2d(128, 128, kernel_size=(3, 3), stride=(1, 1), padding=(1, 1), bias=False)\n",
              "      (bn2): BatchNorm2d(128, eps=1e-05, momentum=0.1, affine=True, track_running_stats=True)\n",
              "    )\n",
              "    (2): BasicBlock(\n",
              "      (conv1): Conv2d(128, 128, kernel_size=(3, 3), stride=(1, 1), padding=(1, 1), bias=False)\n",
              "      (bn1): BatchNorm2d(128, eps=1e-05, momentum=0.1, affine=True, track_running_stats=True)\n",
              "      (relu): ReLU(inplace=True)\n",
              "      (conv2): Conv2d(128, 128, kernel_size=(3, 3), stride=(1, 1), padding=(1, 1), bias=False)\n",
              "      (bn2): BatchNorm2d(128, eps=1e-05, momentum=0.1, affine=True, track_running_stats=True)\n",
              "    )\n",
              "    (3): BasicBlock(\n",
              "      (conv1): Conv2d(128, 128, kernel_size=(3, 3), stride=(1, 1), padding=(1, 1), bias=False)\n",
              "      (bn1): BatchNorm2d(128, eps=1e-05, momentum=0.1, affine=True, track_running_stats=True)\n",
              "      (relu): ReLU(inplace=True)\n",
              "      (conv2): Conv2d(128, 128, kernel_size=(3, 3), stride=(1, 1), padding=(1, 1), bias=False)\n",
              "      (bn2): BatchNorm2d(128, eps=1e-05, momentum=0.1, affine=True, track_running_stats=True)\n",
              "    )\n",
              "  )\n",
              "  (layer3): Sequential(\n",
              "    (0): BasicBlock(\n",
              "      (conv1): Conv2d(128, 256, kernel_size=(3, 3), stride=(2, 2), padding=(1, 1), bias=False)\n",
              "      (bn1): BatchNorm2d(256, eps=1e-05, momentum=0.1, affine=True, track_running_stats=True)\n",
              "      (relu): ReLU(inplace=True)\n",
              "      (conv2): Conv2d(256, 256, kernel_size=(3, 3), stride=(1, 1), padding=(1, 1), bias=False)\n",
              "      (bn2): BatchNorm2d(256, eps=1e-05, momentum=0.1, affine=True, track_running_stats=True)\n",
              "      (downsample): Sequential(\n",
              "        (0): Conv2d(128, 256, kernel_size=(1, 1), stride=(2, 2), bias=False)\n",
              "        (1): BatchNorm2d(256, eps=1e-05, momentum=0.1, affine=True, track_running_stats=True)\n",
              "      )\n",
              "    )\n",
              "    (1): BasicBlock(\n",
              "      (conv1): Conv2d(256, 256, kernel_size=(3, 3), stride=(1, 1), padding=(1, 1), bias=False)\n",
              "      (bn1): BatchNorm2d(256, eps=1e-05, momentum=0.1, affine=True, track_running_stats=True)\n",
              "      (relu): ReLU(inplace=True)\n",
              "      (conv2): Conv2d(256, 256, kernel_size=(3, 3), stride=(1, 1), padding=(1, 1), bias=False)\n",
              "      (bn2): BatchNorm2d(256, eps=1e-05, momentum=0.1, affine=True, track_running_stats=True)\n",
              "    )\n",
              "    (2): BasicBlock(\n",
              "      (conv1): Conv2d(256, 256, kernel_size=(3, 3), stride=(1, 1), padding=(1, 1), bias=False)\n",
              "      (bn1): BatchNorm2d(256, eps=1e-05, momentum=0.1, affine=True, track_running_stats=True)\n",
              "      (relu): ReLU(inplace=True)\n",
              "      (conv2): Conv2d(256, 256, kernel_size=(3, 3), stride=(1, 1), padding=(1, 1), bias=False)\n",
              "      (bn2): BatchNorm2d(256, eps=1e-05, momentum=0.1, affine=True, track_running_stats=True)\n",
              "    )\n",
              "    (3): BasicBlock(\n",
              "      (conv1): Conv2d(256, 256, kernel_size=(3, 3), stride=(1, 1), padding=(1, 1), bias=False)\n",
              "      (bn1): BatchNorm2d(256, eps=1e-05, momentum=0.1, affine=True, track_running_stats=True)\n",
              "      (relu): ReLU(inplace=True)\n",
              "      (conv2): Conv2d(256, 256, kernel_size=(3, 3), stride=(1, 1), padding=(1, 1), bias=False)\n",
              "      (bn2): BatchNorm2d(256, eps=1e-05, momentum=0.1, affine=True, track_running_stats=True)\n",
              "    )\n",
              "    (4): BasicBlock(\n",
              "      (conv1): Conv2d(256, 256, kernel_size=(3, 3), stride=(1, 1), padding=(1, 1), bias=False)\n",
              "      (bn1): BatchNorm2d(256, eps=1e-05, momentum=0.1, affine=True, track_running_stats=True)\n",
              "      (relu): ReLU(inplace=True)\n",
              "      (conv2): Conv2d(256, 256, kernel_size=(3, 3), stride=(1, 1), padding=(1, 1), bias=False)\n",
              "      (bn2): BatchNorm2d(256, eps=1e-05, momentum=0.1, affine=True, track_running_stats=True)\n",
              "    )\n",
              "    (5): BasicBlock(\n",
              "      (conv1): Conv2d(256, 256, kernel_size=(3, 3), stride=(1, 1), padding=(1, 1), bias=False)\n",
              "      (bn1): BatchNorm2d(256, eps=1e-05, momentum=0.1, affine=True, track_running_stats=True)\n",
              "      (relu): ReLU(inplace=True)\n",
              "      (conv2): Conv2d(256, 256, kernel_size=(3, 3), stride=(1, 1), padding=(1, 1), bias=False)\n",
              "      (bn2): BatchNorm2d(256, eps=1e-05, momentum=0.1, affine=True, track_running_stats=True)\n",
              "    )\n",
              "  )\n",
              "  (layer4): Sequential(\n",
              "    (0): BasicBlock(\n",
              "      (conv1): Conv2d(256, 512, kernel_size=(3, 3), stride=(2, 2), padding=(1, 1), bias=False)\n",
              "      (bn1): BatchNorm2d(512, eps=1e-05, momentum=0.1, affine=True, track_running_stats=True)\n",
              "      (relu): ReLU(inplace=True)\n",
              "      (conv2): Conv2d(512, 512, kernel_size=(3, 3), stride=(1, 1), padding=(1, 1), bias=False)\n",
              "      (bn2): BatchNorm2d(512, eps=1e-05, momentum=0.1, affine=True, track_running_stats=True)\n",
              "      (downsample): Sequential(\n",
              "        (0): Conv2d(256, 512, kernel_size=(1, 1), stride=(2, 2), bias=False)\n",
              "        (1): BatchNorm2d(512, eps=1e-05, momentum=0.1, affine=True, track_running_stats=True)\n",
              "      )\n",
              "    )\n",
              "    (1): BasicBlock(\n",
              "      (conv1): Conv2d(512, 512, kernel_size=(3, 3), stride=(1, 1), padding=(1, 1), bias=False)\n",
              "      (bn1): BatchNorm2d(512, eps=1e-05, momentum=0.1, affine=True, track_running_stats=True)\n",
              "      (relu): ReLU(inplace=True)\n",
              "      (conv2): Conv2d(512, 512, kernel_size=(3, 3), stride=(1, 1), padding=(1, 1), bias=False)\n",
              "      (bn2): BatchNorm2d(512, eps=1e-05, momentum=0.1, affine=True, track_running_stats=True)\n",
              "    )\n",
              "    (2): BasicBlock(\n",
              "      (conv1): Conv2d(512, 512, kernel_size=(3, 3), stride=(1, 1), padding=(1, 1), bias=False)\n",
              "      (bn1): BatchNorm2d(512, eps=1e-05, momentum=0.1, affine=True, track_running_stats=True)\n",
              "      (relu): ReLU(inplace=True)\n",
              "      (conv2): Conv2d(512, 512, kernel_size=(3, 3), stride=(1, 1), padding=(1, 1), bias=False)\n",
              "      (bn2): BatchNorm2d(512, eps=1e-05, momentum=0.1, affine=True, track_running_stats=True)\n",
              "    )\n",
              "  )\n",
              "  (avgpool): AvgPool2d(kernel_size=7, stride=1, padding=0)\n",
              "  (fc): Linear(in_features=512, out_features=10, bias=True)\n",
              ")"
            ]
          },
          "metadata": {},
          "execution_count": 5
        }
      ]
    },
    {
      "cell_type": "code",
      "source": [],
      "metadata": {
        "id": "eSwhgN7S0ZhD"
      },
      "execution_count": null,
      "outputs": []
    },
    {
      "cell_type": "markdown",
      "source": [
        "## Model Accuracy"
      ],
      "metadata": {
        "id": "F4_GBEFj0i0n"
      }
    },
    {
      "cell_type": "code",
      "source": [
        "#### Import data from Keras\n",
        "import tensorflow.keras as keras\n",
        "# from dataset_byzantine import Dataset\n",
        "\n",
        "ds = Dataset(model, DATA)"
      ],
      "metadata": {
        "colab": {
          "base_uri": "https://localhost:8080/",
          "height": 485,
          "referenced_widgets": [
            "69b9f4509c014bacaffda724405a5e76",
            "c9dab9c986874e06ad7a004041b2805d",
            "2563ed0a4af14494b4d8c1c127c8692f",
            "3bb342ee6c5149b4b0fdb266432743d8",
            "7ff7eb65b60c4eaab0071560a49b0333",
            "23918487dfdc4f7e93cb83899e369350",
            "77ae8a7a9ad44261af7e94317e8ad56a",
            "031a4e13da394854887f9784a49dd5d2",
            "cd7acf19d1f84b328f01a66672f3ed36",
            "4cecbd9740b14131b0905e90e8071da2",
            "433e7e0f61414b72bb5a088d1f74349a",
            "d53d6a7cf31b4e8ea62b85d52b7e6d4a",
            "17ec921963ad407eaf8c0e610bb8075a",
            "28db64574a2c474ca5e4cf05cd74e165",
            "b648a21f713b4b238a9144fccd4d87ae",
            "e5bd604bbf5c4ceaa5ec7599dbb8eab0",
            "cab33ceca3ec4f248f9e8773cb354f27",
            "aeff2686145c498ab00730552dfd0ebd",
            "12eb20c4413d445e88a5848586596ce4",
            "f0cd1dbd223b45b38434fe00fbc35196",
            "3d6a706e1c514dee81cd50dc351f8ef9",
            "4bedd1a75014478fa883a628f7a0a2d5",
            "669ce329b7cd47b5a5052bf93a4a5e34",
            "7947dd542bcb47d8af526a21f677bf82",
            "54c1dae606b14d3f88aea3aa7a06b5a7",
            "9fa3faddafbe4d91bdf0ca338d3a5645",
            "14506633baaf411092d778795cbda544",
            "17015184ba3f468fa3c8abc17af071ff",
            "09fbc77788ed473daaf8c2fd99b2b1e6",
            "834a890fe8ad492d8175dc813d5b1bdc",
            "509b70fd91cb4ed0af611b099fd3cc3c",
            "d1e1873946234eefbd0587f0d547754d",
            "c3f871f63d4e41189c7a7c738a9452d9",
            "34de78e4c76c4da0aa23a5faf31c0814",
            "32146f50f7084fa38374df16fb1c293e",
            "28df2ded22bc4d43af9c80656ea1943c",
            "be851154d9a545069c30a042ea87b3c2",
            "560bcd2d0b874a31b3c0fe2d7bb6eb55",
            "7a214e8680614793b6ef17f30dbaaedb",
            "0c14ec46682f4a13bf5647fdb6c9410c",
            "59458fd97c9b4a8daaa9e41fb14c6459",
            "25d5447694a54facb50fdd4e4f6751bb",
            "1d3aa47ab1fb4e05a7887938053d7860",
            "01192d7895a0454297da3c98c0a2a922"
          ]
        },
        "id": "aox-fn5p0jFe",
        "outputId": "2fc72fbc-dc32-4fef-a32e-e50f90466a23"
      },
      "execution_count": null,
      "outputs": [
        {
          "output_type": "stream",
          "name": "stdout",
          "text": [
            "Downloading http://yann.lecun.com/exdb/mnist/train-images-idx3-ubyte.gz\n",
            "Downloading http://yann.lecun.com/exdb/mnist/train-images-idx3-ubyte.gz to data/MNIST/raw/train-images-idx3-ubyte.gz\n"
          ]
        },
        {
          "output_type": "display_data",
          "data": {
            "text/plain": [
              "  0%|          | 0/9912422 [00:00<?, ?it/s]"
            ],
            "application/vnd.jupyter.widget-view+json": {
              "version_major": 2,
              "version_minor": 0,
              "model_id": "69b9f4509c014bacaffda724405a5e76"
            }
          },
          "metadata": {}
        },
        {
          "output_type": "stream",
          "name": "stdout",
          "text": [
            "Extracting data/MNIST/raw/train-images-idx3-ubyte.gz to data/MNIST/raw\n",
            "\n",
            "Downloading http://yann.lecun.com/exdb/mnist/train-labels-idx1-ubyte.gz\n",
            "Downloading http://yann.lecun.com/exdb/mnist/train-labels-idx1-ubyte.gz to data/MNIST/raw/train-labels-idx1-ubyte.gz\n"
          ]
        },
        {
          "output_type": "display_data",
          "data": {
            "text/plain": [
              "  0%|          | 0/28881 [00:00<?, ?it/s]"
            ],
            "application/vnd.jupyter.widget-view+json": {
              "version_major": 2,
              "version_minor": 0,
              "model_id": "d53d6a7cf31b4e8ea62b85d52b7e6d4a"
            }
          },
          "metadata": {}
        },
        {
          "output_type": "stream",
          "name": "stdout",
          "text": [
            "Extracting data/MNIST/raw/train-labels-idx1-ubyte.gz to data/MNIST/raw\n",
            "\n",
            "Downloading http://yann.lecun.com/exdb/mnist/t10k-images-idx3-ubyte.gz\n",
            "Downloading http://yann.lecun.com/exdb/mnist/t10k-images-idx3-ubyte.gz to data/MNIST/raw/t10k-images-idx3-ubyte.gz\n"
          ]
        },
        {
          "output_type": "display_data",
          "data": {
            "text/plain": [
              "  0%|          | 0/1648877 [00:00<?, ?it/s]"
            ],
            "application/vnd.jupyter.widget-view+json": {
              "version_major": 2,
              "version_minor": 0,
              "model_id": "669ce329b7cd47b5a5052bf93a4a5e34"
            }
          },
          "metadata": {}
        },
        {
          "output_type": "stream",
          "name": "stdout",
          "text": [
            "Extracting data/MNIST/raw/t10k-images-idx3-ubyte.gz to data/MNIST/raw\n",
            "\n",
            "Downloading http://yann.lecun.com/exdb/mnist/t10k-labels-idx1-ubyte.gz\n",
            "Downloading http://yann.lecun.com/exdb/mnist/t10k-labels-idx1-ubyte.gz to data/MNIST/raw/t10k-labels-idx1-ubyte.gz\n"
          ]
        },
        {
          "output_type": "display_data",
          "data": {
            "text/plain": [
              "  0%|          | 0/4542 [00:00<?, ?it/s]"
            ],
            "application/vnd.jupyter.widget-view+json": {
              "version_major": 2,
              "version_minor": 0,
              "model_id": "34de78e4c76c4da0aa23a5faf31c0814"
            }
          },
          "metadata": {}
        },
        {
          "output_type": "stream",
          "name": "stdout",
          "text": [
            "Extracting data/MNIST/raw/t10k-labels-idx1-ubyte.gz to data/MNIST/raw\n",
            "\n",
            "Downloading data from https://storage.googleapis.com/tensorflow/tf-keras-datasets/mnist.npz\n",
            "11490434/11490434 [==============================] - 0s 0us/step\n",
            "current version: 27-7\n",
            "training set size = 60000, test set size = 10000\n"
          ]
        }
      ]
    },
    {
      "cell_type": "code",
      "source": [
        "print(\"Accuracy of the network on test images:\", \n",
        "      ds.accuracy_pytorch())"
      ],
      "metadata": {
        "colab": {
          "base_uri": "https://localhost:8080/"
        },
        "id": "yBgT7bA40lFQ",
        "outputId": "546c83d3-a573-433f-92b2-9228d043ea57"
      },
      "execution_count": null,
      "outputs": [
        {
          "output_type": "stream",
          "name": "stdout",
          "text": [
            "accuracy_pytorch function completed. \n",
            "Time: 126.306651 seconds\n",
            "Accuracy of the network on test images: 0.993\n"
          ]
        }
      ]
    },
    {
      "cell_type": "code",
      "source": [
        "print(f\"Model accuracy:\", ds.accuracy())"
      ],
      "metadata": {
        "id": "nk7gJSTv06p_",
        "colab": {
          "base_uri": "https://localhost:8080/"
        },
        "outputId": "057f2db5-0805-4481-f9b3-89e4d83fd248"
      },
      "execution_count": null,
      "outputs": [
        {
          "output_type": "stream",
          "name": "stdout",
          "text": [
            "accuracy function completed. \n",
            "Time: 0.000007 seconds\n",
            "Model accuracy: 0.9307\n"
          ]
        }
      ]
    },
    {
      "cell_type": "markdown",
      "source": [
        "## Basic test\n"
      ],
      "metadata": {
        "id": "yzMgV354zOxO"
      }
    },
    {
      "cell_type": "code",
      "source": [
        "ds.MODEL"
      ],
      "metadata": {
        "colab": {
          "base_uri": "https://localhost:8080/",
          "height": 164
        },
        "id": "vAgKcQQ4TawX",
        "outputId": "9efda82b-1486-4a39-bcbe-4e330755cb50"
      },
      "execution_count": null,
      "outputs": [
        {
          "output_type": "error",
          "ename": "AttributeError",
          "evalue": "ignored",
          "traceback": [
            "\u001b[0;31m---------------------------------------------------------------------------\u001b[0m",
            "\u001b[0;31mAttributeError\u001b[0m                            Traceback (most recent call last)",
            "\u001b[0;32m<ipython-input-38-0eb5ee44cea4>\u001b[0m in \u001b[0;36m<module>\u001b[0;34m\u001b[0m\n\u001b[0;32m----> 1\u001b[0;31m \u001b[0mds\u001b[0m\u001b[0;34m.\u001b[0m\u001b[0mMODEL\u001b[0m\u001b[0;34m\u001b[0m\u001b[0;34m\u001b[0m\u001b[0m\n\u001b[0m",
            "\u001b[0;31mAttributeError\u001b[0m: 'Dataset' object has no attribute 'MODEL'"
          ]
        }
      ]
    },
    {
      "cell_type": "code",
      "source": [
        "ds.plot_K(S=1)"
      ],
      "metadata": {
        "id": "O73dZRXQ068f",
        "colab": {
          "base_uri": "https://localhost:8080/",
          "height": 414
        },
        "outputId": "749d2ad6-e05d-41b1-db32-8ce8286ef5f3"
      },
      "execution_count": null,
      "outputs": [
        {
          "output_type": "stream",
          "name": "stdout",
          "text": [
            "number of iterations =  10\n",
            "K = 8\n",
            "num of iterations = 10, noise sigma = 0.0\n",
            "Prediction time for batch size 8: 1.071485 seconds\n",
            "100% completed\n",
            "Time: 9.566941 seconds\n",
            "Path is  /content/drive/MyDrive/ColabNotebooks_Nov22//ResNet-34/CIFAR-10/S_only/1/\n"
          ]
        },
        {
          "output_type": "display_data",
          "data": {
            "text/plain": [
              "<Figure size 432x288 with 1 Axes>"
            ],
            "image/png": "[encoded data removed]"
          },
          "metadata": {
            "needs_background": "light"
          }
        }
      ]
    },
    {
      "cell_type": "code",
      "source": [
        "ds.plot_E(S=0, K = 8, E_list=[1], noise_sigma= 1.0)"
      ],
      "metadata": {
        "colab": {
          "base_uri": "https://localhost:8080/",
          "height": 447
        },
        "id": "2BfhnW2U5Zvw",
        "outputId": "67129b88-a32a-466f-f95e-e177e43abde5"
      },
      "execution_count": null,
      "outputs": [
        {
          "output_type": "stream",
          "name": "stdout",
          "text": [
            "number of iterations =  10\n",
            "K = 8, E = 1\n",
            "num of iterations = 10, noise sigma = 1.0\n",
            "Prediction time for batch size 8: 1.470860 seconds\n",
            "100% completed\n",
            "Time: 14.469745 seconds\n",
            "Path is  /content/drive/MyDrive/ColabNotebooks_Nov22//ResNet-34/CIFAR-10/E_only/sigma_1/K_8/\n"
          ]
        },
        {
          "output_type": "display_data",
          "data": {
            "text/plain": [
              "<Figure size 432x288 with 1 Axes>"
            ],
            "image/png": "[encoded data removed]"
          },
          "metadata": {
            "needs_background": "light"
          }
        }
      ]
    },
    {
      "cell_type": "markdown",
      "source": [
        "## K =12, S = 0, E = [1,2,3] "
      ],
      "metadata": {
        "id": "FvTyiFzGzT4k"
      }
    },
    {
      "cell_type": "code",
      "source": [
        "for sigma in [1.0, 10.0, 100.0]:\n",
        "    ds.plot_E(S=0, K = 12, E_list=[1,2,3], noise_sigma= sigma)\n",
        "    \n",
        "\n",
        "# ds.plot_E(S=0, K = 12, E_list=[1,2,3], noise_sigma= 1.0)\n",
        "# ds.plot_E(S=0, K = 12, E_list=[1,2,3], noise_sigma= 10.0)\n",
        "# ds.plot_E(S=0, K = 12, E_list=[1,2,3], noise_sigma= 100.0)"
      ],
      "metadata": {
        "colab": {
          "base_uri": "https://localhost:8080/",
          "height": 1000
        },
        "id": "nGhLSMQqyO8q",
        "outputId": "5c8414fa-ed3d-410a-8998-3e36cb4afde3"
      },
      "execution_count": null,
      "outputs": [
        {
          "metadata": {
            "tags": null
          },
          "name": "stdout",
          "output_type": "stream",
          "text": [
            "number of iterations =  300\n",
            "K = 12, E = 1\n",
            "num of iterations = 300, noise sigma = 1.0\n",
            "Prediction time for batch size 12: 1.018111 seconds\n",
            "100% completed\n",
            "Time: 238.959192 seconds\n",
            "K = 12, E = 2\n",
            "num of iterations = 300, noise sigma = 1.0\n",
            "Prediction time for batch size 12: 0.835684 seconds\n",
            "100% completed\n",
            "Time: 249.268530 seconds\n",
            "K = 12, E = 3\n",
            "num of iterations = 300, noise sigma = 1.0\n",
            "Prediction time for batch size 12: 0.847617 seconds\n",
            "100% completed\n",
            "Time: 258.945644 seconds\n",
            "Path is  /content/drive/MyDrive/ColabNotebooks_Nov22//ResNet-34/MNIST/E_only/sigma_1/K_12/\n"
          ]
        },
        {
          "data": {
            "image/png": "[encoded data removed]",
            "text/plain": [
              "<Figure size 432x288 with 1 Axes>"
            ]
          },
          "metadata": {},
          "output_type": "display_data"
        },
        {
          "metadata": {
            "tags": null
          },
          "name": "stdout",
          "output_type": "stream",
          "text": [
            "number of iterations =  300\n",
            "K = 12, E = 1\n",
            "num of iterations = 300, noise sigma = 10.0\n",
            "Prediction time for batch size 12: 0.868974 seconds\n",
            "100% completed\n",
            "Time: 236.116554 seconds\n",
            "K = 12, E = 2\n",
            "num of iterations = 300, noise sigma = 10.0\n",
            "Prediction time for batch size 12: 0.807873 seconds\n",
            "100% completed\n",
            "Time: 242.920051 seconds\n",
            "K = 12, E = 3\n",
            "num of iterations = 300, noise sigma = 10.0\n",
            "Prediction time for batch size 12: 0.851835 seconds\n",
            "100% completed\n",
            "Time: 254.532749 seconds\n",
            "Path is  /content/drive/MyDrive/ColabNotebooks_Nov22//ResNet-34/MNIST/E_only/sigma_10/K_12/\n"
          ]
        },
        {
          "data": {
            "image/png": "[encoded data removed]",
            "text/plain": [
              "<Figure size 432x288 with 1 Axes>"
            ]
          },
          "metadata": {},
          "output_type": "display_data"
        },
        {
          "output_type": "stream",
          "name": "stdout",
          "text": [
            "number of iterations =  300\n",
            "K = 12, E = 1\n",
            "num of iterations = 300, noise sigma = 100.0\n",
            "Prediction time for batch size 12: 0.759798 seconds\n",
            "100% completed\n",
            "Time: 230.743987 seconds\n",
            "K = 12, E = 2\n",
            "num of iterations = 300, noise sigma = 100.0\n",
            "Prediction time for batch size 12: 0.804092 seconds\n",
            "69% completed... "
          ]
        }
      ]
    },
    {
      "cell_type": "code",
      "source": [
        "ds.plot_E(S=0, K = 12, E_list=[1,2,3], noise_sigma= 1.0)"
      ],
      "metadata": {
        "id": "yNJ-3o-9AVs9",
        "colab": {
          "base_uri": "https://localhost:8080/",
          "height": 617
        },
        "outputId": "e1e0f354-70ab-4454-a920-d0d526ebdcfd"
      },
      "execution_count": null,
      "outputs": [
        {
          "output_type": "stream",
          "name": "stdout",
          "text": [
            "number of iterations =  300\n",
            "K = 12, E = 1\n",
            "num of iterations = 300, noise sigma = 1.0\n",
            "Prediction time for batch size 12: 0.838936 seconds\n",
            "100% completed\n",
            "Time: 246.316990 seconds\n",
            "K = 12, E = 2\n",
            "num of iterations = 300, noise sigma = 1.0\n",
            "Prediction time for batch size 12: 0.862457 seconds\n",
            "100% completed\n",
            "Time: 259.851220 seconds\n",
            "K = 12, E = 3\n",
            "num of iterations = 300, noise sigma = 1.0\n",
            "Prediction time for batch size 12: 0.874289 seconds\n",
            "100% completed\n",
            "Time: 268.118718 seconds\n",
            "Path is  /content/drive/MyDrive/ColabNotebooks_Nov22//ResNet-34/MNIST/E_only/sigma_1/K_12/\n"
          ]
        },
        {
          "output_type": "display_data",
          "data": {
            "text/plain": [
              "<Figure size 432x288 with 1 Axes>"
            ],
            "image/png": "[encoded data removed]"
          },
          "metadata": {
            "needs_background": "light"
          }
        }
      ]
    },
    {
      "cell_type": "code",
      "source": [
        "ds.plot_E(S=0, K = 12, E_list=[1,2,3], noise_sigma= 10.0)"
      ],
      "metadata": {
        "id": "tQ7UU_FLyyQH",
        "colab": {
          "base_uri": "https://localhost:8080/",
          "height": 392
        },
        "outputId": "ece12f1a-c268-4215-ea97-ee2311b406d3"
      },
      "execution_count": null,
      "outputs": [
        {
          "output_type": "stream",
          "name": "stdout",
          "text": [
            "number of iterations =  300\n",
            "K = 12, E = 1\n",
            "num of iterations = 300, noise sigma = 10.0\n",
            "Prediction time for batch size 12: 0.865195 seconds\n",
            "5% completed... "
          ]
        },
        {
          "output_type": "error",
          "ename": "KeyboardInterrupt",
          "evalue": "ignored",
          "traceback": [
            "\u001b[0;31m---------------------------------------------------------------------------\u001b[0m",
            "\u001b[0;31mKeyboardInterrupt\u001b[0m                         Traceback (most recent call last)",
            "\u001b[0;32m<ipython-input-8-aad24e368cff>\u001b[0m in \u001b[0;36m<module>\u001b[0;34m\u001b[0m\n\u001b[0;32m----> 1\u001b[0;31m \u001b[0mds\u001b[0m\u001b[0;34m.\u001b[0m\u001b[0mplot_E\u001b[0m\u001b[0;34m(\u001b[0m\u001b[0mS\u001b[0m\u001b[0;34m=\u001b[0m\u001b[0;36m0\u001b[0m\u001b[0;34m,\u001b[0m \u001b[0mK\u001b[0m \u001b[0;34m=\u001b[0m \u001b[0;36m12\u001b[0m\u001b[0;34m,\u001b[0m \u001b[0mE_list\u001b[0m\u001b[0;34m=\u001b[0m\u001b[0;34m[\u001b[0m\u001b[0;36m1\u001b[0m\u001b[0;34m,\u001b[0m\u001b[0;36m2\u001b[0m\u001b[0;34m,\u001b[0m\u001b[0;36m3\u001b[0m\u001b[0;34m]\u001b[0m\u001b[0;34m,\u001b[0m \u001b[0mnoise_sigma\u001b[0m\u001b[0;34m=\u001b[0m \u001b[0;36m10.0\u001b[0m\u001b[0;34m)\u001b[0m\u001b[0;34m\u001b[0m\u001b[0;34m\u001b[0m\u001b[0m\n\u001b[0m",
            "\u001b[0;32m<ipython-input-1-872eb48f7fc5>\u001b[0m in \u001b[0;36mplot_E\u001b[0;34m(self, S, K, E_list, noise_sigma)\u001b[0m\n\u001b[1;32m    379\u001b[0m                 \u001b[0mprint\u001b[0m\u001b[0;34m(\u001b[0m\u001b[0;34mf\"K = {K}, E = {e_max}\"\u001b[0m\u001b[0;34m)\u001b[0m\u001b[0;34m\u001b[0m\u001b[0;34m\u001b[0m\u001b[0m\n\u001b[1;32m    380\u001b[0m                 \u001b[0mberrut_acc\u001b[0m\u001b[0;34m[\u001b[0m\u001b[0mi\u001b[0m\u001b[0;34m]\u001b[0m\u001b[0;34m,\u001b[0m \u001b[0mcenter_acc\u001b[0m\u001b[0;34m[\u001b[0m\u001b[0mi\u001b[0m\u001b[0;34m]\u001b[0m \u001b[0;34m=\u001b[0m\u001b[0;31m \u001b[0m\u001b[0;31m\\\u001b[0m\u001b[0;34m\u001b[0m\u001b[0;34m\u001b[0m\u001b[0m\n\u001b[0;32m--> 381\u001b[0;31m                         \u001b[0mself\u001b[0m\u001b[0;34m.\u001b[0m\u001b[0maccuracy_comparison\u001b[0m\u001b[0;34m(\u001b[0m\u001b[0mK\u001b[0m\u001b[0;34m,\u001b[0m \u001b[0;36m2\u001b[0m\u001b[0;34m*\u001b[0m \u001b[0mK\u001b[0m \u001b[0;34m+\u001b[0m \u001b[0mS\u001b[0m \u001b[0;34m+\u001b[0m \u001b[0;36m2\u001b[0m\u001b[0;34m*\u001b[0m\u001b[0me_max\u001b[0m\u001b[0;34m,\u001b[0m \u001b[0mS\u001b[0m\u001b[0;34m,\u001b[0m \u001b[0miterations\u001b[0m\u001b[0;34m,\u001b[0m \u001b[0msigma\u001b[0m \u001b[0;34m=\u001b[0m \u001b[0mnoise_sigma\u001b[0m\u001b[0;34m)\u001b[0m\u001b[0;34m\u001b[0m\u001b[0;34m\u001b[0m\u001b[0m\n\u001b[0m\u001b[1;32m    382\u001b[0m         \u001b[0mpath\u001b[0m \u001b[0;34m=\u001b[0m \u001b[0;34mf\"{PATH}/{MODEL}/{to_string[self.data]}/E_only/sigma_{int(noise_sigma)}/K_{K}/\"\u001b[0m\u001b[0;34m\u001b[0m\u001b[0;34m\u001b[0m\u001b[0m\n\u001b[1;32m    383\u001b[0m         \u001b[0mprint\u001b[0m\u001b[0;34m(\u001b[0m\u001b[0;34m\"Path is \"\u001b[0m\u001b[0;34m,\u001b[0m \u001b[0mpath\u001b[0m\u001b[0;34m)\u001b[0m\u001b[0;34m\u001b[0m\u001b[0;34m\u001b[0m\u001b[0m\n",
            "\u001b[0;32m<ipython-input-1-872eb48f7fc5>\u001b[0m in \u001b[0;36maccuracy_comparison\u001b[0;34m(self, K, N, S, iterations, sigma)\u001b[0m\n\u001b[1;32m    271\u001b[0m             \u001b[0;31m# encoding test data\u001b[0m\u001b[0;34m\u001b[0m\u001b[0;34m\u001b[0m\u001b[0;34m\u001b[0m\u001b[0m\n\u001b[1;32m    272\u001b[0m             \u001b[0mcoded_test_sample_x\u001b[0m \u001b[0;34m=\u001b[0m \u001b[0mself\u001b[0m\u001b[0;34m.\u001b[0m\u001b[0mencoder\u001b[0m\u001b[0;34m(\u001b[0m\u001b[0mtest_sample_x\u001b[0m\u001b[0;34m,\u001b[0m \u001b[0mN\u001b[0m\u001b[0;34m)\u001b[0m\u001b[0;34m\u001b[0m\u001b[0;34m\u001b[0m\u001b[0m\n\u001b[0;32m--> 273\u001b[0;31m             \u001b[0moutputs\u001b[0m \u001b[0;34m=\u001b[0m \u001b[0mself\u001b[0m\u001b[0;34m.\u001b[0m\u001b[0moutputs\u001b[0m\u001b[0;34m(\u001b[0m\u001b[0mcoded_test_sample_x\u001b[0m\u001b[0;34m)\u001b[0m\u001b[0;34m\u001b[0m\u001b[0;34m\u001b[0m\u001b[0m\n\u001b[0m\u001b[1;32m    274\u001b[0m \u001b[0;34m\u001b[0m\u001b[0m\n\u001b[1;32m    275\u001b[0m             \u001b[0;31m# Determining stragglers' indices\u001b[0m\u001b[0;34m\u001b[0m\u001b[0;34m\u001b[0m\u001b[0;34m\u001b[0m\u001b[0m\n",
            "\u001b[0;32m<ipython-input-1-872eb48f7fc5>\u001b[0m in \u001b[0;36moutputs\u001b[0;34m(self, Y)\u001b[0m\n\u001b[1;32m    226\u001b[0m                     CIFAR10 else torch_sample.unsqueeze(0))\n\u001b[1;32m    227\u001b[0m             \u001b[0mtorch_sample\u001b[0m \u001b[0;34m=\u001b[0m \u001b[0mtorch_sample\u001b[0m\u001b[0;34m.\u001b[0m\u001b[0munsqueeze\u001b[0m\u001b[0;34m(\u001b[0m\u001b[0;36m0\u001b[0m\u001b[0;34m)\u001b[0m\u001b[0;34m\u001b[0m\u001b[0;34m\u001b[0m\u001b[0m\n\u001b[0;32m--> 228\u001b[0;31m             \u001b[0moutput\u001b[0m \u001b[0;34m=\u001b[0m \u001b[0mself\u001b[0m\u001b[0;34m.\u001b[0m\u001b[0mmodel\u001b[0m\u001b[0;34m(\u001b[0m\u001b[0mtorch_sample\u001b[0m\u001b[0;34m)\u001b[0m\u001b[0;34m\u001b[0m\u001b[0;34m\u001b[0m\u001b[0m\n\u001b[0m\u001b[1;32m    229\u001b[0m             outputs[i,] = ((output[0] if isinstance(output, tuple) else\n\u001b[1;32m    230\u001b[0m                 output).detach().numpy()[0])\n",
            "\u001b[0;32m/usr/local/lib/python3.7/dist-packages/torch/nn/modules/module.py\u001b[0m in \u001b[0;36m_call_impl\u001b[0;34m(self, *input, **kwargs)\u001b[0m\n\u001b[1;32m   1128\u001b[0m         if not (self._backward_hooks or self._forward_hooks or self._forward_pre_hooks or _global_backward_hooks\n\u001b[1;32m   1129\u001b[0m                 or _global_forward_hooks or _global_forward_pre_hooks):\n\u001b[0;32m-> 1130\u001b[0;31m             \u001b[0;32mreturn\u001b[0m \u001b[0mforward_call\u001b[0m\u001b[0;34m(\u001b[0m\u001b[0;34m*\u001b[0m\u001b[0minput\u001b[0m\u001b[0;34m,\u001b[0m \u001b[0;34m**\u001b[0m\u001b[0mkwargs\u001b[0m\u001b[0;34m)\u001b[0m\u001b[0;34m\u001b[0m\u001b[0;34m\u001b[0m\u001b[0m\n\u001b[0m\u001b[1;32m   1131\u001b[0m         \u001b[0;31m# Do not call functions when jit is used\u001b[0m\u001b[0;34m\u001b[0m\u001b[0;34m\u001b[0m\u001b[0;34m\u001b[0m\u001b[0m\n\u001b[1;32m   1132\u001b[0m         \u001b[0mfull_backward_hooks\u001b[0m\u001b[0;34m,\u001b[0m \u001b[0mnon_full_backward_hooks\u001b[0m \u001b[0;34m=\u001b[0m \u001b[0;34m[\u001b[0m\u001b[0;34m]\u001b[0m\u001b[0;34m,\u001b[0m \u001b[0;34m[\u001b[0m\u001b[0;34m]\u001b[0m\u001b[0;34m\u001b[0m\u001b[0;34m\u001b[0m\u001b[0m\n",
            "\u001b[0;32m/content/drive/MyDrive/ColabNotebooks_Nov22/resnet34.py\u001b[0m in \u001b[0;36mforward\u001b[0;34m(self, x)\u001b[0m\n\u001b[1;32m     99\u001b[0m         \u001b[0mx\u001b[0m \u001b[0;34m=\u001b[0m \u001b[0mself\u001b[0m\u001b[0;34m.\u001b[0m\u001b[0mlayer1\u001b[0m\u001b[0;34m(\u001b[0m\u001b[0mx\u001b[0m\u001b[0;34m)\u001b[0m\u001b[0;34m\u001b[0m\u001b[0;34m\u001b[0m\u001b[0m\n\u001b[1;32m    100\u001b[0m         \u001b[0mx\u001b[0m \u001b[0;34m=\u001b[0m \u001b[0mself\u001b[0m\u001b[0;34m.\u001b[0m\u001b[0mlayer2\u001b[0m\u001b[0;34m(\u001b[0m\u001b[0mx\u001b[0m\u001b[0;34m)\u001b[0m\u001b[0;34m\u001b[0m\u001b[0;34m\u001b[0m\u001b[0m\n\u001b[0;32m--> 101\u001b[0;31m         \u001b[0mx\u001b[0m \u001b[0;34m=\u001b[0m \u001b[0mself\u001b[0m\u001b[0;34m.\u001b[0m\u001b[0mlayer3\u001b[0m\u001b[0;34m(\u001b[0m\u001b[0mx\u001b[0m\u001b[0;34m)\u001b[0m\u001b[0;34m\u001b[0m\u001b[0;34m\u001b[0m\u001b[0m\n\u001b[0m\u001b[1;32m    102\u001b[0m         \u001b[0mx\u001b[0m \u001b[0;34m=\u001b[0m \u001b[0mself\u001b[0m\u001b[0;34m.\u001b[0m\u001b[0mlayer4\u001b[0m\u001b[0;34m(\u001b[0m\u001b[0mx\u001b[0m\u001b[0;34m)\u001b[0m\u001b[0;34m\u001b[0m\u001b[0;34m\u001b[0m\u001b[0m\n\u001b[1;32m    103\u001b[0m         \u001b[0;31m# because MNIST is already 1x1 here:\u001b[0m\u001b[0;34m\u001b[0m\u001b[0;34m\u001b[0m\u001b[0;34m\u001b[0m\u001b[0m\n",
            "\u001b[0;32m/usr/local/lib/python3.7/dist-packages/torch/nn/modules/module.py\u001b[0m in \u001b[0;36m_call_impl\u001b[0;34m(self, *input, **kwargs)\u001b[0m\n\u001b[1;32m   1128\u001b[0m         if not (self._backward_hooks or self._forward_hooks or self._forward_pre_hooks or _global_backward_hooks\n\u001b[1;32m   1129\u001b[0m                 or _global_forward_hooks or _global_forward_pre_hooks):\n\u001b[0;32m-> 1130\u001b[0;31m             \u001b[0;32mreturn\u001b[0m \u001b[0mforward_call\u001b[0m\u001b[0;34m(\u001b[0m\u001b[0;34m*\u001b[0m\u001b[0minput\u001b[0m\u001b[0;34m,\u001b[0m \u001b[0;34m**\u001b[0m\u001b[0mkwargs\u001b[0m\u001b[0;34m)\u001b[0m\u001b[0;34m\u001b[0m\u001b[0;34m\u001b[0m\u001b[0m\n\u001b[0m\u001b[1;32m   1131\u001b[0m         \u001b[0;31m# Do not call functions when jit is used\u001b[0m\u001b[0;34m\u001b[0m\u001b[0;34m\u001b[0m\u001b[0;34m\u001b[0m\u001b[0m\n\u001b[1;32m   1132\u001b[0m         \u001b[0mfull_backward_hooks\u001b[0m\u001b[0;34m,\u001b[0m \u001b[0mnon_full_backward_hooks\u001b[0m \u001b[0;34m=\u001b[0m \u001b[0;34m[\u001b[0m\u001b[0;34m]\u001b[0m\u001b[0;34m,\u001b[0m \u001b[0;34m[\u001b[0m\u001b[0;34m]\u001b[0m\u001b[0;34m\u001b[0m\u001b[0;34m\u001b[0m\u001b[0m\n",
            "\u001b[0;32m/usr/local/lib/python3.7/dist-packages/torch/nn/modules/container.py\u001b[0m in \u001b[0;36mforward\u001b[0;34m(self, input)\u001b[0m\n\u001b[1;32m    137\u001b[0m     \u001b[0;32mdef\u001b[0m \u001b[0mforward\u001b[0m\u001b[0;34m(\u001b[0m\u001b[0mself\u001b[0m\u001b[0;34m,\u001b[0m \u001b[0minput\u001b[0m\u001b[0;34m)\u001b[0m\u001b[0;34m:\u001b[0m\u001b[0;34m\u001b[0m\u001b[0;34m\u001b[0m\u001b[0m\n\u001b[1;32m    138\u001b[0m         \u001b[0;32mfor\u001b[0m \u001b[0mmodule\u001b[0m \u001b[0;32min\u001b[0m \u001b[0mself\u001b[0m\u001b[0;34m:\u001b[0m\u001b[0;34m\u001b[0m\u001b[0;34m\u001b[0m\u001b[0m\n\u001b[0;32m--> 139\u001b[0;31m             \u001b[0minput\u001b[0m \u001b[0;34m=\u001b[0m \u001b[0mmodule\u001b[0m\u001b[0;34m(\u001b[0m\u001b[0minput\u001b[0m\u001b[0;34m)\u001b[0m\u001b[0;34m\u001b[0m\u001b[0;34m\u001b[0m\u001b[0m\n\u001b[0m\u001b[1;32m    140\u001b[0m         \u001b[0;32mreturn\u001b[0m \u001b[0minput\u001b[0m\u001b[0;34m\u001b[0m\u001b[0;34m\u001b[0m\u001b[0m\n\u001b[1;32m    141\u001b[0m \u001b[0;34m\u001b[0m\u001b[0m\n",
            "\u001b[0;32m/usr/local/lib/python3.7/dist-packages/torch/nn/modules/module.py\u001b[0m in \u001b[0;36m_call_impl\u001b[0;34m(self, *input, **kwargs)\u001b[0m\n\u001b[1;32m   1128\u001b[0m         if not (self._backward_hooks or self._forward_hooks or self._forward_pre_hooks or _global_backward_hooks\n\u001b[1;32m   1129\u001b[0m                 or _global_forward_hooks or _global_forward_pre_hooks):\n\u001b[0;32m-> 1130\u001b[0;31m             \u001b[0;32mreturn\u001b[0m \u001b[0mforward_call\u001b[0m\u001b[0;34m(\u001b[0m\u001b[0;34m*\u001b[0m\u001b[0minput\u001b[0m\u001b[0;34m,\u001b[0m \u001b[0;34m**\u001b[0m\u001b[0mkwargs\u001b[0m\u001b[0;34m)\u001b[0m\u001b[0;34m\u001b[0m\u001b[0;34m\u001b[0m\u001b[0m\n\u001b[0m\u001b[1;32m   1131\u001b[0m         \u001b[0;31m# Do not call functions when jit is used\u001b[0m\u001b[0;34m\u001b[0m\u001b[0;34m\u001b[0m\u001b[0;34m\u001b[0m\u001b[0m\n\u001b[1;32m   1132\u001b[0m         \u001b[0mfull_backward_hooks\u001b[0m\u001b[0;34m,\u001b[0m \u001b[0mnon_full_backward_hooks\u001b[0m \u001b[0;34m=\u001b[0m \u001b[0;34m[\u001b[0m\u001b[0;34m]\u001b[0m\u001b[0;34m,\u001b[0m \u001b[0;34m[\u001b[0m\u001b[0;34m]\u001b[0m\u001b[0;34m\u001b[0m\u001b[0;34m\u001b[0m\u001b[0m\n",
            "\u001b[0;32m/content/drive/MyDrive/ColabNotebooks_Nov22/resnet34.py\u001b[0m in \u001b[0;36mforward\u001b[0;34m(self, x)\u001b[0m\n\u001b[1;32m     34\u001b[0m         \u001b[0mout\u001b[0m \u001b[0;34m=\u001b[0m \u001b[0mself\u001b[0m\u001b[0;34m.\u001b[0m\u001b[0mrelu\u001b[0m\u001b[0;34m(\u001b[0m\u001b[0mout\u001b[0m\u001b[0;34m)\u001b[0m\u001b[0;34m\u001b[0m\u001b[0;34m\u001b[0m\u001b[0m\n\u001b[1;32m     35\u001b[0m \u001b[0;34m\u001b[0m\u001b[0m\n\u001b[0;32m---> 36\u001b[0;31m         \u001b[0mout\u001b[0m \u001b[0;34m=\u001b[0m \u001b[0mself\u001b[0m\u001b[0;34m.\u001b[0m\u001b[0mconv2\u001b[0m\u001b[0;34m(\u001b[0m\u001b[0mout\u001b[0m\u001b[0;34m)\u001b[0m\u001b[0;34m\u001b[0m\u001b[0;34m\u001b[0m\u001b[0m\n\u001b[0m\u001b[1;32m     37\u001b[0m         \u001b[0mout\u001b[0m \u001b[0;34m=\u001b[0m \u001b[0mself\u001b[0m\u001b[0;34m.\u001b[0m\u001b[0mbn2\u001b[0m\u001b[0;34m(\u001b[0m\u001b[0mout\u001b[0m\u001b[0;34m)\u001b[0m\u001b[0;34m\u001b[0m\u001b[0;34m\u001b[0m\u001b[0m\n\u001b[1;32m     38\u001b[0m \u001b[0;34m\u001b[0m\u001b[0m\n",
            "\u001b[0;32m/usr/local/lib/python3.7/dist-packages/torch/nn/modules/module.py\u001b[0m in \u001b[0;36m_call_impl\u001b[0;34m(self, *input, **kwargs)\u001b[0m\n\u001b[1;32m   1128\u001b[0m         if not (self._backward_hooks or self._forward_hooks or self._forward_pre_hooks or _global_backward_hooks\n\u001b[1;32m   1129\u001b[0m                 or _global_forward_hooks or _global_forward_pre_hooks):\n\u001b[0;32m-> 1130\u001b[0;31m             \u001b[0;32mreturn\u001b[0m \u001b[0mforward_call\u001b[0m\u001b[0;34m(\u001b[0m\u001b[0;34m*\u001b[0m\u001b[0minput\u001b[0m\u001b[0;34m,\u001b[0m \u001b[0;34m**\u001b[0m\u001b[0mkwargs\u001b[0m\u001b[0;34m)\u001b[0m\u001b[0;34m\u001b[0m\u001b[0;34m\u001b[0m\u001b[0m\n\u001b[0m\u001b[1;32m   1131\u001b[0m         \u001b[0;31m# Do not call functions when jit is used\u001b[0m\u001b[0;34m\u001b[0m\u001b[0;34m\u001b[0m\u001b[0;34m\u001b[0m\u001b[0m\n\u001b[1;32m   1132\u001b[0m         \u001b[0mfull_backward_hooks\u001b[0m\u001b[0;34m,\u001b[0m \u001b[0mnon_full_backward_hooks\u001b[0m \u001b[0;34m=\u001b[0m \u001b[0;34m[\u001b[0m\u001b[0;34m]\u001b[0m\u001b[0;34m,\u001b[0m \u001b[0;34m[\u001b[0m\u001b[0;34m]\u001b[0m\u001b[0;34m\u001b[0m\u001b[0;34m\u001b[0m\u001b[0m\n",
            "\u001b[0;32m/usr/local/lib/python3.7/dist-packages/torch/nn/modules/conv.py\u001b[0m in \u001b[0;36mforward\u001b[0;34m(self, input)\u001b[0m\n\u001b[1;32m    455\u001b[0m \u001b[0;34m\u001b[0m\u001b[0m\n\u001b[1;32m    456\u001b[0m     \u001b[0;32mdef\u001b[0m \u001b[0mforward\u001b[0m\u001b[0;34m(\u001b[0m\u001b[0mself\u001b[0m\u001b[0;34m,\u001b[0m \u001b[0minput\u001b[0m\u001b[0;34m:\u001b[0m \u001b[0mTensor\u001b[0m\u001b[0;34m)\u001b[0m \u001b[0;34m->\u001b[0m \u001b[0mTensor\u001b[0m\u001b[0;34m:\u001b[0m\u001b[0;34m\u001b[0m\u001b[0;34m\u001b[0m\u001b[0m\n\u001b[0;32m--> 457\u001b[0;31m         \u001b[0;32mreturn\u001b[0m \u001b[0mself\u001b[0m\u001b[0;34m.\u001b[0m\u001b[0m_conv_forward\u001b[0m\u001b[0;34m(\u001b[0m\u001b[0minput\u001b[0m\u001b[0;34m,\u001b[0m \u001b[0mself\u001b[0m\u001b[0;34m.\u001b[0m\u001b[0mweight\u001b[0m\u001b[0;34m,\u001b[0m \u001b[0mself\u001b[0m\u001b[0;34m.\u001b[0m\u001b[0mbias\u001b[0m\u001b[0;34m)\u001b[0m\u001b[0;34m\u001b[0m\u001b[0;34m\u001b[0m\u001b[0m\n\u001b[0m\u001b[1;32m    458\u001b[0m \u001b[0;34m\u001b[0m\u001b[0m\n\u001b[1;32m    459\u001b[0m \u001b[0;32mclass\u001b[0m \u001b[0mConv3d\u001b[0m\u001b[0;34m(\u001b[0m\u001b[0m_ConvNd\u001b[0m\u001b[0;34m)\u001b[0m\u001b[0;34m:\u001b[0m\u001b[0;34m\u001b[0m\u001b[0;34m\u001b[0m\u001b[0m\n",
            "\u001b[0;32m/usr/local/lib/python3.7/dist-packages/torch/nn/modules/conv.py\u001b[0m in \u001b[0;36m_conv_forward\u001b[0;34m(self, input, weight, bias)\u001b[0m\n\u001b[1;32m    452\u001b[0m                             _pair(0), self.dilation, self.groups)\n\u001b[1;32m    453\u001b[0m         return F.conv2d(input, weight, bias, self.stride,\n\u001b[0;32m--> 454\u001b[0;31m                         self.padding, self.dilation, self.groups)\n\u001b[0m\u001b[1;32m    455\u001b[0m \u001b[0;34m\u001b[0m\u001b[0m\n\u001b[1;32m    456\u001b[0m     \u001b[0;32mdef\u001b[0m \u001b[0mforward\u001b[0m\u001b[0;34m(\u001b[0m\u001b[0mself\u001b[0m\u001b[0;34m,\u001b[0m \u001b[0minput\u001b[0m\u001b[0;34m:\u001b[0m \u001b[0mTensor\u001b[0m\u001b[0;34m)\u001b[0m \u001b[0;34m->\u001b[0m \u001b[0mTensor\u001b[0m\u001b[0;34m:\u001b[0m\u001b[0;34m\u001b[0m\u001b[0;34m\u001b[0m\u001b[0m\n",
            "\u001b[0;31mKeyboardInterrupt\u001b[0m: "
          ]
        }
      ]
    },
    {
      "cell_type": "code",
      "source": [
        "ds.plot_E(S=0, K = 12, E_list=[1,2,3], noise_sigma= 100.0)"
      ],
      "metadata": {
        "id": "dI_cWBEpyyaK",
        "colab": {
          "base_uri": "https://localhost:8080/",
          "height": 617
        },
        "outputId": "ce5bbe92-5cbc-4b7b-ecbb-fc24abf6d7dc"
      },
      "execution_count": null,
      "outputs": [
        {
          "output_type": "stream",
          "name": "stdout",
          "text": [
            "number of iterations =  300\n",
            "K = 12, E = 1\n",
            "num of iterations = 300, noise sigma = 100.0\n",
            "Prediction time for batch size 12: 0.875757 seconds\n",
            "100% completed\n",
            "Time: 245.637477 seconds\n",
            "K = 12, E = 2\n",
            "num of iterations = 300, noise sigma = 100.0\n",
            "Prediction time for batch size 12: 0.828852 seconds\n",
            "100% completed\n",
            "Time: 256.624545 seconds\n",
            "K = 12, E = 3\n",
            "num of iterations = 300, noise sigma = 100.0\n",
            "Prediction time for batch size 12: 0.876940 seconds\n",
            "100% completed\n",
            "Time: 270.495631 seconds\n",
            "Path is  /content/drive/MyDrive/ColabNotebooks_Nov22//ResNet-34/MNIST/E_only/sigma_100/K_12/\n"
          ]
        },
        {
          "output_type": "display_data",
          "data": {
            "text/plain": [
              "<Figure size 432x288 with 1 Axes>"
            ],
            "image/png": "[encoded data removed]"
          },
          "metadata": {
            "needs_background": "light"
          }
        }
      ]
    },
    {
      "cell_type": "markdown",
      "source": [
        "## K =12, S = 0, E = 1, 2, 3 seperately, σ seperately"
      ],
      "metadata": {
        "id": "NJYk63mjzeN_"
      }
    },
    {
      "cell_type": "code",
      "source": [
        "ds.plot_K(S=0, K_list= 12, e_max=1, noise_sigma= 1.0)"
      ],
      "metadata": {
        "colab": {
          "base_uri": "https://localhost:8080/",
          "height": 397
        },
        "id": "ecx5rSmWdcM5",
        "outputId": "833ccd89-76be-4c2b-af84-3385858aff93"
      },
      "execution_count": null,
      "outputs": [
        {
          "output_type": "stream",
          "name": "stdout",
          "text": [
            "number of iterations =  100\n",
            "K = 12, E = 1\n",
            "num of iterations = 100, noise sigma = 1.0\n",
            "Prediction time for batch size 12: 0.624688 seconds\n",
            "100% completed\n",
            "Time: 62.339725 seconds\n"
          ]
        },
        {
          "output_type": "display_data",
          "data": {
            "text/plain": [
              "<Figure size 432x288 with 1 Axes>"
            ],
            "image/png": "[encoded data removed]"
          },
          "metadata": {
            "needs_background": "light"
          }
        }
      ]
    },
    {
      "cell_type": "code",
      "source": [
        "ds.plot_K(S=0, K_list= 12, e_max=2, noise_sigma= 1.0)"
      ],
      "metadata": {
        "colab": {
          "base_uri": "https://localhost:8080/",
          "height": 397
        },
        "id": "4wPRJi75fDcY",
        "outputId": "e5be8382-a1ec-42f4-af56-6eaf9c2bf547"
      },
      "execution_count": null,
      "outputs": [
        {
          "output_type": "stream",
          "name": "stdout",
          "text": [
            "number of iterations =  100\n",
            "K = 12, E = 2\n",
            "num of iterations = 100, noise sigma = 1.0\n",
            "Prediction time for batch size 12: 0.663466 seconds\n",
            "100% completed\n",
            "Time: 74.727300 seconds\n"
          ]
        },
        {
          "output_type": "display_data",
          "data": {
            "text/plain": [
              "<Figure size 432x288 with 1 Axes>"
            ],
            "image/png": "[encoded data removed]"
          },
          "metadata": {
            "needs_background": "light"
          }
        }
      ]
    },
    {
      "cell_type": "code",
      "source": [
        "ds.plot_K(S=0, K_list= 12, e_max=3, noise_sigma= 1.0)"
      ],
      "metadata": {
        "colab": {
          "base_uri": "https://localhost:8080/",
          "height": 397
        },
        "id": "t1qPlxGzfEgh",
        "outputId": "6b37df72-bc0b-49a1-a7ea-fb6c41c76c7e"
      },
      "execution_count": null,
      "outputs": [
        {
          "output_type": "stream",
          "name": "stdout",
          "text": [
            "number of iterations =  100\n",
            "K = 12, E = 3\n",
            "num of iterations = 100, noise sigma = 1.0\n",
            "Prediction time for batch size 12: 0.697027 seconds\n",
            "100% completed\n",
            "Time: 67.464064 seconds\n"
          ]
        },
        {
          "output_type": "display_data",
          "data": {
            "text/plain": [
              "<Figure size 432x288 with 1 Axes>"
            ],
            "image/png": "[encoded data removed]"
          },
          "metadata": {
            "needs_background": "light"
          }
        }
      ]
    },
    {
      "cell_type": "code",
      "source": [
        "ds.plot_K(S=0, K_list= 12, e_max=1, noise_sigma= 10.0)"
      ],
      "metadata": {
        "colab": {
          "base_uri": "https://localhost:8080/",
          "height": 380
        },
        "id": "rwMaqYKmedZb",
        "outputId": "f93ed679-0771-4bea-8d9c-c3995af8f48b"
      },
      "execution_count": null,
      "outputs": [
        {
          "output_type": "stream",
          "name": "stdout",
          "text": [
            "number of iterations =  100\n",
            "K = 12, E = 1\n",
            "Prediction time for batch size 12: 0.613797 seconds\n",
            "100% completed\n",
            "Time: 60.713815 seconds\n"
          ]
        },
        {
          "output_type": "display_data",
          "data": {
            "text/plain": [
              "<Figure size 432x288 with 1 Axes>"
            ],
            "image/png": "[encoded data removed]"
          },
          "metadata": {
            "needs_background": "light"
          }
        }
      ]
    },
    {
      "cell_type": "code",
      "source": [
        "ds.plot_K(S=0, K_list= 12, e_max=2, noise_sigma= 10.0)"
      ],
      "metadata": {
        "id": "ArxfzMmzedz6"
      },
      "execution_count": null,
      "outputs": []
    },
    {
      "cell_type": "code",
      "source": [
        "ds.plot_K(S=0, K_list= 12, e_max=3, noise_sigma= 10.0)"
      ],
      "metadata": {
        "id": "-yfchC8EeeEb"
      },
      "execution_count": null,
      "outputs": []
    },
    {
      "cell_type": "code",
      "source": [
        "ds.plot_K(S=0, K_list= 12, e_max=1, noise_sigma= 100.0)"
      ],
      "metadata": {
        "id": "8mEf3VosfIKr"
      },
      "execution_count": null,
      "outputs": []
    },
    {
      "cell_type": "code",
      "source": [
        "ds.plot_K(S=0, K_list= 12, e_max=2, noise_sigma= 100.0)"
      ],
      "metadata": {
        "id": "un1ZfBJIu5_2"
      },
      "execution_count": null,
      "outputs": []
    },
    {
      "cell_type": "code",
      "source": [
        "ds.plot_K(S=0, K_list= 12, e_max=3, noise_sigma= 100.0)"
      ],
      "metadata": {
        "id": "vvaXDvz2u6VU"
      },
      "execution_count": null,
      "outputs": []
    },
    {
      "cell_type": "code",
      "source": [],
      "metadata": {
        "id": "JxYr_9ytEil4"
      },
      "execution_count": null,
      "outputs": []
    }
  ]
}